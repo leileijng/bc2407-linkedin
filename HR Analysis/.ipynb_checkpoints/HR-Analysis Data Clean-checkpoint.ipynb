{
 "cells": [
  {
   "cell_type": "markdown",
   "metadata": {},
   "source": [
    "## Data Cleaning & Pre-processing\n",
    "![data-cleaning-in-python](https://daxg39y63pxwu.cloudfront.net/images/blog/data-cleaning-in-python/data-cleaning-in-python.png)\n",
    "\n",
    "First step of an analytics project is to clean the datasets and pre-processed it to make it suitable for use by analytical model and visualization\n"
   ]
  },
  {
   "cell_type": "code",
   "execution_count": null,
   "metadata": {},
   "outputs": [],
   "source": [
    "# import basic libraries\n",
    "import pandas as pd\n",
    "import numpy as np\n",
    "import seaborn as sb"
   ]
  },
  {
   "cell_type": "markdown",
   "metadata": {},
   "source": [
    "### 1. Import dataset into the notebook"
   ]
  },
  {
   "cell_type": "code",
   "execution_count": null,
   "metadata": {},
   "outputs": [],
   "source": [
    "train_df = pd.read_csv('datasets/aug_train.csv')\n",
    "train_df.info()"
   ]
  },
  {
   "cell_type": "code",
   "execution_count": null,
   "metadata": {},
   "outputs": [],
   "source": [
    "test_df = pd.read_csv('datasets/aug_test.csv')\n",
    "test_df.info()"
   ]
  },
  {
   "cell_type": "markdown",
   "metadata": {},
   "source": [
    "- combine train and test dataset and reshuffle "
   ]
  },
  {
   "cell_type": "markdown",
   "metadata": {},
   "source": [
    "(To write description)\n",
    "\n",
    "**About this dataset**\n",
    "- `Age` : Age of the patient\n",
    "- `Sex` : Sex of the patient\n",
    "- `exng`: exercise induced angina (1 = yes; 0 = no)\n",
    "- `caa`: number of major vessels (0-3)\n",
    "- `cp` : Chest Pain type chest pain type\n",
    "  - Value 1: typical angina\n",
    "  - Value 2: atypical angina\n",
    "  - Value 3: non-anginal pain\n",
    "  - Value 4: asymptomatic\n",
    "- `trtbps` : resting blood pressure (in mm Hg)\n",
    "- `chol` : cholestoral in mg/dl fetched via BMI sensor\n",
    "- `fbs` : (fasting blood sugar > 120 mg/dl) (1 = true; 0 = false)\n",
    "- `restecg` : resting electrocardiographic results\n",
    "  - Value 0: normal\n",
    "  - Value 1: having ST-T wave abnormality (T wave inversions and/or ST elevation or depression of > 0.05 mV)\n",
    "  - Value 2: showing probable or definite left ventricular hypertrophy by Estes' criteria\n",
    "- `thalach` : maximum heart rate achieved\n",
    "- `thall` : Thal rate\n",
    "- `output` : 0= less chance of heart attack 1= more chance of heart attack"
   ]
  },
  {
   "cell_type": "markdown",
   "metadata": {},
   "source": [
    "### 2. Data Cleaning & Pre-processing "
   ]
  },
  {
   "cell_type": "markdown",
   "metadata": {},
   "source": [
    "#### **2.1 Removing rows with NA values (if they exist)**\n",
    " - OR use algo to fill up missing values (knn imputation)"
   ]
  },
  {
   "cell_type": "markdown",
   "metadata": {},
   "source": [
    "#### **2.2 Cleaning up continuous variables**\n",
    "\n",
    "- Filter out outliers using confidential interval (95%?)\n",
    "- analyse based on column \n",
    "- give reasons why drop / not drop \n",
    "\n"
   ]
  },
  {
   "cell_type": "markdown",
   "metadata": {},
   "source": [
    "#### **2.3 Cleaning up categorical variables**"
   ]
  },
  {
   "cell_type": "markdown",
   "metadata": {},
   "source": [
    "- are the categorical variables  consistent in their values\n",
    "- are there missing values\n",
    "- are there unreasonable value (text?)"
   ]
  },
  {
   "cell_type": "markdown",
   "metadata": {},
   "source": [
    "#### **2.4 Encoding nominal (unordered) categorical variables using `OneHotEncoding` for predictors & `Integer Encoding` for response**\n",
    "The `?` dataset contains ? categorical predictor variables:\n",
    "- xx\n",
    "- xx\n",
    "- xx\n",
    "\n",
    "And 1 categorical response variable:\n",
    "- target\n"
   ]
  },
  {
   "cell_type": "markdown",
   "metadata": {},
   "source": [
    "**2.4 a) OneHotEncoding**"
   ]
  },
  {
   "cell_type": "code",
   "execution_count": null,
   "metadata": {},
   "outputs": [],
   "source": [
    "# Import the OneHotEncoder from sklearn\n",
    "\n",
    "## example provided \n",
    "from sklearn.preprocessing import OneHotEncoder\n",
    "\n",
    "ohe = OneHotEncoder()\n",
    "\n",
    "# OneHotEncoding of categorical predictors\n",
    "\n",
    "#cat_variables = [\n",
    "#    'Smoking', 'AlcoholDrinking', 'Stroke', 'DiffWalking',\n",
    "#    'Sex', 'AgeCategory', 'Race', 'Diabetic', 'PhysicalActivity',\n",
    "#    'GenHealth', 'Asthma', 'KidneyDisease', 'SkinCancer'\n",
    "#]\n",
    "\n",
    "#heart_pki_cat = heart_pki_original_df[cat_variables]\n",
    "\n",
    "#ohe.fit(heart_pki_cat)\n",
    "#heart_pki_cat_ohe = pd.DataFrame(\n",
    " #   ohe.transform(heart_pki_cat).toarray(),\n",
    "  #  columns=ohe.get_feature_names_out(heart_pki_cat.columns))\n",
    "\n",
    "# Check the encoded variables\n",
    "#heart_pki_cat_ohe.info()"
   ]
  },
  {
   "cell_type": "markdown",
   "metadata": {},
   "source": [
    "**2.4 b) Combine encoded dataframe with continuous variables**"
   ]
  },
  {
   "cell_type": "markdown",
   "metadata": {},
   "source": [
    "**2.4 c) Export encoded `xxx` dataframe as csv**"
   ]
  },
  {
   "cell_type": "code",
   "execution_count": null,
   "metadata": {},
   "outputs": [],
   "source": [
    "#??.to_csv('datasets/result.csv', index=False)"
   ]
  },
  {
   "cell_type": "markdown",
   "metadata": {},
   "source": [
    "#### **2.5 For correlation, do `Integer Encoding` for categorical variable with strings and categorical response**\n",
    "The `xx` dataset contains x categorical predictor variables that is strings:\n",
    "- \n",
    "\n",
    "**2.5 a) IntegerEncoding**"
   ]
  },
  {
   "cell_type": "markdown",
   "metadata": {},
   "source": [
    "Example (to be edited): \n",
    "For `HeartDisease`, `Smoking`, `AlcoholDrinking`, `Stroke`, `DiffWalking`, `Diabetic`, `PhysicalActivity`, `Asthma`, `KidneyDisease`, `SkinCancer`:\n",
    "- Yes: 1\n",
    "- No: 0"
   ]
  },
  {
   "cell_type": "code",
   "execution_count": null,
   "metadata": {},
   "outputs": [],
   "source": [
    "heart_pki_cor_df = heart_pki_original_df.copy()\n",
    "\n",
    "mapping = {\n",
    "    'HeartDisease': {\n",
    "        \"Yes\": 1,\n",
    "        \"No\": 0\n",
    "    },\n",
    "    'Smoking': {\n",
    "        \"Yes\": 1,\n",
    "        \"No\": 0\n",
    "    },\n",
    "    'AlcoholDrinking': {\n",
    "        \"Yes\": 1,\n",
    "        \"No\": 0\n",
    "    },\n",
    "    'Stroke': {\n",
    "        \"Yes\": 1,\n",
    "        \"No\": 0\n",
    "    },\n",
    "    'DiffWalking': {\n",
    "        \"Yes\": 1,\n",
    "        \"No\": 0\n",
    "    },\n",
    "    'Diabetic': {\n",
    "        \"Yes\": 2,\n",
    "        \"Yes (during pregnancy)\": 2,\n",
    "        \"No, borderline diabetes\": 1,\n",
    "        \"No\": 0\n",
    "    },\n",
    "    'PhysicalActivity': {\n",
    "        \"Yes\": 1,\n",
    "        \"No\": 0\n",
    "    },\n",
    "    'Asthma': {\n",
    "        \"Yes\": 1,\n",
    "        \"No\": 0\n",
    "    },\n",
    "    'KidneyDisease': {\n",
    "        \"Yes\": 1,\n",
    "        \"No\": 0\n",
    "    },\n",
    "    'SkinCancer': {\n",
    "        \"Yes\": 1,\n",
    "        \"No\": 0\n",
    "    },\n",
    "    'Sex': {\n",
    "        \"Female\": 1,\n",
    "        \"Male\": 0\n",
    "    },\n",
    "    'AgeCategory': {\n",
    "        \"18-24\": 0,\n",
    "        \"25-29\": 1,\n",
    "        \"30-34\": 2,\n",
    "        \"35-39\": 3,\n",
    "        \"40-44\": 4,\n",
    "        \"45-49\": 5,\n",
    "        \"50-54\": 6,\n",
    "        \"55-59\": 7,\n",
    "        \"60-64\": 8,\n",
    "        \"65-69\": 9,\n",
    "        \"70-74\": 10,\n",
    "        \"75-79\": 11,\n",
    "        \"80 or older\": 12\n",
    "    },\n",
    "    'Race': {\n",
    "        \"White\": 0,\n",
    "        \"Black\": 1,\n",
    "        \"Asian\": 2,\n",
    "        \"American Indian/Alaskan Native\": 3,\n",
    "        \"Hispanic\": 4,\n",
    "        \"Other\": 5\n",
    "    },\n",
    "    'GenHealth': {\n",
    "        \"Poor\": 0,\n",
    "        \"Fair\": 1,\n",
    "        \"Good\": 2,\n",
    "        \"Very good\": 3,\n",
    "        \"Excellent\": 4\n",
    "        \n",
    "    }\n",
    "}\n",
    "\n",
    "for mapping_type in mapping:\n",
    "    for val in mapping[mapping_type]:\n",
    "        condition = heart_pki_cor_df[mapping_type] == val\n",
    "        heart_pki_cor_df.loc[condition, mapping_type] = mapping[mapping_type][val]\n",
    "\n",
    "    print(mapping_type, ':', heart_pki_cor_df[mapping_type].unique())\n",
    "        \n",
    "\n"
   ]
  },
  {
   "cell_type": "markdown",
   "metadata": {},
   "source": [
    "**2.5 b) Export encoded `xx` dataframe as csv**"
   ]
  },
  {
   "cell_type": "code",
   "execution_count": 1,
   "metadata": {},
   "outputs": [],
   "source": [
    "#??.to_csv('datasets/??_correlation.csv', index=False)"
   ]
  },
  {
   "cell_type": "markdown",
   "metadata": {},
   "source": [
    "---\n",
    "\n",
    "#### Dataset created from this notebook:\n",
    "\n",
    "    .\n",
    "    ├── heart_pki_2020_original.csv       # original dataset\n",
    "    |   ├── heart_pki_2020_cleaned.csv        # for EDA and visualization\n",
    "    |   └── heart_pki_2020_encoded.csv        # for analytical models (OneHotEncoding done)\n",
    "    |\n",
    "    └──|\n",
    "\n",
    " "
   ]
  }
 ],
 "metadata": {
  "kernelspec": {
   "display_name": "Python 3 (ipykernel)",
   "language": "python",
   "name": "python3"
  },
  "language_info": {
   "codemirror_mode": {
    "name": "ipython",
    "version": 3
   },
   "file_extension": ".py",
   "mimetype": "text/x-python",
   "name": "python",
   "nbconvert_exporter": "python",
   "pygments_lexer": "ipython3",
   "version": "3.8.12"
  },
  "vscode": {
   "interpreter": {
    "hash": "81794d4967e6c3204c66dcd87b604927b115b27c00565d3d43f05ba2f3a2cb0d"
   }
  }
 },
 "nbformat": 4,
 "nbformat_minor": 2
}
