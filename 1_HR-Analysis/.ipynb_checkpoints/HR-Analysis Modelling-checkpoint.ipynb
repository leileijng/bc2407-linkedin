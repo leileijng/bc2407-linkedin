{
 "cells": [
  {
   "cell_type": "markdown",
   "metadata": {},
   "source": [
    "# HR-Analysis: Predicting Job-Seeker\n",
    "An analytical model to assist recruiters on LinkedIn to increase their recruitment success rate.\n",
    "\n",
    "<br>\n",
    "\n",
    "**Goal:**\n",
    "- obtain important features for predicting job-changer\n",
    "- the best model that automatically predict job-changer (>80% accuracy rate) \n",
    "\n",
    "**Dataset:**\n",
    "- shuffled_encoded.csv\n",
    "\n",
    "**Models:**\n",
    "1. CART\n",
    "2. Random Forest\n",
    "3. Support Vector Classifier (SVC)\n",
    "4. Extreme Gradient Boosting (XGBoost)\n",
    "5. Logistic Regression\n",
    "\n",
    "**PipeLine:**\n",
    "1. `Train-test split`\n",
    "2. Train on dataset (4 models)\n",
    "3. Final model `evaluation` with test dataset\n",
    "\n",
    "**Model Explainer:**\n",
    "- `SHapley Additive exPlanations (SHAP)` is employed to explain predictions of the random forest model for both individual record data and the weighted overall importance of each variable.\n",
    "- Hence, each data record can be well explained using SHAP algorithm, which provides a qualitative understanding between the input variables and the response to facilitate understanding and decision-making.\n",
    "\n",
    "<br>\n",
    "\n",
    "<hr>\n",
    "\n"
   ]
  },
  {
   "cell_type": "markdown",
   "metadata": {},
   "source": [
    "## 1) Pre-modelling preparations"
   ]
  },
  {
   "cell_type": "markdown",
   "metadata": {},
   "source": [
    "- Install dependencies\n",
    "- Import libraries and dataset\n",
    "- Train-test split + SMOTE\n",
    "- Evaluation metrics"
   ]
  },
  {
   "cell_type": "markdown",
   "metadata": {},
   "source": [
    "### 1.1 Import libraries and dataset"
   ]
  },
  {
   "cell_type": "markdown",
   "metadata": {},
   "source": [
    "#### 1.1 (a) Import libraries"
   ]
  },
  {
   "cell_type": "code",
   "execution_count": 1,
   "metadata": {},
   "outputs": [],
   "source": [
    "# import basic libraries\n",
    "import numpy as np \n",
    "import pandas as pd \n",
    "import os   \n",
    "import matplotlib\n",
    "import matplotlib.pyplot as plt\n",
    "import matplotlib.ticker as mtick\n",
    "import matplotlib.gridspec as grid_spec\n",
    "import seaborn as sb \n",
    "import squarify\n",
    "from sklearn import preprocessing\n",
    "from sklearn.svm import SVC\n",
    "from sklearn.pipeline import make_pipeline\n",
    "from sklearn.preprocessing import StandardScaler\n",
    "from sklearn.model_selection import train_test_split\n",
    "from sklearn.metrics import confusion_matrix, classification_report, accuracy_score, recall_score, precision_score, f1_score\n",
    "from xgboost import XGBClassifier\n",
    "from imblearn.over_sampling import RandomOverSampler\n",
    "from collections import Counter\n",
    "from sklearn.preprocessing import OrdinalEncoder\n",
    "from sklearn.compose import ColumnTransformer\n",
    "from sklearn.tree import DecisionTreeClassifier\n",
    "from sklearn.metrics import plot_roc_curve\n",
    "from sklearn.dummy import DummyClassifier\n",
    "from sklearn.ensemble import RandomForestClassifier\n",
    "from sklearn.linear_model import LogisticRegression\n",
    "from sklearn.neighbors import KNeighborsClassifier\n",
    "from sklearn.neural_network import MLPClassifier\n",
    "from sklearn.ensemble import AdaBoostClassifier\n",
    "from sklearn.model_selection import GridSearchCV, cross_val_score, StratifiedKFold, learning_curve\n",
    "from sklearn.tree import plot_tree"
   ]
  },
  {
   "cell_type": "markdown",
   "metadata": {},
   "source": [
    "#### 1.1 (b) Import dataset"
   ]
  },
  {
   "cell_type": "code",
   "execution_count": 2,
   "metadata": {},
   "outputs": [
    {
     "name": "stdout",
     "output_type": "stream",
     "text": [
      "<class 'pandas.core.frame.DataFrame'>\n",
      "RangeIndex: 18253 entries, 0 to 18252\n",
      "Data columns (total 20 columns):\n",
      " #   Column                            Non-Null Count  Dtype  \n",
      "---  ------                            --------------  -----  \n",
      " 0   city_development_index            18253 non-null  float64\n",
      " 1   relevent_experience               18253 non-null  int64  \n",
      " 2   enrolled_university               18253 non-null  float64\n",
      " 3   education_level                   18253 non-null  float64\n",
      " 4   experience                        18253 non-null  int64  \n",
      " 5   company_size                      18253 non-null  float64\n",
      " 6   company_type                      18253 non-null  float64\n",
      " 7   last_new_job                      18253 non-null  int64  \n",
      " 8   training_hours                    18253 non-null  int64  \n",
      " 9   target                            18253 non-null  float64\n",
      " 10  gender_Female                     18253 non-null  float64\n",
      " 11  gender_Male                       18253 non-null  float64\n",
      " 12  gender_Not provided               18253 non-null  float64\n",
      " 13  gender_Other                      18253 non-null  float64\n",
      " 14  major_discipline_Arts             18253 non-null  float64\n",
      " 15  major_discipline_Business Degree  18253 non-null  float64\n",
      " 16  major_discipline_Humanities       18253 non-null  float64\n",
      " 17  major_discipline_No Major         18253 non-null  float64\n",
      " 18  major_discipline_Other            18253 non-null  float64\n",
      " 19  major_discipline_STEM             18253 non-null  float64\n",
      "dtypes: float64(16), int64(4)\n",
      "memory usage: 2.8 MB\n"
     ]
    }
   ],
   "source": [
    "df = pd.read_csv('archive/shuffled_encoded.csv')\n",
    "df.info()"
   ]
  },
  {
   "cell_type": "code",
   "execution_count": 3,
   "metadata": {
    "scrolled": false
   },
   "outputs": [
    {
     "data": {
      "text/html": [
       "<div>\n",
       "<style scoped>\n",
       "    .dataframe tbody tr th:only-of-type {\n",
       "        vertical-align: middle;\n",
       "    }\n",
       "\n",
       "    .dataframe tbody tr th {\n",
       "        vertical-align: top;\n",
       "    }\n",
       "\n",
       "    .dataframe thead th {\n",
       "        text-align: right;\n",
       "    }\n",
       "</style>\n",
       "<table border=\"1\" class=\"dataframe\">\n",
       "  <thead>\n",
       "    <tr style=\"text-align: right;\">\n",
       "      <th></th>\n",
       "      <th>city_development_index</th>\n",
       "      <th>relevent_experience</th>\n",
       "      <th>enrolled_university</th>\n",
       "      <th>education_level</th>\n",
       "      <th>experience</th>\n",
       "      <th>company_size</th>\n",
       "      <th>company_type</th>\n",
       "      <th>last_new_job</th>\n",
       "      <th>training_hours</th>\n",
       "      <th>target</th>\n",
       "      <th>gender_Female</th>\n",
       "      <th>gender_Male</th>\n",
       "      <th>gender_Not provided</th>\n",
       "      <th>gender_Other</th>\n",
       "      <th>major_discipline_Arts</th>\n",
       "      <th>major_discipline_Business Degree</th>\n",
       "      <th>major_discipline_Humanities</th>\n",
       "      <th>major_discipline_No Major</th>\n",
       "      <th>major_discipline_Other</th>\n",
       "      <th>major_discipline_STEM</th>\n",
       "    </tr>\n",
       "  </thead>\n",
       "  <tbody>\n",
       "    <tr>\n",
       "      <th>0</th>\n",
       "      <td>0.924</td>\n",
       "      <td>1</td>\n",
       "      <td>2.0</td>\n",
       "      <td>0.0</td>\n",
       "      <td>11</td>\n",
       "      <td>3.0</td>\n",
       "      <td>5.0</td>\n",
       "      <td>1</td>\n",
       "      <td>8</td>\n",
       "      <td>0.0</td>\n",
       "      <td>0.0</td>\n",
       "      <td>1.0</td>\n",
       "      <td>0.0</td>\n",
       "      <td>0.0</td>\n",
       "      <td>0.0</td>\n",
       "      <td>0.0</td>\n",
       "      <td>0.0</td>\n",
       "      <td>0.0</td>\n",
       "      <td>0.0</td>\n",
       "      <td>1.0</td>\n",
       "    </tr>\n",
       "    <tr>\n",
       "      <th>1</th>\n",
       "      <td>0.804</td>\n",
       "      <td>1</td>\n",
       "      <td>0.0</td>\n",
       "      <td>3.0</td>\n",
       "      <td>17</td>\n",
       "      <td>3.0</td>\n",
       "      <td>2.0</td>\n",
       "      <td>1</td>\n",
       "      <td>57</td>\n",
       "      <td>0.0</td>\n",
       "      <td>0.0</td>\n",
       "      <td>1.0</td>\n",
       "      <td>0.0</td>\n",
       "      <td>0.0</td>\n",
       "      <td>0.0</td>\n",
       "      <td>0.0</td>\n",
       "      <td>0.0</td>\n",
       "      <td>0.0</td>\n",
       "      <td>0.0</td>\n",
       "      <td>1.0</td>\n",
       "    </tr>\n",
       "    <tr>\n",
       "      <th>2</th>\n",
       "      <td>0.920</td>\n",
       "      <td>1</td>\n",
       "      <td>0.0</td>\n",
       "      <td>3.0</td>\n",
       "      <td>11</td>\n",
       "      <td>3.0</td>\n",
       "      <td>6.0</td>\n",
       "      <td>1</td>\n",
       "      <td>32</td>\n",
       "      <td>0.0</td>\n",
       "      <td>0.0</td>\n",
       "      <td>1.0</td>\n",
       "      <td>0.0</td>\n",
       "      <td>0.0</td>\n",
       "      <td>0.0</td>\n",
       "      <td>0.0</td>\n",
       "      <td>0.0</td>\n",
       "      <td>0.0</td>\n",
       "      <td>0.0</td>\n",
       "      <td>1.0</td>\n",
       "    </tr>\n",
       "    <tr>\n",
       "      <th>3</th>\n",
       "      <td>0.920</td>\n",
       "      <td>1</td>\n",
       "      <td>2.0</td>\n",
       "      <td>3.0</td>\n",
       "      <td>9</td>\n",
       "      <td>5.0</td>\n",
       "      <td>5.0</td>\n",
       "      <td>1</td>\n",
       "      <td>168</td>\n",
       "      <td>0.0</td>\n",
       "      <td>0.0</td>\n",
       "      <td>1.0</td>\n",
       "      <td>0.0</td>\n",
       "      <td>0.0</td>\n",
       "      <td>0.0</td>\n",
       "      <td>0.0</td>\n",
       "      <td>0.0</td>\n",
       "      <td>0.0</td>\n",
       "      <td>0.0</td>\n",
       "      <td>1.0</td>\n",
       "    </tr>\n",
       "    <tr>\n",
       "      <th>4</th>\n",
       "      <td>0.893</td>\n",
       "      <td>0</td>\n",
       "      <td>0.0</td>\n",
       "      <td>2.0</td>\n",
       "      <td>20</td>\n",
       "      <td>6.0</td>\n",
       "      <td>6.0</td>\n",
       "      <td>2</td>\n",
       "      <td>47</td>\n",
       "      <td>0.0</td>\n",
       "      <td>0.0</td>\n",
       "      <td>1.0</td>\n",
       "      <td>0.0</td>\n",
       "      <td>0.0</td>\n",
       "      <td>0.0</td>\n",
       "      <td>0.0</td>\n",
       "      <td>0.0</td>\n",
       "      <td>0.0</td>\n",
       "      <td>0.0</td>\n",
       "      <td>1.0</td>\n",
       "    </tr>\n",
       "  </tbody>\n",
       "</table>\n",
       "</div>"
      ],
      "text/plain": [
       "   city_development_index  relevent_experience  enrolled_university  \\\n",
       "0                   0.924                    1                  2.0   \n",
       "1                   0.804                    1                  0.0   \n",
       "2                   0.920                    1                  0.0   \n",
       "3                   0.920                    1                  2.0   \n",
       "4                   0.893                    0                  0.0   \n",
       "\n",
       "   education_level  experience  company_size  company_type  last_new_job  \\\n",
       "0              0.0          11           3.0           5.0             1   \n",
       "1              3.0          17           3.0           2.0             1   \n",
       "2              3.0          11           3.0           6.0             1   \n",
       "3              3.0           9           5.0           5.0             1   \n",
       "4              2.0          20           6.0           6.0             2   \n",
       "\n",
       "   training_hours  target  gender_Female  gender_Male  gender_Not provided  \\\n",
       "0               8     0.0            0.0          1.0                  0.0   \n",
       "1              57     0.0            0.0          1.0                  0.0   \n",
       "2              32     0.0            0.0          1.0                  0.0   \n",
       "3             168     0.0            0.0          1.0                  0.0   \n",
       "4              47     0.0            0.0          1.0                  0.0   \n",
       "\n",
       "   gender_Other  major_discipline_Arts  major_discipline_Business Degree  \\\n",
       "0           0.0                    0.0                               0.0   \n",
       "1           0.0                    0.0                               0.0   \n",
       "2           0.0                    0.0                               0.0   \n",
       "3           0.0                    0.0                               0.0   \n",
       "4           0.0                    0.0                               0.0   \n",
       "\n",
       "   major_discipline_Humanities  major_discipline_No Major  \\\n",
       "0                          0.0                        0.0   \n",
       "1                          0.0                        0.0   \n",
       "2                          0.0                        0.0   \n",
       "3                          0.0                        0.0   \n",
       "4                          0.0                        0.0   \n",
       "\n",
       "   major_discipline_Other  major_discipline_STEM  \n",
       "0                     0.0                    1.0  \n",
       "1                     0.0                    1.0  \n",
       "2                     0.0                    1.0  \n",
       "3                     0.0                    1.0  \n",
       "4                     0.0                    1.0  "
      ]
     },
     "execution_count": 3,
     "metadata": {},
     "output_type": "execute_result"
    }
   ],
   "source": [
    "df.head()"
   ]
  },
  {
   "cell_type": "markdown",
   "metadata": {},
   "source": [
    "#### 1.1 (c) Exploring the response variable, `target`"
   ]
  },
  {
   "cell_type": "markdown",
   "metadata": {},
   "source": [
    "**(i) Shifting the column `target` to the last column of the dataframe**"
   ]
  },
  {
   "cell_type": "code",
   "execution_count": 4,
   "metadata": {},
   "outputs": [
    {
     "data": {
      "text/html": [
       "<div>\n",
       "<style scoped>\n",
       "    .dataframe tbody tr th:only-of-type {\n",
       "        vertical-align: middle;\n",
       "    }\n",
       "\n",
       "    .dataframe tbody tr th {\n",
       "        vertical-align: top;\n",
       "    }\n",
       "\n",
       "    .dataframe thead th {\n",
       "        text-align: right;\n",
       "    }\n",
       "</style>\n",
       "<table border=\"1\" class=\"dataframe\">\n",
       "  <thead>\n",
       "    <tr style=\"text-align: right;\">\n",
       "      <th></th>\n",
       "      <th>city_development_index</th>\n",
       "      <th>relevent_experience</th>\n",
       "      <th>enrolled_university</th>\n",
       "      <th>education_level</th>\n",
       "      <th>experience</th>\n",
       "      <th>company_size</th>\n",
       "      <th>company_type</th>\n",
       "      <th>last_new_job</th>\n",
       "      <th>training_hours</th>\n",
       "      <th>gender_Female</th>\n",
       "      <th>gender_Male</th>\n",
       "      <th>gender_Not provided</th>\n",
       "      <th>gender_Other</th>\n",
       "      <th>major_discipline_Arts</th>\n",
       "      <th>major_discipline_Business Degree</th>\n",
       "      <th>major_discipline_Humanities</th>\n",
       "      <th>major_discipline_No Major</th>\n",
       "      <th>major_discipline_Other</th>\n",
       "      <th>major_discipline_STEM</th>\n",
       "      <th>target</th>\n",
       "    </tr>\n",
       "  </thead>\n",
       "  <tbody>\n",
       "    <tr>\n",
       "      <th>0</th>\n",
       "      <td>0.924</td>\n",
       "      <td>1</td>\n",
       "      <td>2.0</td>\n",
       "      <td>0.0</td>\n",
       "      <td>11</td>\n",
       "      <td>3.0</td>\n",
       "      <td>5.0</td>\n",
       "      <td>1</td>\n",
       "      <td>8</td>\n",
       "      <td>0.0</td>\n",
       "      <td>1.0</td>\n",
       "      <td>0.0</td>\n",
       "      <td>0.0</td>\n",
       "      <td>0.0</td>\n",
       "      <td>0.0</td>\n",
       "      <td>0.0</td>\n",
       "      <td>0.0</td>\n",
       "      <td>0.0</td>\n",
       "      <td>1.0</td>\n",
       "      <td>0.0</td>\n",
       "    </tr>\n",
       "    <tr>\n",
       "      <th>1</th>\n",
       "      <td>0.804</td>\n",
       "      <td>1</td>\n",
       "      <td>0.0</td>\n",
       "      <td>3.0</td>\n",
       "      <td>17</td>\n",
       "      <td>3.0</td>\n",
       "      <td>2.0</td>\n",
       "      <td>1</td>\n",
       "      <td>57</td>\n",
       "      <td>0.0</td>\n",
       "      <td>1.0</td>\n",
       "      <td>0.0</td>\n",
       "      <td>0.0</td>\n",
       "      <td>0.0</td>\n",
       "      <td>0.0</td>\n",
       "      <td>0.0</td>\n",
       "      <td>0.0</td>\n",
       "      <td>0.0</td>\n",
       "      <td>1.0</td>\n",
       "      <td>0.0</td>\n",
       "    </tr>\n",
       "    <tr>\n",
       "      <th>2</th>\n",
       "      <td>0.920</td>\n",
       "      <td>1</td>\n",
       "      <td>0.0</td>\n",
       "      <td>3.0</td>\n",
       "      <td>11</td>\n",
       "      <td>3.0</td>\n",
       "      <td>6.0</td>\n",
       "      <td>1</td>\n",
       "      <td>32</td>\n",
       "      <td>0.0</td>\n",
       "      <td>1.0</td>\n",
       "      <td>0.0</td>\n",
       "      <td>0.0</td>\n",
       "      <td>0.0</td>\n",
       "      <td>0.0</td>\n",
       "      <td>0.0</td>\n",
       "      <td>0.0</td>\n",
       "      <td>0.0</td>\n",
       "      <td>1.0</td>\n",
       "      <td>0.0</td>\n",
       "    </tr>\n",
       "    <tr>\n",
       "      <th>3</th>\n",
       "      <td>0.920</td>\n",
       "      <td>1</td>\n",
       "      <td>2.0</td>\n",
       "      <td>3.0</td>\n",
       "      <td>9</td>\n",
       "      <td>5.0</td>\n",
       "      <td>5.0</td>\n",
       "      <td>1</td>\n",
       "      <td>168</td>\n",
       "      <td>0.0</td>\n",
       "      <td>1.0</td>\n",
       "      <td>0.0</td>\n",
       "      <td>0.0</td>\n",
       "      <td>0.0</td>\n",
       "      <td>0.0</td>\n",
       "      <td>0.0</td>\n",
       "      <td>0.0</td>\n",
       "      <td>0.0</td>\n",
       "      <td>1.0</td>\n",
       "      <td>0.0</td>\n",
       "    </tr>\n",
       "    <tr>\n",
       "      <th>4</th>\n",
       "      <td>0.893</td>\n",
       "      <td>0</td>\n",
       "      <td>0.0</td>\n",
       "      <td>2.0</td>\n",
       "      <td>20</td>\n",
       "      <td>6.0</td>\n",
       "      <td>6.0</td>\n",
       "      <td>2</td>\n",
       "      <td>47</td>\n",
       "      <td>0.0</td>\n",
       "      <td>1.0</td>\n",
       "      <td>0.0</td>\n",
       "      <td>0.0</td>\n",
       "      <td>0.0</td>\n",
       "      <td>0.0</td>\n",
       "      <td>0.0</td>\n",
       "      <td>0.0</td>\n",
       "      <td>0.0</td>\n",
       "      <td>1.0</td>\n",
       "      <td>0.0</td>\n",
       "    </tr>\n",
       "  </tbody>\n",
       "</table>\n",
       "</div>"
      ],
      "text/plain": [
       "   city_development_index  relevent_experience  enrolled_university  \\\n",
       "0                   0.924                    1                  2.0   \n",
       "1                   0.804                    1                  0.0   \n",
       "2                   0.920                    1                  0.0   \n",
       "3                   0.920                    1                  2.0   \n",
       "4                   0.893                    0                  0.0   \n",
       "\n",
       "   education_level  experience  company_size  company_type  last_new_job  \\\n",
       "0              0.0          11           3.0           5.0             1   \n",
       "1              3.0          17           3.0           2.0             1   \n",
       "2              3.0          11           3.0           6.0             1   \n",
       "3              3.0           9           5.0           5.0             1   \n",
       "4              2.0          20           6.0           6.0             2   \n",
       "\n",
       "   training_hours  gender_Female  gender_Male  gender_Not provided  \\\n",
       "0               8            0.0          1.0                  0.0   \n",
       "1              57            0.0          1.0                  0.0   \n",
       "2              32            0.0          1.0                  0.0   \n",
       "3             168            0.0          1.0                  0.0   \n",
       "4              47            0.0          1.0                  0.0   \n",
       "\n",
       "   gender_Other  major_discipline_Arts  major_discipline_Business Degree  \\\n",
       "0           0.0                    0.0                               0.0   \n",
       "1           0.0                    0.0                               0.0   \n",
       "2           0.0                    0.0                               0.0   \n",
       "3           0.0                    0.0                               0.0   \n",
       "4           0.0                    0.0                               0.0   \n",
       "\n",
       "   major_discipline_Humanities  major_discipline_No Major  \\\n",
       "0                          0.0                        0.0   \n",
       "1                          0.0                        0.0   \n",
       "2                          0.0                        0.0   \n",
       "3                          0.0                        0.0   \n",
       "4                          0.0                        0.0   \n",
       "\n",
       "   major_discipline_Other  major_discipline_STEM  target  \n",
       "0                     0.0                    1.0     0.0  \n",
       "1                     0.0                    1.0     0.0  \n",
       "2                     0.0                    1.0     0.0  \n",
       "3                     0.0                    1.0     0.0  \n",
       "4                     0.0                    1.0     0.0  "
      ]
     },
     "execution_count": 4,
     "metadata": {},
     "output_type": "execute_result"
    }
   ],
   "source": [
    "temp = df['target']\n",
    "df.pop('target') # remove column of predictor and store it in df1\n",
    "df['target']=temp # add back to the last column\n",
    "data = df\n",
    "data.head()"
   ]
  },
  {
   "cell_type": "markdown",
   "metadata": {},
   "source": [
    "**(ii) Display level counts of `target` variable**"
   ]
  },
  {
   "cell_type": "code",
   "execution_count": 5,
   "metadata": {},
   "outputs": [
    {
     "data": {
      "text/plain": [
       "0.0    13838\n",
       "1.0     4415\n",
       "Name: target, dtype: int64"
      ]
     },
     "execution_count": 5,
     "metadata": {},
     "output_type": "execute_result"
    }
   ],
   "source": [
    "data['target'].value_counts()"
   ]
  },
  {
   "cell_type": "markdown",
   "metadata": {},
   "source": [
    "**(iii) Display distribution of `target` in a diagram**"
   ]
  },
  {
   "cell_type": "code",
   "execution_count": 6,
   "metadata": {},
   "outputs": [
    {
     "name": "stderr",
     "output_type": "stream",
     "text": [
      "/var/folders/xr/3fgdpnbj38v_32gf1_x3h2x00000gn/T/ipykernel_33612/3483243422.py:13: MatplotlibDeprecationWarning: Support for passing numbers through unit converters is deprecated since 3.5 and support will be removed two minor releases later; use Axis.convert_units instead.\n",
      "  ax.set_yticks([])\n"
     ]
    },
    {
     "data": {
      "image/png": "[encoded data removed]",
      "text/plain": [
       "<Figure size 975x300 with 1 Axes>"
      ]
     },
     "metadata": {},
     "output_type": "display_data"
    }
   ],
   "source": [
    "x=data.groupby(['target'])['target'].count()\n",
    "y=len(data)\n",
    "r=((x/y)).round(2)\n",
    "ratio = pd.DataFrame(r).T\n",
    "\n",
    "fig, ax = plt.subplots(1,1,figsize=(6.5, 2),dpi=150)\n",
    "\n",
    "ax.barh(ratio.index, ratio[1.0], color='lightblue', alpha=0.9, ec=\"white\", label='Job-Seeker')\n",
    "ax.barh(ratio.index, ratio[0.0], left=ratio[1.0], color='gray', alpha=0.9,ec='w', label='Non Job-Seeker')\n",
    "\n",
    "ax.set_xlim(0, 1)\n",
    "ax.set_xticks([])\n",
    "ax.set_yticks([])\n",
    "ax.legend().set_visible(False)\n",
    "for s in ['top', 'left', 'right', 'bottom']:\n",
    "    ax.spines[s].set_visible(False)\n",
    "    \n",
    "for i in ratio.index:\n",
    "    ax.annotate(f\"{int(ratio[1.0][i]*100)}%\", xy=(ratio[1.0][i]/2, i),va = 'center', ha='center',fontsize=32, fontweight='light', fontfamily='serif',color='white')\n",
    "    ax.annotate(\"Job-Seeker\", xy=(ratio[1.0][i]/2, -0.25),va = 'center', ha='center',fontsize=12, fontweight='light', fontfamily='serif',color='white')\n",
    "    \n",
    "    \n",
    "for i in ratio.index:\n",
    "    ax.annotate(f\"{int(ratio[0.0][i]*100)}%\", xy=(ratio[1.0][i]+ratio[0.0][i]/2, i),va = 'center', ha='center',fontsize=32, fontweight='light', fontfamily='serif',color='white')\n",
    "    ax.annotate(\"Non Job-Seeker\", xy=(ratio[1.0][i]+ratio[0.0][i]/2, -0.25),va = 'center', ha='center',fontsize=12, fontweight='light', fontfamily='serif',color='white')\n"
   ]
  },
  {
   "cell_type": "markdown",
   "metadata": {},
   "source": [
    "### 1.2 Train-Test Split"
   ]
  },
  {
   "cell_type": "code",
   "execution_count": 7,
   "metadata": {
    "scrolled": true
   },
   "outputs": [
    {
     "name": "stdout",
     "output_type": "stream",
     "text": [
      "X_train shape: (12777, 19)\n",
      "y_train shape: (12777, 1)\n",
      "X_test shape: (5476, 19)\n"
     ]
    }
   ],
   "source": [
    "from sklearn.preprocessing import StandardScaler\n",
    "from sklearn.model_selection import train_test_split\n",
    "\n",
    "#First normalize the data\n",
    "\n",
    "#X = StandardScaler().fit_transform(data.iloc[:,:-1])\n",
    "X = pd.DataFrame(data,columns = data.columns[:-1])\n",
    "\n",
    "#X = data.loc[:, data.columns != 'target']\n",
    "y = data.loc[:, data.columns == 'target']\n",
    "\n",
    "X_train, X_test, y_train, y_test = train_test_split(X, y, test_size=0.3, random_state=0)\n",
    "\n",
    "print('X_train shape: {}'.format(X_train.shape))\n",
    "print('y_train shape: {}'.format(y_train.shape))\n",
    "print('X_test shape: {}'.format(X_test.shape))"
   ]
  },
  {
   "cell_type": "markdown",
   "metadata": {},
   "source": [
    "### 1.3 Synthetic Minority Oversampling Technique (SMOTE)\n",
    "- Oversampling on trainset"
   ]
  },
  {
   "cell_type": "code",
   "execution_count": 8,
   "metadata": {},
   "outputs": [
    {
     "name": "stdout",
     "output_type": "stream",
     "text": [
      "===== Oversampled data =====\n",
      "Total number of rows: 19310\n",
      "Number of target == 0 rows: 9655\n",
      "Number of target == 1 rows: 9655\n",
      "Proportion of target == 0: 0.5\n",
      "Proportion of target == 1: 0.5\n"
     ]
    }
   ],
   "source": [
    "from imblearn.over_sampling import SMOTE\n",
    "\n",
    "os = SMOTE(random_state=0)\n",
    "\n",
    "X_train_os, y_train_os = os.fit_resample(X_train, y_train)\n",
    "X_train_os = pd.DataFrame(data = X_train_os, columns = X.columns)\n",
    "y_train_os = pd.DataFrame(data = y_train_os, columns = y.columns)\n",
    "\n",
    "\n",
    "# check the oversampled data (train)\n",
    "print(\"===== Oversampled data =====\")\n",
    "\n",
    "num_of_job_seeker = len(y_train_os[y_train_os['target'] == 1])\n",
    "num_of_no_job_seeker = len(y_train_os[y_train_os['target'] == 0])\n",
    "num_rows = len(X_train_os)\n",
    "\n",
    "print(\"Total number of rows:\", num_rows)\n",
    "print(\"Number of target == 0 rows:\", num_of_no_job_seeker)\n",
    "print(\"Number of target == 1 rows:\", num_of_job_seeker)\n",
    "\n",
    "print(\"Proportion of target == 0:\", num_of_no_job_seeker/num_rows)\n",
    "print(\"Proportion of target == 1:\", num_of_job_seeker/num_rows)"
   ]
  },
  {
   "cell_type": "markdown",
   "metadata": {},
   "source": [
    "### 1.4 Metrics to Measure Performance"
   ]
  },
  {
   "cell_type": "markdown",
   "metadata": {},
   "source": [
    "- Classification Accuracy (5-fold cross validation with roc-auc-score)\n",
    "- Confusion Matrix with true positive rate and false negative rate\n",
    "- Precision, Recall, and F-score\n",
    "- Out-of-bag (oob) score (for random forest)\n",
    "- ROC AUC Curve score\n",
    "\n",
    "<br>\n",
    "\n",
    "**Why ROC AUC Score instead of overall accuracy for the 5-fold cross validation score (we will term it as classification accuracy for eaiser understanding for business stakeholders)?**\n",
    "- We care equally about true positive and true negative classes\n",
    "- AUC calibrates the trade-off between sensitivity and specificity at the best-chosen threshold\n",
    "- While overall accuracy measures how well a single model is doing, AUC compares two models as well as evaluates the same model's performance across different thresholds\n",
    "\n",
    "<br>\n",
    "\n",
    "**Reference:**\n",
    "- https://neptune.ai/blog/f1-score-accuracy-roc-auc-pr-auc\n",
    "- https://www.kdnuggets.com/2022/10/metric-accuracy-auc.html\n",
    "- https://github.com/ztjhz/SC1015-Project/blob/main/Anime/classification.ipynb (done by Jing Qiang from SC1015 module 🐱‍👤)"
   ]
  },
  {
   "cell_type": "code",
   "execution_count": 9,
   "metadata": {},
   "outputs": [],
   "source": [
    "# Confusion Matrix\n",
    "from tabulate import tabulate\n",
    "def confusion_matrix_TPR_TNR(y, y_pred, scores, train_test_string):\n",
    "    from sklearn.metrics import confusion_matrix\n",
    "    \n",
    "    # Confusion Matrix\n",
    "    c_matrix = confusion_matrix(y, y_pred)\n",
    "\n",
    "    # True Negatives, False Positives, False Negatives, True Positives\n",
    "    TN, FP, FN, TP = c_matrix.ravel()\n",
    "\n",
    "    # True Positive Rate, True Negative Rate, False Positive Rate, False Negative Rate\n",
    "    TPR = TP/(TP+FN)\n",
    "    TNR = TN/(TN+FP)\n",
    "    FPR = FP/(TN+FP)\n",
    "    FNR = FN/(TP+FN)\n",
    "\n",
    "    table = [[\"Classification Accuracy\", scores.mean()],\n",
    "         [\"True Positive Rate\", TPR],\n",
    "         [\"True Negative Rate\", TNR],\n",
    "         [\"False Positive Rate\", FPR],\n",
    "         [\"False Negative Rate\", FNR]]\n",
    "\n",
    "    print(tabulate(table, headers=[\"Metric\", \"Value\"], tablefmt=\"grid\"))\n",
    "\n",
    "    # Plot the Confusion Matrix\n",
    "    plt.figure(figsize=(5, 3))\n",
    "    sb.heatmap(c_matrix, \n",
    "               annot = True, \n",
    "               fmt=\".0f\", \n",
    "               annot_kws={\"size\": 18}).set(title=f\"Confusion Matrix ({train_test_string} Dataset)\")\n",
    "    print()\n",
    "    return scores.mean(), TPR, TNR, FPR, FNR "
   ]
  },
  {
   "cell_type": "code",
   "execution_count": 10,
   "metadata": {},
   "outputs": [],
   "source": [
    "# Precision and Recall\n",
    "def get_precision_recall(y, y_pred):\n",
    "    from sklearn.metrics import precision_score, recall_score\n",
    "    precision = precision_score(y, y_pred)\n",
    "    recall = recall_score(y, y_pred)\n",
    "    \n",
    "    print(\"Precision:\", precision)\n",
    "    print(\"Recall:\", recall)\n",
    "    \n",
    "    return precision, recall\n",
    "\n",
    "# F-score\n",
    "def get_f1_score(y, y_pred):\n",
    "    from sklearn.metrics import f1_score\n",
    "    \n",
    "    f1 = f1_score(y, y_pred)\n",
    "    \n",
    "    print(\"f1_score:\", f1)\n",
    "    \n",
    "    return f1"
   ]
  },
  {
   "cell_type": "code",
   "execution_count": 11,
   "metadata": {},
   "outputs": [],
   "source": [
    "# Out-of-bag (oob) score\n",
    "def get_oob_score(random_forest):\n",
    "    print(\"oob score:\", round(random_forest.oob_score_ * 100, 2), \"%\")"
   ]
  },
  {
   "cell_type": "code",
   "execution_count": 12,
   "metadata": {},
   "outputs": [],
   "source": [
    "# ROC AUC Curve score\n",
    "def ROC_AUC(random_forest, X_train, y_train, train_test):\n",
    "    try:\n",
    "        # getting the probabilities of our predictions\n",
    "        y_scores = random_forest.predict_proba(X_train)\n",
    "        y_scores = y_scores[:,1]\n",
    "\n",
    "        from sklearn.metrics import roc_curve\n",
    "        # compute true positive rate and false positive rate\n",
    "        false_positive_rate, true_positive_rate, thresholds = roc_curve(y_train, y_scores)\n",
    "\n",
    "        # plotting them against each other\n",
    "        def plot_roc_curve(false_positive_rate, true_positive_rate, label=None):\n",
    "            plt.plot(false_positive_rate, true_positive_rate, linewidth=2, label=label)\n",
    "            plt.plot([0, 1], [0, 1], 'r', linewidth=4)\n",
    "            plt.axis([0, 1, 0, 1])\n",
    "            plt.xlabel('False Positive Rate (FPR)', fontsize=16)\n",
    "            plt.ylabel('True Positive Rate (TPR)', fontsize=16)\n",
    "            plt.title(f'{train_test} Dataset')\n",
    "\n",
    "        plt.figure(figsize=(8, 5))\n",
    "        plot_roc_curve(false_positive_rate, true_positive_rate)\n",
    "        plt.show()\n",
    "\n",
    "\n",
    "        # ROC AUC Score\n",
    "        from sklearn.metrics import roc_auc_score\n",
    "        r_a_score = roc_auc_score(y_train, y_scores)\n",
    "        print(\"ROC-AUC-Score:\", r_a_score)\n",
    "    except:\n",
    "        pass"
   ]
  },
  {
   "cell_type": "markdown",
   "metadata": {},
   "source": [
    "**Function that evaluates a classifier model's performance based on various metrics**\n",
    "- Cross Validation prediction (CV=5)"
   ]
  },
  {
   "cell_type": "code",
   "execution_count": 13,
   "metadata": {},
   "outputs": [],
   "source": [
    "# Cross validate model with Kfold stratified cross val\n",
    "kfold = StratifiedKFold(n_splits=5)"
   ]
  },
  {
   "cell_type": "code",
   "execution_count": 14,
   "metadata": {},
   "outputs": [],
   "source": [
    "def model_performance(classifier_model, X_train, X_test, y_train, y_test):\n",
    "    #Predict values based on new parameters\n",
    "    \n",
    "    y_train_pred = classifier_model.predict(X_train)\n",
    "    y_test_pred = classifier_model.predict(X_test)\n",
    "\n",
    "    train_scores = accuracy_score(y_train, y_train_pred)\n",
    "    test_scores = accuracy_score(y_test, y_test_pred)\n",
    "\n",
    "    print(\"-----\\n-> Test Dataset\")\n",
    "    (acc_test, TPR, TNR, FPR, FNR)  = confusion_matrix_TPR_TNR(y_test, y_test_pred, test_scores, \"Test\")\n",
    "    p_test,r_test = get_precision_recall(y_test, y_test_pred)\n",
    "    f1_test = get_f1_score(y_test, y_test_pred)\n",
    "    ROC_AUC(classifier_model, X_test, y_test, \"Test\")\n",
    "    print('-----\\n')\n",
    "    \n",
    "    #return acc_train,p_train,r_train,f1_train,acc_test,p_test,r_test,f1_test\n",
    "    \n",
    "    return acc_test, TPR, TNR, FPR, FNR,p_test,r_test,f1_test"
   ]
  },
  {
   "cell_type": "markdown",
   "metadata": {},
   "source": [
    "## 2) Feature Selection \n"
   ]
  },
  {
   "cell_type": "markdown",
   "metadata": {},
   "source": [
    "### 2.1 Tree Family: Obtaining Feature Importance Scores and their Mean Values for each model"
   ]
  },
  {
   "cell_type": "markdown",
   "metadata": {},
   "source": [
    "Select best features to be used in machine learning models based on Multi-model feature score weighted screening:\n",
    "1. Decision Tree\n",
    "2. Random Forest \n",
    "3. Extra Trees\n",
    "4. GradientBoostingClassifier"
   ]
  },
  {
   "cell_type": "markdown",
   "metadata": {},
   "source": [
    "#### 2.1 (a) Obtaining Feature Importance Scores for each model"
   ]
  },
  {
   "cell_type": "code",
   "execution_count": 15,
   "metadata": {},
   "outputs": [
    {
     "name": "stderr",
     "output_type": "stream",
     "text": [
      "/var/folders/xr/3fgdpnbj38v_32gf1_x3h2x00000gn/T/ipykernel_33612/582942040.py:37: DataConversionWarning: A column-vector y was passed when a 1d array was expected. Please change the shape of y to (n_samples,), for example using ravel().\n",
      "  leaderboard_model.fit(X_train.iloc[trn_idx], y_train.iloc[trn_idx])\n",
      "/var/folders/xr/3fgdpnbj38v_32gf1_x3h2x00000gn/T/ipykernel_33612/582942040.py:37: DataConversionWarning: A column-vector y was passed when a 1d array was expected. Please change the shape of y to (n_samples,), for example using ravel().\n",
      "  leaderboard_model.fit(X_train.iloc[trn_idx], y_train.iloc[trn_idx])\n",
      "/var/folders/xr/3fgdpnbj38v_32gf1_x3h2x00000gn/T/ipykernel_33612/582942040.py:37: DataConversionWarning: A column-vector y was passed when a 1d array was expected. Please change the shape of y to (n_samples,), for example using ravel().\n",
      "  leaderboard_model.fit(X_train.iloc[trn_idx], y_train.iloc[trn_idx])\n",
      "/var/folders/xr/3fgdpnbj38v_32gf1_x3h2x00000gn/T/ipykernel_33612/582942040.py:37: DataConversionWarning: A column-vector y was passed when a 1d array was expected. Please change the shape of y to (n_samples,), for example using ravel().\n",
      "  leaderboard_model.fit(X_train.iloc[trn_idx], y_train.iloc[trn_idx])\n",
      "/var/folders/xr/3fgdpnbj38v_32gf1_x3h2x00000gn/T/ipykernel_33612/582942040.py:37: DataConversionWarning: A column-vector y was passed when a 1d array was expected. Please change the shape of y to (n_samples,), for example using ravel().\n",
      "  leaderboard_model.fit(X_train.iloc[trn_idx], y_train.iloc[trn_idx])\n",
      "/var/folders/xr/3fgdpnbj38v_32gf1_x3h2x00000gn/T/ipykernel_33612/582942040.py:37: DataConversionWarning: A column-vector y was passed when a 1d array was expected. Please change the shape of y to (n_samples,), for example using ravel().\n",
      "  leaderboard_model.fit(X_train.iloc[trn_idx], y_train.iloc[trn_idx])\n",
      "/var/folders/xr/3fgdpnbj38v_32gf1_x3h2x00000gn/T/ipykernel_33612/582942040.py:37: DataConversionWarning: A column-vector y was passed when a 1d array was expected. Please change the shape of y to (n_samples,), for example using ravel().\n",
      "  leaderboard_model.fit(X_train.iloc[trn_idx], y_train.iloc[trn_idx])\n",
      "/var/folders/xr/3fgdpnbj38v_32gf1_x3h2x00000gn/T/ipykernel_33612/582942040.py:37: DataConversionWarning: A column-vector y was passed when a 1d array was expected. Please change the shape of y to (n_samples,), for example using ravel().\n",
      "  leaderboard_model.fit(X_train.iloc[trn_idx], y_train.iloc[trn_idx])\n",
      "/var/folders/xr/3fgdpnbj38v_32gf1_x3h2x00000gn/T/ipykernel_33612/582942040.py:37: DataConversionWarning: A column-vector y was passed when a 1d array was expected. Please change the shape of y to (n_samples,), for example using ravel().\n",
      "  leaderboard_model.fit(X_train.iloc[trn_idx], y_train.iloc[trn_idx])\n",
      "/var/folders/xr/3fgdpnbj38v_32gf1_x3h2x00000gn/T/ipykernel_33612/582942040.py:37: DataConversionWarning: A column-vector y was passed when a 1d array was expected. Please change the shape of y to (n_samples,), for example using ravel().\n",
      "  leaderboard_model.fit(X_train.iloc[trn_idx], y_train.iloc[trn_idx])\n",
      "/Users/jianglei/anaconda3/lib/python3.8/site-packages/sklearn/ensemble/_gb.py:570: DataConversionWarning: A column-vector y was passed when a 1d array was expected. Please change the shape of y to (n_samples, ), for example using ravel().\n",
      "  y = column_or_1d(y, warn=True)\n",
      "/Users/jianglei/anaconda3/lib/python3.8/site-packages/sklearn/ensemble/_gb.py:570: DataConversionWarning: A column-vector y was passed when a 1d array was expected. Please change the shape of y to (n_samples, ), for example using ravel().\n",
      "  y = column_or_1d(y, warn=True)\n",
      "/Users/jianglei/anaconda3/lib/python3.8/site-packages/sklearn/ensemble/_gb.py:570: DataConversionWarning: A column-vector y was passed when a 1d array was expected. Please change the shape of y to (n_samples, ), for example using ravel().\n",
      "  y = column_or_1d(y, warn=True)\n",
      "/Users/jianglei/anaconda3/lib/python3.8/site-packages/sklearn/ensemble/_gb.py:570: DataConversionWarning: A column-vector y was passed when a 1d array was expected. Please change the shape of y to (n_samples, ), for example using ravel().\n",
      "  y = column_or_1d(y, warn=True)\n",
      "/Users/jianglei/anaconda3/lib/python3.8/site-packages/sklearn/ensemble/_gb.py:570: DataConversionWarning: A column-vector y was passed when a 1d array was expected. Please change the shape of y to (n_samples, ), for example using ravel().\n",
      "  y = column_or_1d(y, warn=True)\n"
     ]
    }
   ],
   "source": [
    "# Import necessary modules\n",
    "from sklearn.ensemble import RandomForestClassifier, GradientBoostingClassifier, ExtraTreesClassifier\n",
    "from sklearn.linear_model import LogisticRegression\n",
    "from sklearn.tree import DecisionTreeClassifier\n",
    "from sklearn.model_selection import StratifiedKFold\n",
    "from sklearn.metrics import roc_curve, auc\n",
    "\n",
    "# Set number of folds and out-of-bag score\n",
    "N = 5\n",
    "oob = 0\n",
    "\n",
    "# Initialize empty pandas DataFrame to store feature importances\n",
    "importances = pd.DataFrame(np.zeros((X_train.shape[1], N)), columns=['Fold_{}'.format(i) for i in range(1, N + 1)], index=data.columns[:-1])\n",
    "\n",
    "# Initialize StratifiedKFold with specified parameters\n",
    "skf = StratifiedKFold(n_splits=N, random_state=N, shuffle=True)\n",
    "\n",
    "# Create list of models to evaluate\n",
    "model_list = [\n",
    "              DecisionTreeClassifier(),\n",
    "              ExtraTreesClassifier(),\n",
    "              RandomForestClassifier(n_estimators=500, max_depth=5),\n",
    "              GradientBoostingClassifier()\n",
    "             ]\n",
    "# Create list of model names\n",
    "model_name_list = ['CART', 'ETC', 'RF', 'GBC']\n",
    "\n",
    "# Loop through each model in model_list\n",
    "for j, model_name in enumerate(model_name_list):\n",
    "    \n",
    "    # Select model from leaderboard\n",
    "    leaderboard_model = model_list[j]\n",
    "    \n",
    "    # Loop through each fold of the cross-validation process\n",
    "    for fold, (trn_idx, val_idx) in enumerate(skf.split(X_train, y_train), 1):\n",
    "        # Fit the model to the training data\n",
    "        leaderboard_model.fit(X_train.iloc[trn_idx], y_train.iloc[trn_idx])\n",
    "        \n",
    "        # Compute feature importances, depending on model type\n",
    "        importances.iloc[:, fold - 1] = leaderboard_model.feature_importances_\n",
    "        \n",
    "        # Compute mean feature importance values across all folds\n",
    "        importances[model_name] = np.mean(importances[['Fold_{}'.format(i) for i in range(1, N + 1)]], axis=1)\n",
    "        \n",
    "# Select only the rows and columns corresponding to mean feature importance values for each model\n",
    "importances = importances.iloc[:, N:]\n"
   ]
  },
  {
   "cell_type": "code",
   "execution_count": 16,
   "metadata": {},
   "outputs": [],
   "source": [
    "#use different models to calculate importance \n",
    "importances = (importances-importances.min())/(importances.max()-importances.min())\n",
    "#importances = importances / importances.sum()"
   ]
  },
  {
   "cell_type": "markdown",
   "metadata": {},
   "source": [
    "#### 2.1 (b) Calculating Mean Importance for each feature"
   ]
  },
  {
   "cell_type": "code",
   "execution_count": 17,
   "metadata": {},
   "outputs": [],
   "source": [
    "## Take the average, and then use the top 8 as the final choice.\n",
    "importances['Mean_Importance'] = importances.mean(axis=1)\n",
    "selected_index = np.argsort(importances['Mean_Importance'].values.reshape(-1))[::-1][:8]"
   ]
  },
  {
   "cell_type": "markdown",
   "metadata": {},
   "source": [
    "#### 2.1 (c) Displaying the importance scores in a table"
   ]
  },
  {
   "cell_type": "code",
   "execution_count": 18,
   "metadata": {},
   "outputs": [
    {
     "data": {
      "text/html": [
       "<div>\n",
       "<style scoped>\n",
       "    .dataframe tbody tr th:only-of-type {\n",
       "        vertical-align: middle;\n",
       "    }\n",
       "\n",
       "    .dataframe tbody tr th {\n",
       "        vertical-align: top;\n",
       "    }\n",
       "\n",
       "    .dataframe thead th {\n",
       "        text-align: right;\n",
       "    }\n",
       "</style>\n",
       "<table border=\"1\" class=\"dataframe\">\n",
       "  <thead>\n",
       "    <tr style=\"text-align: right;\">\n",
       "      <th></th>\n",
       "      <th>CART</th>\n",
       "      <th>ETC</th>\n",
       "      <th>RF</th>\n",
       "      <th>GBC</th>\n",
       "      <th>Mean_Importance</th>\n",
       "    </tr>\n",
       "  </thead>\n",
       "  <tbody>\n",
       "    <tr>\n",
       "      <th>city_development_index</th>\n",
       "      <td>1.000000</td>\n",
       "      <td>1.000000</td>\n",
       "      <td>1.000000</td>\n",
       "      <td>1.000000</td>\n",
       "      <td>1.000000e+00</td>\n",
       "    </tr>\n",
       "    <tr>\n",
       "      <th>enrolled_university</th>\n",
       "      <td>0.074737</td>\n",
       "      <td>0.302406</td>\n",
       "      <td>0.320148</td>\n",
       "      <td>0.071649</td>\n",
       "      <td>1.922349e-01</td>\n",
       "    </tr>\n",
       "    <tr>\n",
       "      <th>experience</th>\n",
       "      <td>0.125456</td>\n",
       "      <td>0.228329</td>\n",
       "      <td>0.094200</td>\n",
       "      <td>0.021016</td>\n",
       "      <td>1.172502e-01</td>\n",
       "    </tr>\n",
       "    <tr>\n",
       "      <th>training_hours</th>\n",
       "      <td>0.180497</td>\n",
       "      <td>0.211963</td>\n",
       "      <td>0.005438</td>\n",
       "      <td>0.007894</td>\n",
       "      <td>1.014482e-01</td>\n",
       "    </tr>\n",
       "    <tr>\n",
       "      <th>company_size</th>\n",
       "      <td>0.073754</td>\n",
       "      <td>0.146569</td>\n",
       "      <td>0.024495</td>\n",
       "      <td>0.021588</td>\n",
       "      <td>6.660153e-02</td>\n",
       "    </tr>\n",
       "    <tr>\n",
       "      <th>last_new_job</th>\n",
       "      <td>0.050246</td>\n",
       "      <td>0.096085</td>\n",
       "      <td>0.007680</td>\n",
       "      <td>0.002006</td>\n",
       "      <td>3.900443e-02</td>\n",
       "    </tr>\n",
       "    <tr>\n",
       "      <th>education_level</th>\n",
       "      <td>0.036282</td>\n",
       "      <td>0.077004</td>\n",
       "      <td>0.020070</td>\n",
       "      <td>0.010175</td>\n",
       "      <td>3.588251e-02</td>\n",
       "    </tr>\n",
       "    <tr>\n",
       "      <th>company_type</th>\n",
       "      <td>0.033399</td>\n",
       "      <td>0.077780</td>\n",
       "      <td>0.022157</td>\n",
       "      <td>0.006213</td>\n",
       "      <td>3.488718e-02</td>\n",
       "    </tr>\n",
       "    <tr>\n",
       "      <th>relevent_experience</th>\n",
       "      <td>0.014830</td>\n",
       "      <td>0.036617</td>\n",
       "      <td>0.022113</td>\n",
       "      <td>0.001894</td>\n",
       "      <td>1.886334e-02</td>\n",
       "    </tr>\n",
       "    <tr>\n",
       "      <th>major_discipline_STEM</th>\n",
       "      <td>0.004435</td>\n",
       "      <td>0.030379</td>\n",
       "      <td>0.037933</td>\n",
       "      <td>0.002485</td>\n",
       "      <td>1.880774e-02</td>\n",
       "    </tr>\n",
       "    <tr>\n",
       "      <th>major_discipline_Humanities</th>\n",
       "      <td>0.001344</td>\n",
       "      <td>0.015794</td>\n",
       "      <td>0.017013</td>\n",
       "      <td>0.000307</td>\n",
       "      <td>8.614590e-03</td>\n",
       "    </tr>\n",
       "    <tr>\n",
       "      <th>gender_Male</th>\n",
       "      <td>0.014025</td>\n",
       "      <td>0.014538</td>\n",
       "      <td>0.001795</td>\n",
       "      <td>0.000141</td>\n",
       "      <td>7.624820e-03</td>\n",
       "    </tr>\n",
       "    <tr>\n",
       "      <th>gender_Not provided</th>\n",
       "      <td>0.013946</td>\n",
       "      <td>0.013282</td>\n",
       "      <td>0.001595</td>\n",
       "      <td>0.000024</td>\n",
       "      <td>7.211574e-03</td>\n",
       "    </tr>\n",
       "    <tr>\n",
       "      <th>gender_Female</th>\n",
       "      <td>0.007766</td>\n",
       "      <td>0.008147</td>\n",
       "      <td>0.000216</td>\n",
       "      <td>0.000271</td>\n",
       "      <td>4.100030e-03</td>\n",
       "    </tr>\n",
       "    <tr>\n",
       "      <th>major_discipline_Other</th>\n",
       "      <td>0.001724</td>\n",
       "      <td>0.002258</td>\n",
       "      <td>0.000854</td>\n",
       "      <td>0.000648</td>\n",
       "      <td>1.370834e-03</td>\n",
       "    </tr>\n",
       "    <tr>\n",
       "      <th>gender_Other</th>\n",
       "      <td>0.001784</td>\n",
       "      <td>0.002346</td>\n",
       "      <td>0.000079</td>\n",
       "      <td>0.000054</td>\n",
       "      <td>1.065604e-03</td>\n",
       "    </tr>\n",
       "    <tr>\n",
       "      <th>major_discipline_Business Degree</th>\n",
       "      <td>0.000287</td>\n",
       "      <td>0.001479</td>\n",
       "      <td>0.001019</td>\n",
       "      <td>0.000000</td>\n",
       "      <td>6.962601e-04</td>\n",
       "    </tr>\n",
       "    <tr>\n",
       "      <th>major_discipline_Arts</th>\n",
       "      <td>0.000881</td>\n",
       "      <td>0.000000</td>\n",
       "      <td>0.000268</td>\n",
       "      <td>0.000150</td>\n",
       "      <td>3.246283e-04</td>\n",
       "    </tr>\n",
       "    <tr>\n",
       "      <th>major_discipline_No Major</th>\n",
       "      <td>0.000000</td>\n",
       "      <td>0.000004</td>\n",
       "      <td>0.000000</td>\n",
       "      <td>0.000000</td>\n",
       "      <td>9.241386e-07</td>\n",
       "    </tr>\n",
       "  </tbody>\n",
       "</table>\n",
       "</div>"
      ],
      "text/plain": [
       "                                      CART       ETC        RF       GBC  \\\n",
       "city_development_index            1.000000  1.000000  1.000000  1.000000   \n",
       "enrolled_university               0.074737  0.302406  0.320148  0.071649   \n",
       "experience                        0.125456  0.228329  0.094200  0.021016   \n",
       "training_hours                    0.180497  0.211963  0.005438  0.007894   \n",
       "company_size                      0.073754  0.146569  0.024495  0.021588   \n",
       "last_new_job                      0.050246  0.096085  0.007680  0.002006   \n",
       "education_level                   0.036282  0.077004  0.020070  0.010175   \n",
       "company_type                      0.033399  0.077780  0.022157  0.006213   \n",
       "relevent_experience               0.014830  0.036617  0.022113  0.001894   \n",
       "major_discipline_STEM             0.004435  0.030379  0.037933  0.002485   \n",
       "major_discipline_Humanities       0.001344  0.015794  0.017013  0.000307   \n",
       "gender_Male                       0.014025  0.014538  0.001795  0.000141   \n",
       "gender_Not provided               0.013946  0.013282  0.001595  0.000024   \n",
       "gender_Female                     0.007766  0.008147  0.000216  0.000271   \n",
       "major_discipline_Other            0.001724  0.002258  0.000854  0.000648   \n",
       "gender_Other                      0.001784  0.002346  0.000079  0.000054   \n",
       "major_discipline_Business Degree  0.000287  0.001479  0.001019  0.000000   \n",
       "major_discipline_Arts             0.000881  0.000000  0.000268  0.000150   \n",
       "major_discipline_No Major         0.000000  0.000004  0.000000  0.000000   \n",
       "\n",
       "                                  Mean_Importance  \n",
       "city_development_index               1.000000e+00  \n",
       "enrolled_university                  1.922349e-01  \n",
       "experience                           1.172502e-01  \n",
       "training_hours                       1.014482e-01  \n",
       "company_size                         6.660153e-02  \n",
       "last_new_job                         3.900443e-02  \n",
       "education_level                      3.588251e-02  \n",
       "company_type                         3.488718e-02  \n",
       "relevent_experience                  1.886334e-02  \n",
       "major_discipline_STEM                1.880774e-02  \n",
       "major_discipline_Humanities          8.614590e-03  \n",
       "gender_Male                          7.624820e-03  \n",
       "gender_Not provided                  7.211574e-03  \n",
       "gender_Female                        4.100030e-03  \n",
       "major_discipline_Other               1.370834e-03  \n",
       "gender_Other                         1.065604e-03  \n",
       "major_discipline_Business Degree     6.962601e-04  \n",
       "major_discipline_Arts                3.246283e-04  \n",
       "major_discipline_No Major            9.241386e-07  "
      ]
     },
     "execution_count": 18,
     "metadata": {},
     "output_type": "execute_result"
    }
   ],
   "source": [
    "importances.sort_values(by='Mean_Importance', inplace=True, ascending=False)\n",
    "importances"
   ]
  },
  {
   "cell_type": "markdown",
   "metadata": {},
   "source": [
    "#### 2.1 (d) Visualing Mean Importance Scores "
   ]
  },
  {
   "cell_type": "code",
   "execution_count": 19,
   "metadata": {},
   "outputs": [
    {
     "data": {
      "image/png": "[encoded data removed]",
      "text/plain": [
       "<Figure size 3000x1500 with 1 Axes>"
      ]
     },
     "metadata": {
      "needs_background": "light"
     },
     "output_type": "display_data"
    }
   ],
   "source": [
    "## Based on the model results, we can calculate the contribution of each feature and visualize it as shown below, \n",
    "# the longer the horizontal bar, the more valuable the feature is.\n",
    "plt.figure(figsize=(10, 5), dpi =300)\n",
    "sb.barplot(x='Mean_Importance', y=importances.index, data=importances)\n",
    "\n",
    "plt.xlabel('')\n",
    "plt.tick_params(axis='x', labelsize=7)\n",
    "plt.tick_params(axis='y', labelsize=7)\n",
    "plt.title('Mean Feature Importance Between Models', size=12)\n",
    "\n",
    "plt.show()"
   ]
  },
  {
   "cell_type": "markdown",
   "metadata": {},
   "source": [
    "### 2.2 Logistic Regression RFE get  Important Features"
   ]
  },
  {
   "cell_type": "code",
   "execution_count": 20,
   "metadata": {},
   "outputs": [],
   "source": [
    "from sklearn.feature_selection import RFE\n",
    "from sklearn.linear_model import LogisticRegression\n",
    "import statsmodels.api as sm\n",
    "\n",
    "# Logistic (Logistic Regression) summary with p-values and pseudo R-squared\n",
    "# https://www.statsmodels.org/stable/generated/statsmodels.discrete.discrete_model.Logit.html#statsmodels.discrete.discrete_model.Logit\n",
    "def logitSummary(X, y, rfe):\n",
    "    # top features\n",
    "    pki_df_top_features = rfe.get_feature_names_out()\n",
    "    \n",
    "    # summary with p-values and pseudo R-squared\n",
    "    logit_model = sm.Logit(y, X[pki_df_top_features])\n",
    "    # logit_model_result = logit_model.fit()\n",
    "    logit_model_result = logit_model.fit_regularized()\n",
    "\n",
    "    print(logit_model_result.summary2())\n",
    "\n",
    "    return (logit_model, logit_model_result)\n",
    "\n",
    "def fitLogRegModel(X_train, y_train, X_test, y_test, rfe):\n",
    "    # top features\n",
    "    pki_df_top_features = rfe.get_feature_names_out()\n",
    "\n",
    "    # Logistic Regression\n",
    "    logreg_model = LogisticRegression(solver='lbfgs', max_iter=1000, random_state=0)\n",
    "    logreg_model_result = logreg_model.fit(X_train[pki_df_top_features], y_train.values.ravel())\n",
    "\n",
    "\n",
    "    print('Train Accuracy: {:.2f}'.format(logreg_model.score(X_train[pki_df_top_features], y_train.values.ravel())))\n",
    "    print('Test Accuracy: {:.2f}'.format(logreg_model.score(X_test[pki_df_top_features], y_test.values.ravel())))\n",
    "\n",
    "    return (logreg_model, logreg_model_result);\n"
   ]
  },
  {
   "cell_type": "code",
   "execution_count": 21,
   "metadata": {
    "scrolled": false
   },
   "outputs": [
    {
     "name": "stderr",
     "output_type": "stream",
     "text": [
      "/Users/jianglei/anaconda3/lib/python3.8/site-packages/sklearn/utils/validation.py:1111: DataConversionWarning: A column-vector y was passed when a 1d array was expected. Please change the shape of y to (n_samples, ), for example using ravel().\n",
      "  y = column_or_1d(y, warn=True)\n",
      "/Users/jianglei/anaconda3/lib/python3.8/site-packages/sklearn/linear_model/_logistic.py:444: ConvergenceWarning: lbfgs failed to converge (status=1):\n",
      "STOP: TOTAL NO. of ITERATIONS REACHED LIMIT.\n",
      "\n",
      "Increase the number of iterations (max_iter) or scale the data as shown in:\n",
      "    https://scikit-learn.org/stable/modules/preprocessing.html\n",
      "Please also refer to the documentation for alternative solver options:\n",
      "    https://scikit-learn.org/stable/modules/linear_model.html#logistic-regression\n",
      "  n_iter_i = _check_optimize_result(\n",
      "/Users/jianglei/anaconda3/lib/python3.8/site-packages/sklearn/utils/validation.py:1111: DataConversionWarning: A column-vector y was passed when a 1d array was expected. Please change the shape of y to (n_samples, ), for example using ravel().\n",
      "  y = column_or_1d(y, warn=True)\n",
      "/Users/jianglei/anaconda3/lib/python3.8/site-packages/sklearn/utils/validation.py:1111: DataConversionWarning: A column-vector y was passed when a 1d array was expected. Please change the shape of y to (n_samples, ), for example using ravel().\n",
      "  y = column_or_1d(y, warn=True)\n",
      "/Users/jianglei/anaconda3/lib/python3.8/site-packages/sklearn/utils/validation.py:1111: DataConversionWarning: A column-vector y was passed when a 1d array was expected. Please change the shape of y to (n_samples, ), for example using ravel().\n",
      "  y = column_or_1d(y, warn=True)\n",
      "/Users/jianglei/anaconda3/lib/python3.8/site-packages/sklearn/utils/validation.py:1111: DataConversionWarning: A column-vector y was passed when a 1d array was expected. Please change the shape of y to (n_samples, ), for example using ravel().\n",
      "  y = column_or_1d(y, warn=True)\n",
      "/Users/jianglei/anaconda3/lib/python3.8/site-packages/sklearn/utils/validation.py:1111: DataConversionWarning: A column-vector y was passed when a 1d array was expected. Please change the shape of y to (n_samples, ), for example using ravel().\n",
      "  y = column_or_1d(y, warn=True)\n",
      "/Users/jianglei/anaconda3/lib/python3.8/site-packages/sklearn/utils/validation.py:1111: DataConversionWarning: A column-vector y was passed when a 1d array was expected. Please change the shape of y to (n_samples, ), for example using ravel().\n",
      "  y = column_or_1d(y, warn=True)\n",
      "/Users/jianglei/anaconda3/lib/python3.8/site-packages/sklearn/utils/validation.py:1111: DataConversionWarning: A column-vector y was passed when a 1d array was expected. Please change the shape of y to (n_samples, ), for example using ravel().\n",
      "  y = column_or_1d(y, warn=True)\n",
      "/Users/jianglei/anaconda3/lib/python3.8/site-packages/sklearn/utils/validation.py:1111: DataConversionWarning: A column-vector y was passed when a 1d array was expected. Please change the shape of y to (n_samples, ), for example using ravel().\n",
      "  y = column_or_1d(y, warn=True)\n",
      "/Users/jianglei/anaconda3/lib/python3.8/site-packages/sklearn/utils/validation.py:1111: DataConversionWarning: A column-vector y was passed when a 1d array was expected. Please change the shape of y to (n_samples, ), for example using ravel().\n",
      "  y = column_or_1d(y, warn=True)\n",
      "/Users/jianglei/anaconda3/lib/python3.8/site-packages/sklearn/utils/validation.py:1111: DataConversionWarning: A column-vector y was passed when a 1d array was expected. Please change the shape of y to (n_samples, ), for example using ravel().\n",
      "  y = column_or_1d(y, warn=True)\n",
      "/Users/jianglei/anaconda3/lib/python3.8/site-packages/sklearn/utils/validation.py:1111: DataConversionWarning: A column-vector y was passed when a 1d array was expected. Please change the shape of y to (n_samples, ), for example using ravel().\n",
      "  y = column_or_1d(y, warn=True)\n"
     ]
    },
    {
     "name": "stdout",
     "output_type": "stream",
     "text": [
      "Optimization terminated successfully    (Exit mode 0)\n",
      "            Current function value: 0.2643521330753546\n",
      "            Iterations: 78\n",
      "            Function evaluations: 78\n",
      "            Gradient evaluations: 78\n",
      "                                   Results: Logit\n",
      "====================================================================================\n",
      "Model:                      Logit                  Pseudo R-squared:       0.525    \n",
      "Dependent Variable:         target                 AIC:                    6771.2544\n",
      "Date:                       2023-03-28 17:52       BIC:                    6830.8976\n",
      "No. Observations:           12777                  Log-Likelihood:         -3377.6  \n",
      "Df Model:                   7                      LL-Null:                -7104.5  \n",
      "Df Residuals:               12769                  LLR p-value:            0.0000   \n",
      "Converged:                  1.0000                 Scale:                  1.0000   \n",
      "No. Iterations:             78.0000                                                 \n",
      "------------------------------------------------------------------------------------\n",
      "                                  Coef.   Std.Err.    z     P>|z|   [0.025   0.975] \n",
      "------------------------------------------------------------------------------------\n",
      "city_development_index           -12.9318   0.2658 -48.6520 0.0000 -13.4528 -12.4109\n",
      "relevent_experience               -0.2789   0.0709  -3.9304 0.0001  -0.4179  -0.1398\n",
      "enrolled_university                0.8343   0.0346  24.1363 0.0000   0.7666   0.9021\n",
      "education_level                    0.5250   0.0441  11.9102 0.0000   0.4386   0.6114\n",
      "gender_Male                       -0.0082   0.0663  -0.1234 0.9018  -0.1381   0.1217\n",
      "major_discipline_Business Degree   5.1794   0.4893  10.5859 0.0000   4.2204   6.1383\n",
      "major_discipline_Humanities        5.4441   0.3461  15.7316 0.0000   4.7658   6.1224\n",
      "major_discipline_STEM              6.5393   0.2170  30.1398 0.0000   6.1141   6.9645\n",
      "====================================================================================\n",
      "\n"
     ]
    }
   ],
   "source": [
    "# Create a Linear Regression model\n",
    "model = LogisticRegression(solver='lbfgs', max_iter=1000, random_state=0)\n",
    "# Create an RFE object with n_features_to_select=10\n",
    "rfe_10 = RFE(model, n_features_to_select=8,step=1)\n",
    "# Fit the RFE object to the data\n",
    "rfe_10.fit(X_train, y_train)\n",
    "# model summary\n",
    "(logit_m10, logit_m10_result) = logitSummary(X_train, y_train, rfe_10)"
   ]
  },
  {
   "cell_type": "markdown",
   "metadata": {},
   "source": [
    "#### (b) Logistic Regression Top 10 Important Features\n",
    "- city_development_index\n",
    "- relevent_experience\n",
    "- enrolled_university\n",
    "- education_level\n",
    "- gender_Male\n",
    "- major_discipline_Humanities\n",
    "- major_discipline_No Major\n",
    "- major_discipline_STEM"
   ]
  },
  {
   "cell_type": "markdown",
   "metadata": {},
   "source": [
    "However, the logistic regression model only gives 0.526 R-squared, indicating it may not have great ability in explaining this dataset. Hence, we will use the selected top 8 features from tree family models, which have been trained with cross-validation and 5 different models"
   ]
  },
  {
   "cell_type": "markdown",
   "metadata": {},
   "source": [
    "### 2.3 Select Top 8 Features"
   ]
  },
  {
   "cell_type": "markdown",
   "metadata": {},
   "source": [
    "#### (a) Tree Family Top 8 Important Features\n",
    "- city_development_index\n",
    "- enrolled_university\n",
    "- experience\n",
    "- training_hours\n",
    "- company_size\n",
    "- last_new_job\n",
    "- education_level\n",
    "- company_type"
   ]
  },
  {
   "cell_type": "code",
   "execution_count": 22,
   "metadata": {},
   "outputs": [
    {
     "name": "stdout",
     "output_type": "stream",
     "text": [
      "Index(['city_development_index', 'enrolled_university', 'experience',\n",
      "       'training_hours', 'company_size', 'last_new_job', 'education_level',\n",
      "       'company_type', 'relevent_experience', 'major_discipline_STEM'],\n",
      "      dtype='object')\n"
     ]
    }
   ],
   "source": [
    "# Save Selected Features\n",
    "selected_columns = importances.index[:10]\n",
    "print(selected_columns)"
   ]
  },
  {
   "cell_type": "markdown",
   "metadata": {},
   "source": [
    "## 3) Modelling"
   ]
  },
  {
   "cell_type": "markdown",
   "metadata": {},
   "source": [
    "**Models:**\n",
    "- CART\n",
    "- Random Forest\n",
    "- Support Vector Classifier (SVC)\n",
    "- Extreme Gradient Boosting (XGBoost)\n",
    "- Logistic Regression\n",
    "\n",
    "**We will train and test the different models in 3 different ways:**\n",
    "1. Full dataset\n",
    "2. Full Dataset + Hyperparameter Tuning\n",
    "3. Dataset with selected features + Hyperparameter Tuning \n"
   ]
  },
  {
   "cell_type": "markdown",
   "metadata": {},
   "source": [
    "### 3.1 CART - Classification Tree\n"
   ]
  },
  {
   "cell_type": "markdown",
   "metadata": {},
   "source": [
    "**Why CART?**\n",
    "\n",
    "**References:**\n",
    "- https://towardsdatascience.com/cart-classification-and-regression-trees-for-clean-but-powerful-models-cc89e60b7a85\n",
    "- https://towardsdatascience.com/decision-tree-build-prune-and-visualize-it-using-python-12ceee9af752"
   ]
  },
  {
   "cell_type": "code",
   "execution_count": 23,
   "metadata": {},
   "outputs": [],
   "source": [
    "indexx = 0\n",
    "final_answer = pd.DataFrame(columns = ['Model', 'Dataset','Accuracy','TPR', 'TNR', 'FPR', 'FNR', 'Precision','Recall','F1 Score'])"
   ]
  },
  {
   "cell_type": "markdown",
   "metadata": {},
   "source": [
    "#### 3.1 (a) CART v1 - Full Dataset + Default Hyperparameters"
   ]
  },
  {
   "cell_type": "code",
   "execution_count": 24,
   "metadata": {},
   "outputs": [],
   "source": [
    "# Decision Tree using Train Data\n",
    "dectree_m1 = DecisionTreeClassifier()  # create the decision tree object\n",
    "dectree_m1.fit(X_train_os, y_train_os)       # train the decision tree model\n",
    "\n",
    "# Predict Legendary values corresponding to Total\n",
    "y_train_pred = dectree_m1.predict(X_train_os)\n",
    "y_test_pred = dectree_m1.predict(X_test)"
   ]
  },
  {
   "cell_type": "code",
   "execution_count": 25,
   "metadata": {},
   "outputs": [
    {
     "data": {
      "text/plain": [
       "{'ccp_alpha': 0.0,\n",
       " 'class_weight': None,\n",
       " 'criterion': 'gini',\n",
       " 'max_depth': None,\n",
       " 'max_features': None,\n",
       " 'max_leaf_nodes': None,\n",
       " 'min_impurity_decrease': 0.0,\n",
       " 'min_samples_leaf': 1,\n",
       " 'min_samples_split': 2,\n",
       " 'min_weight_fraction_leaf': 0.0,\n",
       " 'random_state': None,\n",
       " 'splitter': 'best'}"
      ]
     },
     "execution_count": 25,
     "metadata": {},
     "output_type": "execute_result"
    }
   ],
   "source": [
    "dectree_m1.get_params()"
   ]
  },
  {
   "cell_type": "code",
   "execution_count": 26,
   "metadata": {
    "scrolled": false
   },
   "outputs": [
    {
     "name": "stdout",
     "output_type": "stream",
     "text": [
      "-----\n",
      "-> Test Dataset\n",
      "+-------------------------+-----------+\n",
      "| Metric                  |     Value |\n",
      "+=========================+===========+\n",
      "| Classification Accuracy | 0.870343  |\n",
      "+-------------------------+-----------+\n",
      "| True Positive Rate      | 0.764114  |\n",
      "+-------------------------+-----------+\n",
      "| True Negative Rate      | 0.90318   |\n",
      "+-------------------------+-----------+\n",
      "| False Positive Rate     | 0.0968205 |\n",
      "+-------------------------+-----------+\n",
      "| False Negative Rate     | 0.235886  |\n",
      "+-------------------------+-----------+\n",
      "\n",
      "Precision: 0.7092605886575736\n",
      "Recall: 0.7641144624903325\n",
      "f1_score: 0.7356664184661206\n"
     ]
    },
    {
     "data": {
      "image/png": "[encoded data removed]",
      "text/plain": [
       "<Figure size 360x216 with 2 Axes>"
      ]
     },
     "metadata": {
      "needs_background": "light"
     },
     "output_type": "display_data"
    },
    {
     "data": {
      "image/png": "[encoded data removed]",
      "text/plain": [
       "<Figure size 576x360 with 1 Axes>"
      ]
     },
     "metadata": {
      "needs_background": "light"
     },
     "output_type": "display_data"
    },
    {
     "name": "stdout",
     "output_type": "stream",
     "text": [
      "ROC-AUC-Score: 0.8343455140766987\n",
      "-----\n",
      "\n",
      "10\n"
     ]
    }
   ],
   "source": [
    "answer = model_performance(dectree_m1, X_train_os, X_test, y_train_os, y_test)\n",
    "answer = ['CART'] +['All']+ list(answer)\n",
    "print(len(answer))\n",
    "final_answer.loc[indexx] = answer\n",
    "indexx += 1"
   ]
  },
  {
   "cell_type": "markdown",
   "metadata": {},
   "source": [
    "#### 3.1 (b) CART v2 - Full dataset + Hyperparameter Tuning\n",
    "\n",
    "The hyperparameters will be tuned by using `GridSearchCV`."
   ]
  },
  {
   "cell_type": "code",
   "execution_count": 27,
   "metadata": {},
   "outputs": [],
   "source": [
    "# RFC Parameters tunning \n",
    "dectree_m2 = DecisionTreeClassifier()"
   ]
  },
  {
   "cell_type": "code",
   "execution_count": 28,
   "metadata": {},
   "outputs": [
    {
     "name": "stdout",
     "output_type": "stream",
     "text": [
      "Fitting 5 folds for each of 9 candidates, totalling 45 fits\n"
     ]
    },
    {
     "data": {
      "text/plain": [
       "0.9199896426721905"
      ]
     },
     "execution_count": 28,
     "metadata": {},
     "output_type": "execute_result"
    }
   ],
   "source": [
    "# On all dataset \n",
    "\n",
    "## Search grid for optimal parameters\n",
    "cart_param_grid = {\"max_depth\": [3,5,10],\n",
    "              \"max_features\": [5,10,20]}\n",
    "\n",
    "gsCART = GridSearchCV(dectree_m2,param_grid = cart_param_grid, cv=kfold, scoring=\"accuracy\", n_jobs= 4, verbose = 1)\n",
    "\n",
    "gsCART.fit(X_train_os, y_train_os)\n",
    "\n",
    "CART_best = gsCART.best_estimator_\n",
    "\n",
    "# Best score\n",
    "gsCART.best_score_"
   ]
  },
  {
   "cell_type": "code",
   "execution_count": 29,
   "metadata": {
    "scrolled": true
   },
   "outputs": [
    {
     "data": {
      "text/plain": [
       "{'ccp_alpha': 0.0,\n",
       " 'class_weight': None,\n",
       " 'criterion': 'gini',\n",
       " 'max_depth': 10,\n",
       " 'max_features': 20,\n",
       " 'max_leaf_nodes': None,\n",
       " 'min_impurity_decrease': 0.0,\n",
       " 'min_samples_leaf': 1,\n",
       " 'min_samples_split': 2,\n",
       " 'min_weight_fraction_leaf': 0.0,\n",
       " 'random_state': None,\n",
       " 'splitter': 'best'}"
      ]
     },
     "execution_count": 29,
     "metadata": {},
     "output_type": "execute_result"
    }
   ],
   "source": [
    "CART_best.get_params()"
   ]
  },
  {
   "cell_type": "code",
   "execution_count": 30,
   "metadata": {
    "scrolled": false
   },
   "outputs": [
    {
     "name": "stdout",
     "output_type": "stream",
     "text": [
      "-----\n",
      "-> Test Dataset\n",
      "+-------------------------+-----------+\n",
      "| Metric                  |     Value |\n",
      "+=========================+===========+\n",
      "| Classification Accuracy | 0.90084   |\n",
      "+-------------------------+-----------+\n",
      "| True Positive Rate      | 0.818252  |\n",
      "+-------------------------+-----------+\n",
      "| True Negative Rate      | 0.926369  |\n",
      "+-------------------------+-----------+\n",
      "| False Positive Rate     | 0.0736314 |\n",
      "+-------------------------+-----------+\n",
      "| False Negative Rate     | 0.181748  |\n",
      "+-------------------------+-----------+\n",
      "\n",
      "Precision: 0.7745241581259151\n",
      "Recall: 0.8182521268368136\n",
      "f1_score: 0.7957878901842798\n"
     ]
    },
    {
     "data": {
      "image/png": "[encoded data removed]",
      "text/plain": [
       "<Figure size 360x216 with 2 Axes>"
      ]
     },
     "metadata": {
      "needs_background": "light"
     },
     "output_type": "display_data"
    },
    {
     "data": {
      "image/png": "[encoded data removed]",
      "text/plain": [
       "<Figure size 576x360 with 1 Axes>"
      ]
     },
     "metadata": {
      "needs_background": "light"
     },
     "output_type": "display_data"
    },
    {
     "name": "stdout",
     "output_type": "stream",
     "text": [
      "ROC-AUC-Score: 0.9282507235211058\n",
      "-----\n",
      "\n"
     ]
    }
   ],
   "source": [
    "answer = model_performance(CART_best, X_train_os, X_test, y_train_os, y_test)\n",
    "answer = ['Tuned_CART'] +['All']+ list(answer)\n",
    "\n",
    "final_answer.loc[indexx] = answer\n",
    "indexx += 1"
   ]
  },
  {
   "cell_type": "markdown",
   "metadata": {},
   "source": [
    "#### 3.1 (c) CART v3 - Dataset with Selected Features + Hyperparameter Tuning\n",
    "\n",
    "The hyperparameters will be tuned by using `GridSearchCV`."
   ]
  },
  {
   "cell_type": "code",
   "execution_count": 31,
   "metadata": {},
   "outputs": [
    {
     "name": "stdout",
     "output_type": "stream",
     "text": [
      "Fitting 5 folds for each of 9 candidates, totalling 45 fits\n"
     ]
    },
    {
     "data": {
      "text/plain": [
       "0.918125323666494"
      ]
     },
     "execution_count": 31,
     "metadata": {},
     "output_type": "execute_result"
    }
   ],
   "source": [
    "# On selected features\n",
    "\n",
    "# CART Parameters tunning \n",
    "CART = DecisionTreeClassifier()\n",
    "\n",
    "## Search grid for optimal parameters\n",
    "cart_param_grid = {\"max_depth\": [3,5,10],\n",
    "              \"max_features\": [3,5,10]}\n",
    "\n",
    "\n",
    "gsCART_2 = GridSearchCV(CART,param_grid = cart_param_grid, cv=kfold, scoring=\"accuracy\", n_jobs= 4, verbose = 1)\n",
    "\n",
    "gsCART_2.fit(X_train_os.iloc[:,selected_index],y_train_os)\n",
    "\n",
    "CART_best2 = gsCART_2.best_estimator_\n",
    "\n",
    "# Best score\n",
    "gsCART_2.best_score_"
   ]
  },
  {
   "cell_type": "code",
   "execution_count": 32,
   "metadata": {},
   "outputs": [
    {
     "data": {
      "text/plain": [
       "{'ccp_alpha': 0.0,\n",
       " 'class_weight': None,\n",
       " 'criterion': 'gini',\n",
       " 'max_depth': 10,\n",
       " 'max_features': 3,\n",
       " 'max_leaf_nodes': None,\n",
       " 'min_impurity_decrease': 0.0,\n",
       " 'min_samples_leaf': 1,\n",
       " 'min_samples_split': 2,\n",
       " 'min_weight_fraction_leaf': 0.0,\n",
       " 'random_state': None,\n",
       " 'splitter': 'best'}"
      ]
     },
     "execution_count": 32,
     "metadata": {},
     "output_type": "execute_result"
    }
   ],
   "source": [
    "CART_best2.get_params()"
   ]
  },
  {
   "cell_type": "code",
   "execution_count": 33,
   "metadata": {
    "scrolled": false
   },
   "outputs": [
    {
     "name": "stdout",
     "output_type": "stream",
     "text": [
      "-----\n",
      "-> Test Dataset\n",
      "+-------------------------+-----------+\n",
      "| Metric                  |     Value |\n",
      "+=========================+===========+\n",
      "| Classification Accuracy | 0.894996  |\n",
      "+-------------------------+-----------+\n",
      "| True Positive Rate      | 0.822892  |\n",
      "+-------------------------+-----------+\n",
      "| True Negative Rate      | 0.917284  |\n",
      "+-------------------------+-----------+\n",
      "| False Positive Rate     | 0.0827158 |\n",
      "+-------------------------+-----------+\n",
      "| False Negative Rate     | 0.177108  |\n",
      "+-------------------------+-----------+\n",
      "\n",
      "Precision: 0.7546099290780142\n",
      "Recall: 0.822892498066512\n",
      "f1_score: 0.7872733999260081\n"
     ]
    },
    {
     "data": {
      "image/png": "[encoded data removed]",
      "text/plain": [
       "<Figure size 360x216 with 2 Axes>"
      ]
     },
     "metadata": {
      "needs_background": "light"
     },
     "output_type": "display_data"
    },
    {
     "data": {
      "image/png": "[encoded data removed]",
      "text/plain": [
       "<Figure size 576x360 with 1 Axes>"
      ]
     },
     "metadata": {
      "needs_background": "light"
     },
     "output_type": "display_data"
    },
    {
     "name": "stdout",
     "output_type": "stream",
     "text": [
      "ROC-AUC-Score: 0.9213778045745133\n",
      "-----\n",
      "\n"
     ]
    }
   ],
   "source": [
    "answer = model_performance(CART_best2, X_train_os.iloc[:,selected_index], X_test.iloc[:,selected_index], y_train_os, y_test)\n",
    "answer = ['Tuned_CART'] +['Selected']+  list(answer)\n",
    "\n",
    "final_answer.loc[indexx] = answer\n",
    "indexx += 1"
   ]
  },
  {
   "cell_type": "markdown",
   "metadata": {},
   "source": [
    "### 3.2 Random Forest"
   ]
  },
  {
   "cell_type": "markdown",
   "metadata": {},
   "source": [
    "Python Documentation: https://scikit-learn.org/stable/modules/generated/sklearn.ensemble.RandomForestClassifier.html"
   ]
  },
  {
   "cell_type": "markdown",
   "metadata": {},
   "source": [
    "#### 3.2 (a) Random Forest v1 - Full Dataset + Default Hyperparameters"
   ]
  },
  {
   "cell_type": "code",
   "execution_count": 34,
   "metadata": {},
   "outputs": [
    {
     "data": {
      "text/html": [
       "<style>#sk-container-id-1 {color: black;background-color: white;}#sk-container-id-1 pre{padding: 0;}#sk-container-id-1 div.sk-toggleable {background-color: white;}#sk-container-id-1 label.sk-toggleable__label {cursor: pointer;display: block;width: 100%;margin-bottom: 0;padding: 0.3em;box-sizing: border-box;text-align: center;}#sk-container-id-1 label.sk-toggleable__label-arrow:before {content: \"▸\";float: left;margin-right: 0.25em;color: #696969;}#sk-container-id-1 label.sk-toggleable__label-arrow:hover:before {color: black;}#sk-container-id-1 div.sk-estimator:hover label.sk-toggleable__label-arrow:before {color: black;}#sk-container-id-1 div.sk-toggleable__content {max-height: 0;max-width: 0;overflow: hidden;text-align: left;background-color: #f0f8ff;}#sk-container-id-1 div.sk-toggleable__content pre {margin: 0.2em;color: black;border-radius: 0.25em;background-color: #f0f8ff;}#sk-container-id-1 input.sk-toggleable__control:checked~div.sk-toggleable__content {max-height: 200px;max-width: 100%;overflow: auto;}#sk-container-id-1 input.sk-toggleable__control:checked~label.sk-toggleable__label-arrow:before {content: \"▾\";}#sk-container-id-1 div.sk-estimator input.sk-toggleable__control:checked~label.sk-toggleable__label {background-color: #d4ebff;}#sk-container-id-1 div.sk-label input.sk-toggleable__control:checked~label.sk-toggleable__label {background-color: #d4ebff;}#sk-container-id-1 input.sk-hidden--visually {border: 0;clip: rect(1px 1px 1px 1px);clip: rect(1px, 1px, 1px, 1px);height: 1px;margin: -1px;overflow: hidden;padding: 0;position: absolute;width: 1px;}#sk-container-id-1 div.sk-estimator {font-family: monospace;background-color: #f0f8ff;border: 1px dotted black;border-radius: 0.25em;box-sizing: border-box;margin-bottom: 0.5em;}#sk-container-id-1 div.sk-estimator:hover {background-color: #d4ebff;}#sk-container-id-1 div.sk-parallel-item::after {content: \"\";width: 100%;border-bottom: 1px solid gray;flex-grow: 1;}#sk-container-id-1 div.sk-label:hover label.sk-toggleable__label {background-color: #d4ebff;}#sk-container-id-1 div.sk-serial::before {content: \"\";position: absolute;border-left: 1px solid gray;box-sizing: border-box;top: 0;bottom: 0;left: 50%;z-index: 0;}#sk-container-id-1 div.sk-serial {display: flex;flex-direction: column;align-items: center;background-color: white;padding-right: 0.2em;padding-left: 0.2em;position: relative;}#sk-container-id-1 div.sk-item {position: relative;z-index: 1;}#sk-container-id-1 div.sk-parallel {display: flex;align-items: stretch;justify-content: center;background-color: white;position: relative;}#sk-container-id-1 div.sk-item::before, #sk-container-id-1 div.sk-parallel-item::before {content: \"\";position: absolute;border-left: 1px solid gray;box-sizing: border-box;top: 0;bottom: 0;left: 50%;z-index: -1;}#sk-container-id-1 div.sk-parallel-item {display: flex;flex-direction: column;z-index: 1;position: relative;background-color: white;}#sk-container-id-1 div.sk-parallel-item:first-child::after {align-self: flex-end;width: 50%;}#sk-container-id-1 div.sk-parallel-item:last-child::after {align-self: flex-start;width: 50%;}#sk-container-id-1 div.sk-parallel-item:only-child::after {width: 0;}#sk-container-id-1 div.sk-dashed-wrapped {border: 1px dashed gray;margin: 0 0.4em 0.5em 0.4em;box-sizing: border-box;padding-bottom: 0.4em;background-color: white;}#sk-container-id-1 div.sk-label label {font-family: monospace;font-weight: bold;display: inline-block;line-height: 1.2em;}#sk-container-id-1 div.sk-label-container {text-align: center;}#sk-container-id-1 div.sk-container {/* jupyter's `normalize.less` sets `[hidden] { display: none; }` but bootstrap.min.css set `[hidden] { display: none !important; }` so we also need the `!important` here to be able to override the default hidden behavior on the sphinx rendered scikit-learn.org. See: https://github.com/scikit-learn/scikit-learn/issues/21755 */display: inline-block !important;position: relative;}#sk-container-id-1 div.sk-text-repr-fallback {display: none;}</style><div id=\"sk-container-id-1\" class=\"sk-top-container\"><div class=\"sk-text-repr-fallback\"><pre>RandomForestClassifier(n_estimators=500, oob_score=True)</pre><b>In a Jupyter environment, please rerun this cell to show the HTML representation or trust the notebook. <br />On GitHub, the HTML representation is unable to render, please try loading this page with nbviewer.org.</b></div><div class=\"sk-container\" hidden><div class=\"sk-item\"><div class=\"sk-estimator sk-toggleable\"><input class=\"sk-toggleable__control sk-hidden--visually\" id=\"sk-estimator-id-1\" type=\"checkbox\" checked><label for=\"sk-estimator-id-1\" class=\"sk-toggleable__label sk-toggleable__label-arrow\">RandomForestClassifier</label><div class=\"sk-toggleable__content\"><pre>RandomForestClassifier(n_estimators=500, oob_score=True)</pre></div></div></div></div></div>"
      ],
      "text/plain": [
       "RandomForestClassifier(n_estimators=500, oob_score=True)"
      ]
     },
     "execution_count": 34,
     "metadata": {},
     "output_type": "execute_result"
    }
   ],
   "source": [
    "# On all dataset \n",
    "# RFC Parameters tunning \n",
    "RFC = RandomForestClassifier(n_estimators=500, oob_score=True, max_features=\"sqrt\")\n",
    "RFC.fit(X_train_os,y_train_os.values.reshape(-1))"
   ]
  },
  {
   "cell_type": "code",
   "execution_count": 35,
   "metadata": {},
   "outputs": [
    {
     "data": {
      "text/plain": [
       "{'bootstrap': True,\n",
       " 'ccp_alpha': 0.0,\n",
       " 'class_weight': None,\n",
       " 'criterion': 'gini',\n",
       " 'max_depth': None,\n",
       " 'max_features': 'sqrt',\n",
       " 'max_leaf_nodes': None,\n",
       " 'max_samples': None,\n",
       " 'min_impurity_decrease': 0.0,\n",
       " 'min_samples_leaf': 1,\n",
       " 'min_samples_split': 2,\n",
       " 'min_weight_fraction_leaf': 0.0,\n",
       " 'n_estimators': 500,\n",
       " 'n_jobs': None,\n",
       " 'oob_score': True,\n",
       " 'random_state': None,\n",
       " 'verbose': 0,\n",
       " 'warm_start': False}"
      ]
     },
     "execution_count": 35,
     "metadata": {},
     "output_type": "execute_result"
    }
   ],
   "source": [
    "RFC.get_params()"
   ]
  },
  {
   "cell_type": "code",
   "execution_count": 36,
   "metadata": {},
   "outputs": [
    {
     "name": "stdout",
     "output_type": "stream",
     "text": [
      "-----\n",
      "-> Test Dataset\n",
      "+-------------------------+-----------+\n",
      "| Metric                  |     Value |\n",
      "+=========================+===========+\n",
      "| Classification Accuracy | 0.911432  |\n",
      "+-------------------------+-----------+\n",
      "| True Positive Rate      | 0.835267  |\n",
      "+-------------------------+-----------+\n",
      "| True Negative Rate      | 0.934975  |\n",
      "+-------------------------+-----------+\n",
      "| False Positive Rate     | 0.0650251 |\n",
      "+-------------------------+-----------+\n",
      "| False Negative Rate     | 0.164733  |\n",
      "+-------------------------+-----------+\n",
      "\n",
      "Precision: 0.7988165680473372\n",
      "Recall: 0.8352668213457076\n",
      "f1_score: 0.8166351606805293\n"
     ]
    },
    {
     "data": {
      "image/png": "[encoded data removed]",
      "text/plain": [
       "<Figure size 360x216 with 2 Axes>"
      ]
     },
     "metadata": {
      "needs_background": "light"
     },
     "output_type": "display_data"
    },
    {
     "data": {
      "image/png": "[encoded data removed]",
      "text/plain": [
       "<Figure size 576x360 with 1 Axes>"
      ]
     },
     "metadata": {
      "needs_background": "light"
     },
     "output_type": "display_data"
    },
    {
     "name": "stdout",
     "output_type": "stream",
     "text": [
      "ROC-AUC-Score: 0.9557596865299627\n",
      "-----\n",
      "\n"
     ]
    }
   ],
   "source": [
    "answer = model_performance(RFC, X_train_os, X_test, y_train_os, y_test)\n",
    "answer = ['RF'] +['All'] + list(answer)\n",
    "\n",
    "final_answer.loc[indexx] = answer\n",
    "indexx += 1"
   ]
  },
  {
   "cell_type": "markdown",
   "metadata": {},
   "source": [
    "#### 3.2 (b) Random Forest v2 - Full Dataset + Hyperparameter Tuning"
   ]
  },
  {
   "cell_type": "code",
   "execution_count": 45,
   "metadata": {},
   "outputs": [
    {
     "name": "stdout",
     "output_type": "stream",
     "text": [
      "Fitting 5 folds for each of 384 candidates, totalling 1920 fits\n"
     ]
    },
    {
     "data": {
      "text/plain": [
       "0.9349559813568099"
      ]
     },
     "execution_count": 45,
     "metadata": {},
     "output_type": "execute_result"
    }
   ],
   "source": [
    "# On all dataset \n",
    "# RFC Parameters tunning \n",
    "RFC = RandomForestClassifier()\n",
    "rfs = int(np.floor(np.sqrt(X_train_os.shape[1])))\n",
    "rf_param_grid = {\n",
    "    \"max_features\": [i for i in range(1, rfs, 1)],\n",
    "    \"criterion\" : [\"gini\", \"entropy\"],\n",
    "    \"min_samples_leaf\" : [1, 5, 10, 25],\n",
    "    \"min_samples_split\" : [2, 4, 10, 12],\n",
    "    \"n_estimators\": [200, 400, 500, 700]\n",
    "}\n",
    "\n",
    "\n",
    "gsRFC_1 = GridSearchCV(RFC,param_grid = rf_param_grid, cv=kfold, scoring=\"accuracy\", n_jobs= 4, verbose = 1)\n",
    "\n",
    "gsRFC_1.fit(X_train_os,y_train_os.values.reshape(-1))\n",
    "\n",
    "RFC_best = gsRFC_1.best_estimator_\n",
    "\n",
    "# Best score\n",
    "gsRFC_1.best_score_"
   ]
  },
  {
   "cell_type": "code",
   "execution_count": 46,
   "metadata": {},
   "outputs": [
    {
     "data": {
      "text/plain": [
       "{'bootstrap': True,\n",
       " 'ccp_alpha': 0.0,\n",
       " 'class_weight': None,\n",
       " 'criterion': 'gini',\n",
       " 'max_depth': None,\n",
       " 'max_features': 3,\n",
       " 'max_leaf_nodes': None,\n",
       " 'max_samples': None,\n",
       " 'min_impurity_decrease': 0.0,\n",
       " 'min_samples_leaf': 1,\n",
       " 'min_samples_split': 2,\n",
       " 'min_weight_fraction_leaf': 0.0,\n",
       " 'n_estimators': 200,\n",
       " 'n_jobs': None,\n",
       " 'oob_score': False,\n",
       " 'random_state': None,\n",
       " 'verbose': 0,\n",
       " 'warm_start': False}"
      ]
     },
     "execution_count": 46,
     "metadata": {},
     "output_type": "execute_result"
    }
   ],
   "source": [
    "RFC_best.get_params()"
   ]
  },
  {
   "cell_type": "code",
   "execution_count": 47,
   "metadata": {
    "scrolled": false
   },
   "outputs": [
    {
     "name": "stdout",
     "output_type": "stream",
     "text": [
      "-----\n",
      "-> Test Dataset\n",
      "+-------------------------+-----------+\n",
      "| Metric                  |     Value |\n",
      "+=========================+===========+\n",
      "| Classification Accuracy | 0.909971  |\n",
      "+-------------------------+-----------+\n",
      "| True Positive Rate      | 0.82908   |\n",
      "+-------------------------+-----------+\n",
      "| True Negative Rate      | 0.934975  |\n",
      "+-------------------------+-----------+\n",
      "| False Positive Rate     | 0.0650251 |\n",
      "+-------------------------+-----------+\n",
      "| False Negative Rate     | 0.17092   |\n",
      "+-------------------------+-----------+\n",
      "\n",
      "Precision: 0.7976190476190477\n",
      "Recall: 0.8290796597061099\n",
      "f1_score: 0.8130451270383011\n"
     ]
    },
    {
     "data": {
      "image/png": "[encoded data removed]",
      "text/plain": [
       "<Figure size 360x216 with 2 Axes>"
      ]
     },
     "metadata": {
      "needs_background": "light"
     },
     "output_type": "display_data"
    },
    {
     "data": {
      "image/png": "[encoded data removed]",
      "text/plain": [
       "<Figure size 576x360 with 1 Axes>"
      ]
     },
     "metadata": {
      "needs_background": "light"
     },
     "output_type": "display_data"
    },
    {
     "name": "stdout",
     "output_type": "stream",
     "text": [
      "ROC-AUC-Score: 0.9552700051528866\n",
      "-----\n",
      "\n"
     ]
    }
   ],
   "source": [
    "answer = model_performance(RFC_best, X_train_os, X_test, y_train_os, y_test)\n",
    "answer = ['Tuned_RF'] +['All']+ list(answer)\n",
    "\n",
    "final_answer.loc[indexx] = answer\n",
    "indexx += 1"
   ]
  },
  {
   "cell_type": "markdown",
   "metadata": {},
   "source": [
    "#### 3.2 (c) Random Forest v3 - Dataset with Selected Features + Hyperparameter Tuning"
   ]
  },
  {
   "cell_type": "code",
   "execution_count": null,
   "metadata": {},
   "outputs": [],
   "source": [
    "# On selected features\n",
    "# RFC Parameters tunning \n",
    "RFC = RandomForestClassifier()\n",
    "\n",
    "# GridSerachCV\n",
    "param_grid = {\n",
    "    \"max_features\": ['auto', 'sqrt'],\n",
    "    \"criterion\" : [\"gini\"],\n",
    "    \"n_estimators\": [100, 200, 500]\n",
    "}\n",
    "\n",
    "gsRFC_2 = GridSearchCV(RFC,param_grid = rf_param_grid, cv=kfold, scoring=\"accuracy\", n_jobs= 4)\n",
    "\n",
    "gsRFC_2.fit(X_train_os.iloc[:,selected_index],y_train_os.values.reshape(-1))\n",
    "\n",
    "RFC_best2 = gsRFC_2.best_estimator_\n",
    "\n",
    "# Best score\n",
    "gsRFC_2.best_score_"
   ]
  },
  {
   "cell_type": "code",
   "execution_count": null,
   "metadata": {},
   "outputs": [],
   "source": [
    "RFC_best2.get_params()"
   ]
  },
  {
   "cell_type": "code",
   "execution_count": null,
   "metadata": {},
   "outputs": [],
   "source": [
    "answer = model_performance(RFC_best2, X_train_os.iloc[:,selected_index], X_test.iloc[:,selected_index], y_train_os, y_test)\n",
    "answer = ['Tuned_RF']+['Selected'] + list(answer)\n",
    "\n",
    "final_answer.loc[indexx] = answer\n",
    "indexx += 1"
   ]
  },
  {
   "cell_type": "markdown",
   "metadata": {},
   "source": [
    "### 3.3 Support Vector Classifier (SVC)"
   ]
  },
  {
   "cell_type": "markdown",
   "metadata": {},
   "source": [
    "Python Documentation: https://scikit-learn.org/stable/modules/generated/sklearn.svm.SVC.html"
   ]
  },
  {
   "cell_type": "markdown",
   "metadata": {},
   "source": [
    "#### 3.3 (a) SVC v1 - Full Dataset + Default Hyperparameters"
   ]
  },
  {
   "cell_type": "code",
   "execution_count": null,
   "metadata": {},
   "outputs": [],
   "source": [
    "# On all features\n",
    "\n",
    "### SVM classifier\n",
    "SVMC = SVC(probability=True)\n",
    "\n",
    "SVMC.fit(X_train_os,y_train_os.values.reshape(-1))"
   ]
  },
  {
   "cell_type": "code",
   "execution_count": null,
   "metadata": {},
   "outputs": [],
   "source": [
    "SVMC.get_params()"
   ]
  },
  {
   "cell_type": "code",
   "execution_count": null,
   "metadata": {
    "scrolled": false
   },
   "outputs": [],
   "source": [
    "answer = model_performance(SVMC, X_train_os, X_test, y_train_os, y_test)\n",
    "\n",
    "answer = ['SVM'] +['All']+list(answer)\n",
    "\n",
    "indexsize = final_answer.index.size\n",
    "final_answer.loc[indexx] = answer\n",
    "indexx += 1"
   ]
  },
  {
   "cell_type": "markdown",
   "metadata": {},
   "source": [
    "#### 3.3 (b) SVC v2 - Full Dataset + Hyperparameter Tuning"
   ]
  },
  {
   "cell_type": "code",
   "execution_count": null,
   "metadata": {},
   "outputs": [],
   "source": [
    "# On all features\n",
    "\n",
    "### SVC classifier\n",
    "SVMC = SVC(probability=True)\n",
    "svc_param_grid = {'kernel': ['rbf'], \n",
    "                  'gamma': [0.01],\n",
    "                  'C': [1]}\n",
    "\n",
    "gsSVMC_1 = GridSearchCV(SVMC,param_grid = svc_param_grid, cv=kfold, scoring=\"accuracy\", n_jobs= 4, verbose = 1)\n",
    "\n",
    "gsSVMC_1.fit(X_train_os,y_train_os.values.reshape(-1))\n",
    "\n",
    "SVMC_best = gsSVMC_1.best_estimator_\n",
    "\n",
    "# Best score\n",
    "gsSVMC_1.best_score_"
   ]
  },
  {
   "cell_type": "code",
   "execution_count": null,
   "metadata": {},
   "outputs": [],
   "source": [
    "SVMC_best.get_params()"
   ]
  },
  {
   "cell_type": "code",
   "execution_count": null,
   "metadata": {},
   "outputs": [],
   "source": [
    "answer = model_performance(SVMC_best, X_train_os, X_test, y_train_os, y_test)\n",
    "\n",
    "answer = ['Tuned_SVM'] +['All']+ list(answer)\n",
    "\n",
    "final_answer.loc[indexx] = answer\n",
    "indexx += 1"
   ]
  },
  {
   "cell_type": "markdown",
   "metadata": {},
   "source": [
    "#### 3.3 (c) SVC v3 - Dataset with Selected Features + Hyperparameter Tuning"
   ]
  },
  {
   "cell_type": "code",
   "execution_count": null,
   "metadata": {},
   "outputs": [],
   "source": [
    "# On selected features\n",
    "\n",
    "### SVC classifier\n",
    "SVMC = SVC(probability=True)\n",
    "svc_param_grid = {'kernel': ['rbf'], \n",
    "                  'gamma': [0.01],\n",
    "                  'C': [1]}\n",
    "\n",
    "gsSVMC_2 = GridSearchCV(SVMC,param_grid = svc_param_grid, cv=kfold, scoring=\"accuracy\", n_jobs= 4, verbose = 1)\n",
    "\n",
    "gsSVMC_2.fit(X_train_os.iloc[:,selected_index],y_train_os.values.reshape(-1))\n",
    "\n",
    "SVMC_best2 = gsSVMC_2.best_estimator_\n",
    "\n",
    "# Best score\n",
    "gsSVMC_2.best_score_"
   ]
  },
  {
   "cell_type": "code",
   "execution_count": null,
   "metadata": {},
   "outputs": [],
   "source": [
    "SVMC_best2.get_params()"
   ]
  },
  {
   "cell_type": "code",
   "execution_count": null,
   "metadata": {},
   "outputs": [],
   "source": [
    "answer = model_performance(SVMC_best2, X_train_os.iloc[:,selected_index], X_test.iloc[:,selected_index], y_train_os, y_test)\n",
    "answer = ['Tuned_SVM'] +['Selected']+ list(answer)\n",
    "\n",
    "indexsize = final_answer.index.size\n",
    "final_answer.loc[indexx] = answer\n",
    "indexx += 1"
   ]
  },
  {
   "cell_type": "markdown",
   "metadata": {},
   "source": [
    "### 3.4 Extreme Gradient Boosting (XGBoost)"
   ]
  },
  {
   "cell_type": "markdown",
   "metadata": {},
   "source": [
    "#### 3.4 (a) XGBoost v1 - Full Dataset + Default Hyperparameters"
   ]
  },
  {
   "cell_type": "code",
   "execution_count": null,
   "metadata": {},
   "outputs": [],
   "source": [
    "xgbc = XGBClassifier(use_label_encoder=False)\n",
    "xgbc.get_params()"
   ]
  },
  {
   "cell_type": "code",
   "execution_count": null,
   "metadata": {},
   "outputs": [],
   "source": [
    "xgbc.fit(X_train_os,y_train_os)"
   ]
  },
  {
   "cell_type": "code",
   "execution_count": null,
   "metadata": {},
   "outputs": [],
   "source": [
    "answer = model_performance(xgbc, X_train_os, X_test, y_train_os, y_test)\n",
    "answer = ['XGB'] +['All']+ list(answer)\n",
    "\n",
    "indexsize = final_answer.index.size\n",
    "final_answer.loc[indexx] = answer\n",
    "indexx += 1"
   ]
  },
  {
   "cell_type": "markdown",
   "metadata": {},
   "source": [
    "#### 3.4 (b) XGBoost v2 - Full Dataset + Hyperparameter Tuning"
   ]
  },
  {
   "cell_type": "code",
   "execution_count": null,
   "metadata": {},
   "outputs": [],
   "source": [
    "import warnings\n",
    "warnings.filterwarnings(\"ignore\")     \n",
    "### xgbc classifier\n",
    "### on all dataset\n",
    "xgbc = XGBClassifier(use_label_encoder=False)\n",
    "xgbc_param_grid = {\n",
    "    \"estimator\": [xgbc]   \n",
    "    , \"estimator__n_estimators\": [400, 425, 450, 475]\n",
    "    , \"estimator__max_depth\": [28, 29, 30, 31]\n",
    "    , \"estimator__eta\": [.1]\n",
    "    , \"estimator__gamma\": [0]\n",
    "    , \"estimator__subsample\": [.7, .8]\n",
    "    , \"estimator__colsample_bytree\": [.6, .7]\n",
    "    , \"estimator__colsample_bylevel\": [.6, .7]\n",
    "    , \"estimator__min_child_weight\": [1]\n",
    "    , \"col_transformer__num_pipe__imputer__n_neighbors\": [7]\n",
    "}\n",
    "\n",
    "gsXGBC_1 = GridSearchCV(xgbc,param_grid = xgbc_param_grid, cv=kfold, scoring=\"accuracy\", n_jobs= 4, verbose = 1)\n",
    "\n",
    "gsXGBC_1.fit(X_train_os,y_train_os)\n",
    "\n",
    "XGBC_best = gsXGBC_1.best_estimator_\n",
    "\n",
    "# Best score\n",
    "gsXGBC_1.best_score_"
   ]
  },
  {
   "cell_type": "code",
   "execution_count": null,
   "metadata": {},
   "outputs": [],
   "source": [
    "XGBC_best.get_params()"
   ]
  },
  {
   "cell_type": "code",
   "execution_count": null,
   "metadata": {},
   "outputs": [],
   "source": [
    "answer = model_performance(XGBC_best, X_train_os, X_test, y_train_os, y_test)\n",
    "answer = ['Tuned_XGB'] +['All']+ list(answer)\n",
    "\n",
    "indexsize = final_answer.index.size\n",
    "final_answer.loc[indexx] = answer\n",
    "indexx += 1"
   ]
  },
  {
   "cell_type": "markdown",
   "metadata": {},
   "source": [
    "#### 3.4 (c) XGBoost v3 - Dataset with Selected Features + Hyperparameter Tuning"
   ]
  },
  {
   "cell_type": "code",
   "execution_count": null,
   "metadata": {},
   "outputs": [],
   "source": [
    "import warnings\n",
    "warnings.filterwarnings(\"ignore\")     \n",
    "### xgbc\n",
    "### on selected dataset\n",
    "\n",
    "xgbc = XGBClassifier(use_label_encoder=False)\n",
    "xgbc_param_grid = {\n",
    "    \"estimator\": [xgbc]   \n",
    "    , \"estimator__n_estimators\": [400, 425, 450, 475]\n",
    "    , \"estimator__max_depth\": [28, 29, 30, 31]\n",
    "    , \"estimator__eta\": [.1]\n",
    "    , \"estimator__gamma\": [0]\n",
    "    , \"estimator__subsample\": [.7, .8]\n",
    "    , \"estimator__colsample_bytree\": [.6, .7]\n",
    "    , \"estimator__colsample_bylevel\": [.6, .7]\n",
    "    , \"estimator__min_child_weight\": [1]\n",
    "    , \"col_transformer__num_pipe__imputer__n_neighbors\": [7]\n",
    "}\n",
    "\n",
    "\n",
    "gsXGBC_2 = GridSearchCV(xgbc,param_grid = xgbc_param_grid, cv=kfold, scoring=\"accuracy\", n_jobs= 4, verbose = 1)\n",
    "\n",
    "gsXGBC_2.fit(X_train_os.iloc[:,selected_index],y_train_os)\n",
    "\n",
    "XGBC_best2 = gsXGBC_2.best_estimator_\n",
    "\n",
    "# Best score\n",
    "gsXGBC_2.best_score_"
   ]
  },
  {
   "cell_type": "code",
   "execution_count": null,
   "metadata": {},
   "outputs": [],
   "source": [
    "XGBC_best2.get_params()"
   ]
  },
  {
   "cell_type": "code",
   "execution_count": null,
   "metadata": {
    "scrolled": false
   },
   "outputs": [],
   "source": [
    "answer = model_performance(XGBC_best2, X_train_os.iloc[:,selected_index], X_test.iloc[:,selected_index], y_train_os, y_test)\n",
    "answer = ['Tuned_XGB']+['Selected'] + list(answer)\n",
    "\n",
    "indexsize = final_answer.index.size\n",
    "final_answer.loc[indexx] = answer\n",
    "indexx += 1"
   ]
  },
  {
   "cell_type": "markdown",
   "metadata": {},
   "source": [
    "### 3.5 Logistic Regression"
   ]
  },
  {
   "cell_type": "markdown",
   "metadata": {},
   "source": [
    "Python Documentation: https://scikit-learn.org/stable/modules/generated/sklearn.linear_model.LogisticRegression.html"
   ]
  },
  {
   "cell_type": "markdown",
   "metadata": {},
   "source": [
    "#### 3.5 (a) Logistic Regression v1 - Full Dataset + Default Hyperparameters"
   ]
  },
  {
   "cell_type": "code",
   "execution_count": null,
   "metadata": {},
   "outputs": [],
   "source": [
    "lr = LogisticRegression()\n",
    "lr.get_params()"
   ]
  },
  {
   "cell_type": "code",
   "execution_count": null,
   "metadata": {},
   "outputs": [],
   "source": [
    "lr.fit(X_train_os,y_train_os)\n",
    "answer = model_performance(lr, X_train_os, X_test, y_train_os, y_test)\n",
    "answer = ['LR']+['All'] + list(answer)\n",
    "\n",
    "indexsize = final_answer.index.size\n",
    "final_answer.loc[indexx] = answer\n",
    "indexx += 1"
   ]
  },
  {
   "cell_type": "markdown",
   "metadata": {},
   "source": [
    "#### 3.5 (b) Logistic Regression v2 - Full Dataset + Hyperparameter Tuning"
   ]
  },
  {
   "cell_type": "code",
   "execution_count": null,
   "metadata": {},
   "outputs": [],
   "source": [
    "### logistic regression\n",
    "### on all dataset\n",
    "lr = LogisticRegression()\n",
    "lr_param_grid = {'penalty': ['l1','l2']}\n",
    "\n",
    "lr_1 = GridSearchCV(lr,param_grid = lr_param_grid, cv=kfold, scoring=\"accuracy\", n_jobs= 4, verbose = 1)\n",
    "\n",
    "lr_1.fit(X_train_os,y_train_os.values.reshape(-1))\n",
    "\n",
    "lr_best = lr_1.best_estimator_\n",
    "\n",
    "# Best score\n",
    "lr_1.best_score_"
   ]
  },
  {
   "cell_type": "code",
   "execution_count": null,
   "metadata": {},
   "outputs": [],
   "source": [
    "lr_best.get_params()"
   ]
  },
  {
   "cell_type": "code",
   "execution_count": null,
   "metadata": {
    "scrolled": false
   },
   "outputs": [],
   "source": [
    "answer = model_performance(lr_best, X_train_os, X_test, y_train_os, y_test)\n",
    "answer = ['Tuned_LR'] +['All']+ list(answer)\n",
    "\n",
    "indexsize = final_answer.index.size\n",
    "final_answer.loc[indexx] = answer\n",
    "indexx += 1"
   ]
  },
  {
   "cell_type": "markdown",
   "metadata": {},
   "source": [
    "#### 3.5 (c) Logistic Regression v3 - Dataset with Selected Features + Hyperparameter Tuning"
   ]
  },
  {
   "cell_type": "code",
   "execution_count": null,
   "metadata": {},
   "outputs": [],
   "source": [
    "### logistic regression classifier\n",
    "### on selected dataset\n",
    "lr = LogisticRegression()\n",
    "lr_param_grid = {'penalty': ['l1','l2']}\n",
    "\n",
    "lr_1 = GridSearchCV(lr,param_grid = lr_param_grid, cv=kfold, scoring=\"accuracy\", n_jobs= 4, verbose = 1)\n",
    "\n",
    "lr_1.fit(X_train_os.iloc[:,selected_index],y_train_os.values.reshape(-1))\n",
    "\n",
    "lr_best2 = lr_1.best_estimator_\n",
    "\n",
    "# Best score\n",
    "lr_1.best_score_"
   ]
  },
  {
   "cell_type": "code",
   "execution_count": null,
   "metadata": {},
   "outputs": [],
   "source": [
    "lr_best2.get_params()"
   ]
  },
  {
   "cell_type": "code",
   "execution_count": null,
   "metadata": {
    "scrolled": false
   },
   "outputs": [],
   "source": [
    "answer = model_performance(lr_best2, X_train_os.iloc[:,selected_index], X_test.iloc[:,selected_index], y_train_os, y_test)\n",
    "answer = ['Tuned_LR']+['Selected'] + list(answer)\n",
    "\n",
    "indexsize = final_answer.index.size\n",
    "final_answer.loc[indexx] = answer\n",
    "indexx += 1"
   ]
  },
  {
   "cell_type": "code",
   "execution_count": null,
   "metadata": {},
   "outputs": [],
   "source": [
    "final_answer.sort_values(by=['Accuracy','Recall'], ascending=False)"
   ]
  },
  {
   "cell_type": "code",
   "execution_count": null,
   "metadata": {},
   "outputs": [],
   "source": [
    "final_answer\n"
   ]
  },
  {
   "cell_type": "markdown",
   "metadata": {},
   "source": [
    "## 4) Model Evaluation"
   ]
  },
  {
   "cell_type": "markdown",
   "metadata": {},
   "source": [
    "### Model Performance Across Different Datasets"
   ]
  },
  {
   "cell_type": "code",
   "execution_count": null,
   "metadata": {},
   "outputs": [],
   "source": [
    "tunedModel = final_answer[final_answer['Model'].str.contains('Tuned')]\n",
    "tunedModel"
   ]
  },
  {
   "cell_type": "code",
   "execution_count": null,
   "metadata": {},
   "outputs": [],
   "source": [
    "fig, ax = plt.subplots(figsize=(14, 6))\n",
    "sb.barplot(data=tunedModel, x='Model', y='Accuracy', hue='Dataset', ax=ax, palette=\"coolwarm\")\n",
    "\n",
    "# Add the text labels on top of the bars\n",
    "for p in ax.containers:\n",
    "    ax.bar_label(p, label_type='edge', fontsize=10)\n",
    "# Set y-axis range\n",
    "plt.ylim(0.2, 1.1)\n",
    "ax.legend(fontsize=14)\n",
    "ax.set_xlabel('Dataset')\n",
    "ax.set_ylabel('Accuracy')\n",
    "ax.set_title('Comparison of Model Recall by Dataset')\n",
    "plt.show()"
   ]
  },
  {
   "cell_type": "markdown",
   "metadata": {},
   "source": [
    "## 5) Best Model - `Random Forest` with `Hyperparameter Tuning`"
   ]
  },
  {
   "cell_type": "markdown",
   "metadata": {},
   "source": [
    "### 5.1 `K-fold` Cross Validation to Obtain Various Evaluation Metrics Results "
   ]
  },
  {
   "cell_type": "markdown",
   "metadata": {},
   "source": [
    "**The following metrics results will be computed:**\n",
    "- Out-of-bag (oob) Score\n",
    "- False Positive Rate\n",
    "- True Positive Rate\n",
    "- ROC AUC Score"
   ]
  },
  {
   "cell_type": "code",
   "execution_count": null,
   "metadata": {},
   "outputs": [],
   "source": [
    "leaderboard_model = RandomForestClassifier(max_features=3, min_samples_leaf=4,\n",
    "                       min_samples_split=5, n_estimators=30, oob_score=True)\n",
    "\n",
    "from sklearn.model_selection import StratifiedKFold\n",
    "from sklearn.metrics import roc_curve, auc\n",
    "\n",
    "N = 10\n",
    "oob = 0\n",
    "probs = pd.DataFrame(np.zeros((len(X_test), N * 2)), columns=['Fold_{}_Prob_{}'.format(i, j) for i in range(1, N + 1) for j in range(2)])\n",
    "importances = pd.DataFrame(np.zeros((X_train.shape[1], N)), columns=['Fold_{}'.format(i) for i in range(1, N + 1)], index=data.columns[:-1])\n",
    "fprs, tprs, scores = [], [], []\n",
    "\n",
    "skf = StratifiedKFold(n_splits=N, random_state=N, shuffle=True)\n",
    "\n",
    "for fold, (trn_idx, val_idx) in enumerate(skf.split(X_train, y_train), 1):\n",
    "    print('Fold {}\\n'.format(fold))\n",
    "    \n",
    "    # Fitting the model\n",
    "    leaderboard_model.fit(X_train.iloc[trn_idx], y_train.iloc[trn_idx])\n",
    "    \n",
    "    # Computing Train AUC score\n",
    "    trn_fpr, trn_tpr, trn_thresholds = roc_curve(y_train.iloc[trn_idx], leaderboard_model.predict_proba(X_train.iloc[trn_idx])[:, 1])\n",
    "    trn_auc_score = auc(trn_fpr, trn_tpr)\n",
    "    # Computing Validation AUC score\n",
    "    val_fpr, val_tpr, val_thresholds = roc_curve(y_train.iloc[val_idx], leaderboard_model.predict_proba(X_train.iloc[val_idx])[:, 1])\n",
    "    val_auc_score = auc(val_fpr, val_tpr)  \n",
    "      \n",
    "    scores.append((trn_auc_score, val_auc_score))\n",
    "    fprs.append(val_fpr)\n",
    "    tprs.append(val_tpr)\n",
    "    \n",
    "    # X_test probabilities\n",
    "    probs.loc[:, 'Fold_{}_Prob_0'.format(fold)] = leaderboard_model.predict_proba(X_test)[:, 0]\n",
    "    probs.loc[:, 'Fold_{}_Prob_1'.format(fold)] = leaderboard_model.predict_proba(X_test)[:, 1]\n",
    "    importances.iloc[:, fold - 1] = leaderboard_model.feature_importances_\n",
    "        \n",
    "    oob += leaderboard_model.oob_score_ / N\n",
    "    print('Fold {} OOB Score: {}\\n'.format(fold, leaderboard_model.oob_score_))   \n",
    "    \n",
    "print('Average OOB Score: {}'.format(oob))"
   ]
  },
  {
   "cell_type": "markdown",
   "metadata": {},
   "source": [
    "### 4.2 Visualising ROC AUC Curve"
   ]
  },
  {
   "cell_type": "code",
   "execution_count": null,
   "metadata": {},
   "outputs": [],
   "source": [
    "#Visualisation\n",
    "\n",
    "def plot_roc_curve(fprs, tprs):\n",
    "    \n",
    "    tprs_interp = []\n",
    "    aucs = []\n",
    "    mean_fpr = np.linspace(0, 1, 100)\n",
    "    f, ax = plt.subplots(figsize=(15, 15),dpi = 300)\n",
    "    \n",
    "    # Plotting ROC for each fold and computing AUC scores\n",
    "    for i, (fpr, tpr) in enumerate(zip(fprs, tprs), 1):\n",
    "        tprs_interp.append(np.interp(mean_fpr, fpr, tpr))\n",
    "        tprs_interp[-1][0] = 0.0\n",
    "        roc_auc = auc(fpr, tpr)\n",
    "        aucs.append(roc_auc)\n",
    "        ax.plot(fpr, tpr, lw=1, alpha=0.3, label='ROC Fold {} (AUC = {:.3f})'.format(i, roc_auc))\n",
    "        \n",
    "    # Plotting ROC for random guessing\n",
    "    plt.plot([0, 1], [0, 1], linestyle='--', lw=2, color='r', alpha=0.8, label='Random Guessing')\n",
    "    \n",
    "    mean_tpr = np.mean(tprs_interp, axis=0)\n",
    "    mean_tpr[-1] = 1.0\n",
    "    mean_auc = auc(mean_fpr, mean_tpr)\n",
    "    std_auc = np.std(aucs)\n",
    "    \n",
    "    # Plotting the mean ROC\n",
    "    ax.plot(mean_fpr, mean_tpr, color='b', label='Mean ROC (AUC = {:.3f} $\\pm$ {:.3f})'.format(mean_auc, std_auc), lw=2, alpha=0.8)\n",
    "    \n",
    "    # Plotting the standard deviation around the mean ROC Curve\n",
    "    std_tpr = np.std(tprs_interp, axis=0)\n",
    "    tprs_upper = np.minimum(mean_tpr + std_tpr, 1)\n",
    "    tprs_lower = np.maximum(mean_tpr - std_tpr, 0)\n",
    "    ax.fill_between(mean_fpr, tprs_lower, tprs_upper, color='grey', alpha=.2, label='$\\pm$ 1 std. dev.')\n",
    "    \n",
    "    ax.set_xlabel('False Positive Rate', size=15, labelpad=20)\n",
    "    ax.set_ylabel('True Positive Rate', size=15, labelpad=20)\n",
    "    ax.tick_params(axis='x', labelsize=15)\n",
    "    ax.tick_params(axis='y', labelsize=15)\n",
    "    ax.set_xlim([-0.05, 1.05])\n",
    "    ax.set_ylim([-0.05, 1.05])\n",
    "\n",
    "    ax.set_title('ROC Curves of Folds', size=20, y=1.02)\n",
    "    ax.legend(loc='lower right', prop={'size': 13})\n",
    "    \n",
    "    plt.show()\n",
    "\n",
    "plot_roc_curve(fprs, tprs)"
   ]
  },
  {
   "cell_type": "markdown",
   "metadata": {},
   "source": [
    "### 5.3 Visualising Learning Curve"
   ]
  },
  {
   "cell_type": "code",
   "execution_count": null,
   "metadata": {},
   "outputs": [],
   "source": [
    "def plot_learning_curve(estimator, title, X, y, ylim=None, cv=None,\n",
    "                        n_jobs=-1, train_sizes=np.linspace(.1, 1.0, 5)):\n",
    "    \"\"\"Generate a simple plot of the test and training learning curve\"\"\"\n",
    "    plt.figure()\n",
    "    plt.title(title)\n",
    "    if ylim is not None:\n",
    "        plt.ylim(*ylim)\n",
    "    plt.xlabel(\"Training examples\")\n",
    "    plt.ylabel(\"Score\")\n",
    "    train_sizes, train_scores, test_scores = learning_curve(\n",
    "        estimator, X, y, cv=cv, n_jobs=n_jobs, train_sizes=train_sizes)\n",
    "    train_scores_mean = np.mean(train_scores, axis=1)\n",
    "    train_scores_std = np.std(train_scores, axis=1)\n",
    "    test_scores_mean = np.mean(test_scores, axis=1)\n",
    "    test_scores_std = np.std(test_scores, axis=1)\n",
    "    plt.grid()\n",
    "\n",
    "    plt.fill_between(train_sizes, train_scores_mean - train_scores_std,\n",
    "                     train_scores_mean + train_scores_std, alpha=0.1,\n",
    "                     color=\"r\")\n",
    "    plt.fill_between(train_sizes, test_scores_mean - test_scores_std,\n",
    "                     test_scores_mean + test_scores_std, alpha=0.1, color=\"g\")\n",
    "    plt.plot(train_sizes, train_scores_mean, 'o-', color=\"r\",\n",
    "             label=\"Training score\")\n",
    "    plt.plot(train_sizes, test_scores_mean, 'o-', color=\"g\",\n",
    "             label=\"Cross-validation score\")\n",
    "\n",
    "    plt.legend(loc=\"best\")\n",
    "    return plt\n",
    "\n",
    "g = plot_learning_curve(leaderboard_model, \"Random Forest learning curves\",X_train,y_train.values.reshape(-1),cv=kfold)\n"
   ]
  },
  {
   "cell_type": "markdown",
   "metadata": {},
   "source": [
    "### 5.4 Table of Comparison for Different Models"
   ]
  },
  {
   "cell_type": "markdown",
   "metadata": {},
   "source": [
    "## 6) Model Explainer - `SHAP`"
   ]
  },
  {
   "cell_type": "code",
   "execution_count": null,
   "metadata": {},
   "outputs": [],
   "source": []
  },
  {
   "cell_type": "code",
   "execution_count": null,
   "metadata": {},
   "outputs": [],
   "source": []
  },
  {
   "cell_type": "code",
   "execution_count": null,
   "metadata": {},
   "outputs": [],
   "source": []
  },
  {
   "cell_type": "code",
   "execution_count": null,
   "metadata": {},
   "outputs": [],
   "source": []
  }
 ],
 "metadata": {
  "kernelspec": {
   "display_name": "Python 3 (ipykernel)",
   "language": "python",
   "name": "python3"
  },
  "language_info": {
   "codemirror_mode": {
    "name": "ipython",
    "version": 3
   },
   "file_extension": ".py",
   "mimetype": "text/x-python",
   "name": "python",
   "nbconvert_exporter": "python",
   "pygments_lexer": "ipython3",
   "version": "3.8.12"
  },
  "vscode": {
   "interpreter": {
    "hash": "81794d4967e6c3204c66dcd87b604927b115b27c00565d3d43f05ba2f3a2cb0d"
   }
  }
 },
 "nbformat": 4,
 "nbformat_minor": 2
}
