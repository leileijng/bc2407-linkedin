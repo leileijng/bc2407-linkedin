{
 "cells": [
  {
   "cell_type": "markdown",
   "metadata": {},
   "source": [
    "## Data Cleaning & Pre-processing\n",
    "![data-cleaning-in-python](https://daxg39y63pxwu.cloudfront.net/images/blog/data-cleaning-in-python/data-cleaning-in-python.png)\n",
    "\n",
    "First step of an analytics project is to clean the datasets and pre-processed it to make it suitable for use by analytical model and visualization\n"
   ]
  },
  {
   "cell_type": "code",
   "execution_count": 1,
   "metadata": {},
   "outputs": [],
   "source": [
    "# import basic libraries\n",
    "import pandas as pd\n",
    "import numpy as np\n",
    "import seaborn as sb"
   ]
  },
  {
   "cell_type": "markdown",
   "metadata": {},
   "source": [
    "## 1. Import dataset into the notebook"
   ]
  },
  {
   "cell_type": "code",
   "execution_count": 2,
   "metadata": {},
   "outputs": [],
   "source": [
    "train_df = pd.read_csv('archive/aug_train.csv')"
   ]
  },
  {
   "cell_type": "code",
   "execution_count": 3,
   "metadata": {
    "scrolled": true
   },
   "outputs": [],
   "source": [
    "test_df = pd.read_csv('archive/aug_test.csv')"
   ]
  },
  {
   "cell_type": "code",
   "execution_count": 4,
   "metadata": {},
   "outputs": [
    {
     "name": "stdout",
     "output_type": "stream",
     "text": [
      "<class 'pandas.core.frame.DataFrame'>\n",
      "Int64Index: 21287 entries, 0 to 19157\n",
      "Data columns (total 14 columns):\n",
      " #   Column                  Non-Null Count  Dtype  \n",
      "---  ------                  --------------  -----  \n",
      " 0   enrollee_id             21287 non-null  int64  \n",
      " 1   city                    21287 non-null  object \n",
      " 2   city_development_index  21287 non-null  float64\n",
      " 3   gender                  16271 non-null  object \n",
      " 4   relevent_experience     21287 non-null  object \n",
      " 5   enrolled_university     20870 non-null  object \n",
      " 6   education_level         20775 non-null  object \n",
      " 7   major_discipline        18162 non-null  object \n",
      " 8   experience              21217 non-null  object \n",
      " 9   company_size            14727 non-null  object \n",
      " 10  company_type            14513 non-null  object \n",
      " 11  last_new_job            20824 non-null  object \n",
      " 12  training_hours          21287 non-null  int64  \n",
      " 13  target                  19158 non-null  float64\n",
      "dtypes: float64(2), int64(2), object(10)\n",
      "memory usage: 2.4+ MB\n"
     ]
    }
   ],
   "source": [
    "combined_df = pd.concat([test_df, train_df])\n",
    "combined_df.info()"
   ]
  },
  {
   "cell_type": "code",
   "execution_count": 5,
   "metadata": {},
   "outputs": [],
   "source": [
    "shuffled = combined_df.sample(frac=1, random_state=1).reset_index()"
   ]
  },
  {
   "cell_type": "markdown",
   "metadata": {},
   "source": [
    "- combine train and test dataset and reshuffle "
   ]
  },
  {
   "cell_type": "code",
   "execution_count": 6,
   "metadata": {},
   "outputs": [],
   "source": [
    "shuffled.to_csv('archive/originalDataset.csv', index=False)"
   ]
  },
  {
   "cell_type": "markdown",
   "metadata": {},
   "source": [
    "\n",
    "\n",
    "**About this dataset**\n",
    "- `enrolle_id` : Candidate's unique ID (Identity Document)\n",
    "- `city` : City code\n",
    "- `city_development_index`: Development index of the city (scaled) (0.45: less developed to 0.95: highly developed)\n",
    "- `gender`: Gender of a candidate\n",
    "- `relevant_experience` : Relevant experience of a candidate\n",
    "- `enrolled_university` : Type of University course enrolled if any\n",
    "- `education_level` : Education level of candidate\n",
    "- `major_discipline` : Education major discipline of candidate\n",
    "    - STEM: Candidate's degree programme falls under the umbrella of Science, Technology, Engineering or Math\n",
    "    - Humanities: Candidates who had interdisciplinary study of circumstances, Literature, English, Arts or History\n",
    "    - Business Degree: Candidates who hold bachelor of business degree\n",
    "    - Other: Candidates who hold other degrees apart from STEM, Humanities and Business. \n",
    "    - No Major: Candidates who do not have a degree\n",
    "- `experience` : Candidate total experience in years\n",
    "- `company_size` : Number of employees in current employer's company\n",
    "- `company_type` : Type of current employer\n",
    "    - Pvt Ltd: Private Limited company\n",
    "    - Public Sector: Organisations that are owned and operated by the government\n",
    "    - Funded Startup: A company that has received funding from investors like venture capitalists/angel investors\n",
    "    - Early Stage Startup: Newly founded company that is in the early stages of development\n",
    "    - NGO: Non-Government Organisation \n",
    "- `last_new_job` : Difference in years between previous job and current job\n",
    "- `training_hours`: training hours completed\n",
    "- `target`: 0 – Not looking for job change, 1 – Looking for a job change\n"
   ]
  },
  {
   "cell_type": "markdown",
   "metadata": {},
   "source": [
    "<hr>\n",
    "\n",
    "## 2. Format Data"
   ]
  },
  {
   "cell_type": "code",
   "execution_count": 7,
   "metadata": {
    "scrolled": false
   },
   "outputs": [
    {
     "name": "stdout",
     "output_type": "stream",
     "text": [
      "<class 'pandas.core.frame.DataFrame'>\n",
      "RangeIndex: 21287 entries, 0 to 21286\n",
      "Data columns (total 15 columns):\n",
      " #   Column                  Non-Null Count  Dtype  \n",
      "---  ------                  --------------  -----  \n",
      " 0   index                   21287 non-null  int64  \n",
      " 1   enrollee_id             21287 non-null  int64  \n",
      " 2   city                    21287 non-null  object \n",
      " 3   city_development_index  21287 non-null  float64\n",
      " 4   gender                  16271 non-null  object \n",
      " 5   relevent_experience     21287 non-null  object \n",
      " 6   enrolled_university     20870 non-null  object \n",
      " 7   education_level         20775 non-null  object \n",
      " 8   major_discipline        18162 non-null  object \n",
      " 9   experience              21217 non-null  object \n",
      " 10  company_size            14727 non-null  object \n",
      " 11  company_type            14513 non-null  object \n",
      " 12  last_new_job            20824 non-null  object \n",
      " 13  training_hours          21287 non-null  int64  \n",
      " 14  target                  19158 non-null  float64\n",
      "dtypes: float64(2), int64(3), object(10)\n",
      "memory usage: 2.4+ MB\n"
     ]
    }
   ],
   "source": [
    "shuffled.info()"
   ]
  },
  {
   "cell_type": "code",
   "execution_count": null,
   "metadata": {},
   "outputs": [],
   "source": []
  },
  {
   "cell_type": "markdown",
   "metadata": {},
   "source": [
    "### 2.1 Drop irrelevant columns \n",
    "- index\n",
    "- enrollee_id"
   ]
  },
  {
   "cell_type": "code",
   "execution_count": 8,
   "metadata": {
    "scrolled": false
   },
   "outputs": [],
   "source": [
    "shuffled = shuffled.drop(shuffled.loc[:, 'index':'city'].columns, axis=1)"
   ]
  },
  {
   "cell_type": "code",
   "execution_count": 9,
   "metadata": {},
   "outputs": [
    {
     "data": {
      "text/html": [
       "<div>\n",
       "<style scoped>\n",
       "    .dataframe tbody tr th:only-of-type {\n",
       "        vertical-align: middle;\n",
       "    }\n",
       "\n",
       "    .dataframe tbody tr th {\n",
       "        vertical-align: top;\n",
       "    }\n",
       "\n",
       "    .dataframe thead th {\n",
       "        text-align: right;\n",
       "    }\n",
       "</style>\n",
       "<table border=\"1\" class=\"dataframe\">\n",
       "  <thead>\n",
       "    <tr style=\"text-align: right;\">\n",
       "      <th></th>\n",
       "      <th>city_development_index</th>\n",
       "      <th>gender</th>\n",
       "      <th>relevent_experience</th>\n",
       "      <th>enrolled_university</th>\n",
       "      <th>education_level</th>\n",
       "      <th>major_discipline</th>\n",
       "      <th>experience</th>\n",
       "      <th>company_size</th>\n",
       "      <th>company_type</th>\n",
       "      <th>last_new_job</th>\n",
       "      <th>training_hours</th>\n",
       "      <th>target</th>\n",
       "    </tr>\n",
       "  </thead>\n",
       "  <tbody>\n",
       "    <tr>\n",
       "      <th>0</th>\n",
       "      <td>0.924</td>\n",
       "      <td>Male</td>\n",
       "      <td>Has relevent experience</td>\n",
       "      <td>Full time course</td>\n",
       "      <td>Primary School</td>\n",
       "      <td>NaN</td>\n",
       "      <td>11</td>\n",
       "      <td>NaN</td>\n",
       "      <td>NaN</td>\n",
       "      <td>1</td>\n",
       "      <td>8</td>\n",
       "      <td>0.0</td>\n",
       "    </tr>\n",
       "    <tr>\n",
       "      <th>1</th>\n",
       "      <td>0.804</td>\n",
       "      <td>Male</td>\n",
       "      <td>Has relevent experience</td>\n",
       "      <td>no_enrollment</td>\n",
       "      <td>Graduate</td>\n",
       "      <td>STEM</td>\n",
       "      <td>17</td>\n",
       "      <td>50-99</td>\n",
       "      <td>NGO</td>\n",
       "      <td>1</td>\n",
       "      <td>57</td>\n",
       "      <td>0.0</td>\n",
       "    </tr>\n",
       "    <tr>\n",
       "      <th>2</th>\n",
       "      <td>0.920</td>\n",
       "      <td>Male</td>\n",
       "      <td>Has relevent experience</td>\n",
       "      <td>no_enrollment</td>\n",
       "      <td>Graduate</td>\n",
       "      <td>STEM</td>\n",
       "      <td>11</td>\n",
       "      <td>50-99</td>\n",
       "      <td>Pvt Ltd</td>\n",
       "      <td>1</td>\n",
       "      <td>32</td>\n",
       "      <td>0.0</td>\n",
       "    </tr>\n",
       "    <tr>\n",
       "      <th>3</th>\n",
       "      <td>0.856</td>\n",
       "      <td>Male</td>\n",
       "      <td>Has relevent experience</td>\n",
       "      <td>no_enrollment</td>\n",
       "      <td>Masters</td>\n",
       "      <td>STEM</td>\n",
       "      <td>11</td>\n",
       "      <td>50-99</td>\n",
       "      <td>Pvt Ltd</td>\n",
       "      <td>1</td>\n",
       "      <td>118</td>\n",
       "      <td>NaN</td>\n",
       "    </tr>\n",
       "    <tr>\n",
       "      <th>4</th>\n",
       "      <td>0.920</td>\n",
       "      <td>Female</td>\n",
       "      <td>Has relevent experience</td>\n",
       "      <td>no_enrollment</td>\n",
       "      <td>Graduate</td>\n",
       "      <td>STEM</td>\n",
       "      <td>6</td>\n",
       "      <td>50-99</td>\n",
       "      <td>Early Stage Startup</td>\n",
       "      <td>2</td>\n",
       "      <td>310</td>\n",
       "      <td>0.0</td>\n",
       "    </tr>\n",
       "  </tbody>\n",
       "</table>\n",
       "</div>"
      ],
      "text/plain": [
       "   city_development_index  gender      relevent_experience  \\\n",
       "0                   0.924    Male  Has relevent experience   \n",
       "1                   0.804    Male  Has relevent experience   \n",
       "2                   0.920    Male  Has relevent experience   \n",
       "3                   0.856    Male  Has relevent experience   \n",
       "4                   0.920  Female  Has relevent experience   \n",
       "\n",
       "  enrolled_university education_level major_discipline experience  \\\n",
       "0    Full time course  Primary School              NaN         11   \n",
       "1       no_enrollment        Graduate             STEM         17   \n",
       "2       no_enrollment        Graduate             STEM         11   \n",
       "3       no_enrollment         Masters             STEM         11   \n",
       "4       no_enrollment        Graduate             STEM          6   \n",
       "\n",
       "  company_size         company_type last_new_job  training_hours  target  \n",
       "0          NaN                  NaN            1               8     0.0  \n",
       "1        50-99                  NGO            1              57     0.0  \n",
       "2        50-99              Pvt Ltd            1              32     0.0  \n",
       "3        50-99              Pvt Ltd            1             118     NaN  \n",
       "4        50-99  Early Stage Startup            2             310     0.0  "
      ]
     },
     "execution_count": 9,
     "metadata": {},
     "output_type": "execute_result"
    }
   ],
   "source": [
    "shuffled.head()"
   ]
  },
  {
   "cell_type": "markdown",
   "metadata": {},
   "source": [
    "#### Identify Continuous Variables"
   ]
  },
  {
   "cell_type": "code",
   "execution_count": 10,
   "metadata": {},
   "outputs": [
    {
     "data": {
      "text/plain": [
       "array(['city_development_index', 'training_hours', 'target'], dtype=object)"
      ]
     },
     "execution_count": 10,
     "metadata": {},
     "output_type": "execute_result"
    }
   ],
   "source": [
    "continuous_var = shuffled.select_dtypes(include = ['int64','float64']).columns.values\n",
    "continuous_var"
   ]
  },
  {
   "cell_type": "markdown",
   "metadata": {},
   "source": [
    "#### Identify Categorical Variables"
   ]
  },
  {
   "cell_type": "code",
   "execution_count": 11,
   "metadata": {},
   "outputs": [
    {
     "data": {
      "text/plain": [
       "array(['gender', 'relevent_experience', 'enrolled_university',\n",
       "       'education_level', 'major_discipline', 'experience',\n",
       "       'company_size', 'company_type', 'last_new_job'], dtype=object)"
      ]
     },
     "execution_count": 11,
     "metadata": {},
     "output_type": "execute_result"
    }
   ],
   "source": [
    "categorical_var = shuffled.select_dtypes(include = ['object']).columns.values\n",
    "categorical_var"
   ]
  },
  {
   "cell_type": "markdown",
   "metadata": {},
   "source": []
  },
  {
   "cell_type": "markdown",
   "metadata": {},
   "source": [
    "### 2.1 Format Categorical Variables \n",
    "**** give description here ****"
   ]
  },
  {
   "cell_type": "code",
   "execution_count": 12,
   "metadata": {},
   "outputs": [],
   "source": [
    "shuffled['last_new_job'] = shuffled['last_new_job'].apply(lambda x: 'Never' if x == 'never' else x) #capiatalising\n",
    "shuffled.loc[shuffled['enrolled_university'] == 'no_enrollment', 'enrolled_university'] = 'No Enrollment'#capiatalising\n",
    "shuffled['company_size'] = shuffled['company_size'].apply(lambda x: '10-49' if x == '10/49' else x) #diff replacement method\n",
    "\n",
    "shuffled['experience'] = shuffled['experience'].apply(lambda x: '0' if x == '<1' else x)\n",
    "shuffled['experience'] = shuffled['experience'].apply(lambda x: '20' if x == '>20' else x)"
   ]
  },
  {
   "cell_type": "code",
   "execution_count": 13,
   "metadata": {},
   "outputs": [],
   "source": [
    "ed_order = ['Primary School','High School','Graduate','Masters','Phd']\n",
    "enroll_order = ['No Enrollment','Part time course','Full time course']\n",
    "disc_order = ['STEM','Unknown','Humanities','Other','Business Degree','Arts','No Major']\n",
    "exp_yrs_order = ['<1','1','2','3','4','5','6','7','8','9','10','11','12','13','14','15','16','17','18','19','20','>20']\n",
    "exp_yrs_order_2 = [1,2,3,4,5,6,7,8,9,10,11,12,13,14,15,16,17,18,19,20]\n",
    "size_order = ['0','<10', '10-49', '50-99', '100-500', '500-999', '1000-4999', '5000-9999', '10000+']\n",
    "job_order = ['Never', '1', '2', '3', '4', '>4']\n",
    "exp_order =['No relevant experience','Has relevant experience']\n",
    "gender_order = ['Male','Female','Other','Not provided']\n",
    "company_order = ['Pvt Ltd','Unknown','Funded Startup','Public Sector','Early Stage Startup','NGO','Other']"
   ]
  },
  {
   "cell_type": "markdown",
   "metadata": {},
   "source": []
  },
  {
   "cell_type": "markdown",
   "metadata": {},
   "source": [
    "### 2.2 IntegerEncoding for Categorical Data"
   ]
  },
  {
   "cell_type": "markdown",
   "metadata": {},
   "source": [
    "Map each categorical data values to integer values \n",
    "- facilitate further visualisation & analysis \n",
    "- facilitate future imputatoin "
   ]
  },
  {
   "cell_type": "code",
   "execution_count": 14,
   "metadata": {},
   "outputs": [
    {
     "name": "stdout",
     "output_type": "stream",
     "text": [
      "target : [ 0. nan  1.]\n",
      "relevent_experience : [1 0]\n",
      "enrolled_university : [2 0 1 nan]\n",
      "gender : [3 2 nan 1]\n",
      "education_level : [0 3 2 4 1 nan]\n",
      "last_new_job : [1 2 5 0 3 4 nan]\n",
      "company_type : [nan 2 6 3 4 5 1]\n",
      "major_discipline : [nan 5 2 0 4 1 3]\n",
      "company_size : [nan 3 6 8 4 2 5 1 7]\n"
     ]
    }
   ],
   "source": [
    "shuffled_cor_df = shuffled.copy()\n",
    "\n",
    "mapping = {\n",
    "    'target': {\n",
    "       \"\": 1,\n",
    "        \"No\": 0\n",
    "    },\n",
    "    'relevent_experience': {\n",
    "        \"Has relevent experience\": 1,\n",
    "        \"No relevent experience\": 0\n",
    "    },\n",
    "    'enrolled_university': {\n",
    "        \"Full time course\": 2,\n",
    "        \"Part time course\": 1,\n",
    "        \"No Enrollment\": 0\n",
    "    },\n",
    "    'gender': {\n",
    "        \"Male\": 3,\n",
    "        \"Female\": 2,\n",
    "        \"Other\": 1,\n",
    "        \"Not provided\": 0\n",
    "    },\n",
    "    'education_level': {\n",
    "        \"Phd\": 4,\n",
    "        \"Graduate\": 3,\n",
    "        \"Masters\": 2,\n",
    "        \"High School\": 1,\n",
    "        \"Primary School\": 0,\n",
    "    },\n",
    "    'last_new_job': {\n",
    "        \">4\": 5,\n",
    "        \"4\": 4,\n",
    "        \"3\": 3,\n",
    "        \"2\": 2,\n",
    "        \"1\": 1,\n",
    "        \"Never\": 0\n",
    "    },\n",
    "    'company_type': {\n",
    "        \"Pvt Ltd\": 6, \n",
    "        \"Funded Startup\": 5, \n",
    "        \"Public Sector\": 4, \n",
    "        \"Early Stage Startup\": 3, \n",
    "        \"NGO\": 2,\n",
    "        \"Other\": 1,\n",
    "        \"Unknown\": 0\n",
    "    },\n",
    "    'major_discipline': {\n",
    "        \"STEM\": 5,\n",
    "        \"Humanities\": 4, \n",
    "        \"Business Degree\": 3,\n",
    "        \"Arts\": 2,\n",
    "        \"Other\": 1,\n",
    "        \"No Major\": 0\n",
    "    },\n",
    "    'company_size': {\n",
    "                \"0\": 0,\n",
    "              \"<10\": 1,\n",
    "            \"10-49\": 2,\n",
    "            \"50-99\": 3,\n",
    "          \"100-500\": 4,\n",
    "          \"500-999\": 5,\n",
    "        \"1000-4999\": 6,\n",
    "        \"5000-9999\": 7,\n",
    "           \"10000+\": 8,\n",
    "    }\n",
    "}\n",
    "\n",
    "for mapping_type in mapping:\n",
    "    for val in mapping[mapping_type]:\n",
    "        condition = shuffled_cor_df[mapping_type] == val\n",
    "        shuffled_cor_df.loc[condition, mapping_type] = mapping[mapping_type][val]\n",
    "\n",
    "    print(mapping_type, ':', shuffled_cor_df[mapping_type].unique())\n",
    "        \n",
    "\n"
   ]
  },
  {
   "cell_type": "code",
   "execution_count": 15,
   "metadata": {
    "scrolled": false
   },
   "outputs": [
    {
     "name": "stdout",
     "output_type": "stream",
     "text": [
      "<class 'pandas.core.frame.DataFrame'>\n",
      "RangeIndex: 21287 entries, 0 to 21286\n",
      "Data columns (total 12 columns):\n",
      " #   Column                  Non-Null Count  Dtype  \n",
      "---  ------                  --------------  -----  \n",
      " 0   city_development_index  21287 non-null  float64\n",
      " 1   gender                  16271 non-null  object \n",
      " 2   relevent_experience     21287 non-null  object \n",
      " 3   enrolled_university     20870 non-null  object \n",
      " 4   education_level         20775 non-null  object \n",
      " 5   major_discipline        18162 non-null  object \n",
      " 6   experience              21217 non-null  object \n",
      " 7   company_size            14727 non-null  object \n",
      " 8   company_type            14513 non-null  object \n",
      " 9   last_new_job            20824 non-null  object \n",
      " 10  training_hours          21287 non-null  int64  \n",
      " 11  target                  19158 non-null  float64\n",
      "dtypes: float64(2), int64(1), object(9)\n",
      "memory usage: 1.9+ MB\n"
     ]
    }
   ],
   "source": [
    "shuffled_cor_df.info()"
   ]
  },
  {
   "cell_type": "markdown",
   "metadata": {},
   "source": []
  },
  {
   "cell_type": "markdown",
   "metadata": {},
   "source": [
    "<hr> \n",
    "\n",
    "## 3. Handling Missing Value "
   ]
  },
  {
   "cell_type": "code",
   "execution_count": 16,
   "metadata": {},
   "outputs": [
    {
     "name": "stdout",
     "output_type": "stream",
     "text": [
      "Number of NA entries:  25066\n"
     ]
    }
   ],
   "source": [
    "print('Number of NA entries: ', shuffled_cor_df.isna().sum().sum())"
   ]
  },
  {
   "cell_type": "code",
   "execution_count": 17,
   "metadata": {},
   "outputs": [
    {
     "data": {
      "text/plain": [
       "city_development_index       0\n",
       "gender                    5016\n",
       "relevent_experience          0\n",
       "enrolled_university        417\n",
       "education_level            512\n",
       "major_discipline          3125\n",
       "experience                  70\n",
       "company_size              6560\n",
       "company_type              6774\n",
       "last_new_job               463\n",
       "training_hours               0\n",
       "target                    2129\n",
       "dtype: int64"
      ]
     },
     "execution_count": 17,
     "metadata": {},
     "output_type": "execute_result"
    }
   ],
   "source": [
    "shuffled_cor_df.isnull().sum()"
   ]
  },
  {
   "cell_type": "code",
   "execution_count": 18,
   "metadata": {},
   "outputs": [
    {
     "data": {
      "text/plain": [
       "city_development_index    0.000000\n",
       "gender                    0.235637\n",
       "relevent_experience       0.000000\n",
       "enrolled_university       0.019589\n",
       "education_level           0.024052\n",
       "major_discipline          0.146803\n",
       "experience                0.003288\n",
       "company_size              0.308169\n",
       "company_type              0.318222\n",
       "last_new_job              0.021750\n",
       "training_hours            0.000000\n",
       "target                    0.100014\n",
       "dtype: float64"
      ]
     },
     "execution_count": 18,
     "metadata": {},
     "output_type": "execute_result"
    }
   ],
   "source": [
    "shuffled_cor_df.isnull().sum()/len(shuffled_cor_df) ##finding percentage of missing values"
   ]
  },
  {
   "cell_type": "code",
   "execution_count": 19,
   "metadata": {},
   "outputs": [],
   "source": [
    "#pip install missingno\n",
    "import missingno as msno"
   ]
  },
  {
   "cell_type": "code",
   "execution_count": 20,
   "metadata": {},
   "outputs": [
    {
     "data": {
      "image/png": "[encoded data removed]",
      "text/plain": [
       "<Figure size 1800x720 with 2 Axes>"
      ]
     },
     "metadata": {
      "needs_background": "light"
     },
     "output_type": "display_data"
    },
    {
     "data": {
      "text/plain": [
       "<Figure size 7200x2400 with 0 Axes>"
      ]
     },
     "metadata": {},
     "output_type": "display_data"
    }
   ],
   "source": [
    "import matplotlib.pyplot as plt\n",
    "msno.matrix(shuffled)\n",
    "plt.figure(figsize = (12,4), dpi = 600)\n",
    "plt.show()"
   ]
  },
  {
   "cell_type": "code",
   "execution_count": 21,
   "metadata": {},
   "outputs": [
    {
     "data": {
      "text/plain": [
       "<AxesSubplot:>"
      ]
     },
     "execution_count": 21,
     "metadata": {},
     "output_type": "execute_result"
    },
    {
     "data": {
      "text/plain": [
       "<Figure size 1200x800 with 0 Axes>"
      ]
     },
     "metadata": {},
     "output_type": "display_data"
    },
    {
     "data": {
      "image/png": "[encoded data removed]",
      "text/plain": [
       "<Figure size 1800x720 with 1 Axes>"
      ]
     },
     "metadata": {
      "needs_background": "light"
     },
     "output_type": "display_data"
    }
   ],
   "source": [
    "# Columns having missing values\n",
    "missing_columns = [col for col in shuffled.columns if shuffled[col].isnull().sum() > 0]\n",
    "plt.figure(dpi = 200)\n",
    "msno.dendrogram(shuffled[missing_columns])"
   ]
  },
  {
   "cell_type": "markdown",
   "metadata": {},
   "source": [
    "We interpret the dendrogram based on a top-down approach, i.e., to focus on the height at which any two columns are joined together with matters of nullity. More will be the height less will be the relation and vice versa is also True. \n",
    "\n",
    "For example if we see pair of attributes 'experience' and 'enrolled_university' value has height 0 implies they are highly correlated in case of nullity. "
   ]
  },
  {
   "cell_type": "code",
   "execution_count": 22,
   "metadata": {},
   "outputs": [
    {
     "data": {
      "text/plain": [
       "<AxesSubplot:>"
      ]
     },
     "execution_count": 22,
     "metadata": {},
     "output_type": "execute_result"
    },
    {
     "data": {
      "text/plain": [
       "<Figure size 4500x2700 with 0 Axes>"
      ]
     },
     "metadata": {},
     "output_type": "display_data"
    },
    {
     "data": {
      "image/png": "[encoded data removed]",
      "text/plain": [
       "<Figure size 1440x864 with 2 Axes>"
      ]
     },
     "metadata": {
      "needs_background": "light"
     },
     "output_type": "display_data"
    }
   ],
   "source": [
    "plt.figure(figsize = (15,9), dpi = 300)\n",
    "msno.heatmap(shuffled, labels = True)"
   ]
  },
  {
   "cell_type": "markdown",
   "metadata": {},
   "source": [
    "Correlation heatmap measures nullity correlation between columns of the dataset. It shows how strongly the presence or absence of one feature affects the other.\n",
    "\n",
    "Nullity correlation ranges from(-1 to 1):\n",
    "- -1 means if one column(attribute) is present, the other is almost certainly absent.\n",
    "- 0 means there is no dependence between the columns(attributes).\n",
    "- 1 means if one column(attributes) is present, the other is also certainly present.\n",
    "\n",
    "Unlike in a familiar correlation heatmap, if you see here, many columns are missing. Those columns which are always full or always empty have no meaningful correlation and are removed from the visualization.\n",
    "\n",
    "The heatmap is helpful for identifying data completeness correlations between attribute pairs, but it has the limited explanatory ability for broader relationships and no special support for really big datasets."
   ]
  },
  {
   "cell_type": "markdown",
   "metadata": {},
   "source": []
  },
  {
   "cell_type": "markdown",
   "metadata": {},
   "source": []
  },
  {
   "cell_type": "markdown",
   "metadata": {},
   "source": [
    "### Analyse the reasons behind related null values & Decide on Handling method\n",
    "\n",
    "\n",
    "    \n",
    "**1. Drop records with missing values**\n",
    " \n",
    " a) Predictor: `target`\n",
    "    \n",
    "    This is the predictor column that the analytics will try to predict it. Hence, the accuracy of this is significant and should not be imputed. Moreover, only 10% of records do not have the target data, hence, it is acceptable to drop them. \n",
    "   \n",
    "   \n",
    "    \n",
    "**2. Impute missing data by other attributes**\n",
    "    \n",
    "   a) Education & Experience Information: `enrolled_university`, `education_level`, `major_discipline`, `experience` and `last_new_job`\n",
    "\n",
    "    The education-related attributes in our dataset, such as education_level, major_discipline, and university_id, are assumed to be important in the research area of employment and should not be easily dropped from the dataset. These variables can provide valuable insights into the educational background of individuals and how it relates to their employment outcomes.\n",
    "    \n",
    "    Moreover, these attributes are likely to be highly correlated with each other and with other variables in the dataset. For example, we may observe that graduates from certain universities are more likely to pursue STEM disciplines or that individuals with higher levels of education are more likely to hold certain job titles or work in certain industries.\n",
    "\n",
    " \n",
    " \n",
    " **3. Treat missing data as a separate category**\n",
    "\n",
    "   a) Current Employment: `company_size` and `company_type`\n",
    "    \n",
    "    These 2 attributes are highly nullity-correlated, indicating that there may be missing or unavailable data about the current employment status of the individuals in the dataset. However, this missing data can be interpreted as unknown and dealt with by the models that we use to analyze the data. \n",
    "    \n",
    "    Moreover, it is important to note that 30% of the rows in the dataset have missing data in these 2 columns. Therefore, if we were to drop all these, we would be losing a significant amount of meaningful data records, which could potentially bias our analysis and lead to inaccurate conclusions.\n",
    "    \n",
    "   b) Personal Information: `Gender`\n",
    "    \n",
    "    The missing value might be due to the privacy consideration rather than abnomality. Hence, it is meaningful to classify null values as \"Not provided\".\n",
    "    \n",
    "    \n",
    "\n",
    " \n"
   ]
  },
  {
   "cell_type": "markdown",
   "metadata": {},
   "source": [
    "### 3.1 Drop records with missing values"
   ]
  },
  {
   "cell_type": "code",
   "execution_count": 23,
   "metadata": {},
   "outputs": [
    {
     "data": {
      "text/plain": [
       "city_development_index    0.000000\n",
       "gender                    0.194015\n",
       "relevent_experience       0.000000\n",
       "enrolled_university       0.016395\n",
       "education_level           0.019448\n",
       "major_discipline          0.126227\n",
       "experience                0.000000\n",
       "company_size              0.268568\n",
       "company_type              0.276131\n",
       "last_new_job              0.000000\n",
       "training_hours            0.000000\n",
       "target                    0.000000\n",
       "dtype: float64"
      ]
     },
     "execution_count": 23,
     "metadata": {},
     "output_type": "execute_result"
    }
   ],
   "source": [
    "shuffled_cor_df.dropna(subset = ['target','experience', 'last_new_job'],inplace=True)\n",
    "shuffled_cor_df.isna().sum()/len(shuffled)"
   ]
  },
  {
   "cell_type": "markdown",
   "metadata": {},
   "source": [
    "### 3.2 Impute missing data by other attributes"
   ]
  },
  {
   "cell_type": "code",
   "execution_count": 24,
   "metadata": {},
   "outputs": [],
   "source": [
    "shuffled_cor_df.reset_index(inplace = True,drop = True)"
   ]
  },
  {
   "cell_type": "code",
   "execution_count": 25,
   "metadata": {},
   "outputs": [],
   "source": [
    "target_reg = shuffled_cor_df.iloc[:,-1].copy()"
   ]
  },
  {
   "cell_type": "code",
   "execution_count": 28,
   "metadata": {},
   "outputs": [],
   "source": [
    "# Find the index value corresponding to the missing value \n",
    "nanlist = ['enrolled_university', 'education_level','major_discipline']\n",
    "\n",
    "from sklearn.impute import SimpleImputer  # Packages for imputing missing values \n",
    "from sklearn.ensemble import RandomForestRegressor\n",
    "\n",
    "for name in nanlist:\n",
    "\n",
    "    # Construct new feature matrix and new labels\n",
    "    df = shuffled_cor_df  \n",
    "    fillc = df.loc[:, name]   # A column to be filled, with index i\n",
    "\n",
    "    df = pd.concat([df.loc[:, df.columns != name], pd.DataFrame(target_reg)], axis=1)\n",
    "\n",
    "\n",
    "    # The new feature matrix df is filled with zeros for the columns containing missing values\n",
    "    # check whether have 0 pd.DataFrame(df_0).isnull().sum()\n",
    "    df_0 = SimpleImputer(missing_values=np.nan, strategy='constant', fill_value=0).fit_transform(df)\n",
    "\n",
    "    ytrain = fillc[fillc.notnull()]  # Non-null values in the selected filled feature matrix \n",
    "    ytest = fillc[fillc.isnull()]  # Null values in the selected filled feature matrix\n",
    "    Xtrain = df_0[ytrain.index, :]  # On the new feature matrix, the records corresponding to the non-null values of the features selected to be filled\n",
    "    Xtest = df_0[ytest.index, :]   # The record corresponding to the null value\n",
    "\n",
    "    # Random forest fill with missing values\n",
    "    rfc = RandomForestRegressor(n_estimators=100)\n",
    "    rfc = rfc.fit(Xtrain, ytrain)\n",
    "    y_predict = rfc.predict(Xtest)  # The result of the predict interface prediction is those values used to fill the null\n",
    "\n",
    "    # Return the filled features to our original feature matrix\n",
    "    shuffled_cor_df.loc[shuffled_cor_df.loc[:, name].isnull(), name] = y_predict\n",
    "    "
   ]
  },
  {
   "cell_type": "code",
   "execution_count": 29,
   "metadata": {},
   "outputs": [
    {
     "name": "stdout",
     "output_type": "stream",
     "text": [
      "<class 'pandas.core.frame.DataFrame'>\n",
      "RangeIndex: 18694 entries, 0 to 18693\n",
      "Data columns (total 12 columns):\n",
      " #   Column                  Non-Null Count  Dtype  \n",
      "---  ------                  --------------  -----  \n",
      " 0   city_development_index  18694 non-null  float64\n",
      " 1   gender                  14564 non-null  object \n",
      " 2   relevent_experience     18694 non-null  object \n",
      " 3   enrolled_university     18694 non-null  float64\n",
      " 4   education_level         18694 non-null  float64\n",
      " 5   major_discipline        18694 non-null  float64\n",
      " 6   experience              18694 non-null  object \n",
      " 7   company_size            12977 non-null  object \n",
      " 8   company_type            12816 non-null  object \n",
      " 9   last_new_job            18694 non-null  object \n",
      " 10  training_hours          18694 non-null  int64  \n",
      " 11  target                  18694 non-null  float64\n",
      "dtypes: float64(5), int64(1), object(6)\n",
      "memory usage: 1.7+ MB\n"
     ]
    }
   ],
   "source": [
    "shuffled_cor_df[nanlist] = round(shuffled_cor_df[nanlist].astype(float))\n",
    "shuffled_cor_df.info()"
   ]
  },
  {
   "cell_type": "markdown",
   "metadata": {},
   "source": [
    "### 3.3 Treat missing data as a separate category"
   ]
  },
  {
   "cell_type": "code",
   "execution_count": 30,
   "metadata": {},
   "outputs": [],
   "source": [
    "shuffled_cor_df['company_size'].fillna('0',inplace=True)\n",
    "shuffled_cor_df['company_type'].fillna('0',inplace=True) #unknown\n",
    "shuffled_cor_df['gender'].fillna('0',inplace=True) #not provided"
   ]
  },
  {
   "cell_type": "code",
   "execution_count": 31,
   "metadata": {
    "scrolled": true
   },
   "outputs": [
    {
     "name": "stdout",
     "output_type": "stream",
     "text": [
      "<class 'pandas.core.frame.DataFrame'>\n",
      "RangeIndex: 18694 entries, 0 to 18693\n",
      "Data columns (total 12 columns):\n",
      " #   Column                  Non-Null Count  Dtype  \n",
      "---  ------                  --------------  -----  \n",
      " 0   city_development_index  18694 non-null  float64\n",
      " 1   gender                  18694 non-null  object \n",
      " 2   relevent_experience     18694 non-null  object \n",
      " 3   enrolled_university     18694 non-null  float64\n",
      " 4   education_level         18694 non-null  float64\n",
      " 5   major_discipline        18694 non-null  float64\n",
      " 6   experience              18694 non-null  object \n",
      " 7   company_size            18694 non-null  object \n",
      " 8   company_type            18694 non-null  object \n",
      " 9   last_new_job            18694 non-null  object \n",
      " 10  training_hours          18694 non-null  int64  \n",
      " 11  target                  18694 non-null  float64\n",
      "dtypes: float64(5), int64(1), object(6)\n",
      "memory usage: 1.7+ MB\n"
     ]
    }
   ],
   "source": [
    "#the dataset without missing values:\n",
    "shuffled_cor_df.info()"
   ]
  },
  {
   "cell_type": "code",
   "execution_count": 32,
   "metadata": {},
   "outputs": [
    {
     "name": "stdout",
     "output_type": "stream",
     "text": [
      "target : [0. 1.]\n",
      "relevent_experience : [1 0]\n",
      "enrolled_university : [2. 0. 1.]\n",
      "gender : [3 2 '0' 1]\n",
      "education_level : [0. 3. 2. 4. 1.]\n",
      "last_new_job : [1 2 5 0 3 4]\n",
      "company_type : ['0' 2 6 3 4 5 1]\n",
      "major_discipline : [5. 3. 2. 0. 4. 1.]\n",
      "company_size : [0 3 6 8 4 2 5 1 7]\n"
     ]
    }
   ],
   "source": [
    "for mapping_type in mapping:\n",
    "    for val in mapping[mapping_type]:\n",
    "        condition = shuffled_cor_df[mapping_type] == val\n",
    "        shuffled_cor_df.loc[condition, mapping_type] = mapping[mapping_type][val]\n",
    "\n",
    "    print(mapping_type, ':', shuffled_cor_df[mapping_type].unique())"
   ]
  },
  {
   "cell_type": "markdown",
   "metadata": {},
   "source": [
    "<hr>\n",
    "\n",
    "## 4. Data Clean (Outlier detection & multicollinearity exploration)\n",
    "\n",
    "- Filter out outliers using confidential interval (95%)"
   ]
  },
  {
   "cell_type": "markdown",
   "metadata": {},
   "source": [
    "#### Only values that are valid in the confidential 95% interval were kept. The remaining values, considered as outliers were removed for both city_development_index and training_hours."
   ]
  },
  {
   "cell_type": "markdown",
   "metadata": {},
   "source": [
    "### **4.1 Cleaning up continuous variables**\n",
    "- city_development_index\n",
    "- training_hours"
   ]
  },
  {
   "cell_type": "code",
   "execution_count": 33,
   "metadata": {},
   "outputs": [
    {
     "name": "stdout",
     "output_type": "stream",
     "text": [
      "Confidence Interval: (0.46217545312199504, 1.198373814022558)\n"
     ]
    }
   ],
   "source": [
    "# confidence interval: (µ - 3σ, µ + 3σ)\n",
    "conf_interval = np.mean(shuffled_cor_df['city_development_index'])-3*np.std(shuffled_cor_df['city_development_index']),np.mean(shuffled_cor_df['city_development_index'])+3*np.std(shuffled_cor_df['city_development_index'])\n",
    "print('Confidence Interval:', conf_interval)"
   ]
  },
  {
   "cell_type": "code",
   "execution_count": 34,
   "metadata": {},
   "outputs": [
    {
     "name": "stdout",
     "output_type": "stream",
     "text": [
      "Number of rows before removing outliers: 18694\n",
      "Number of rows after removing outliers: 18678\n",
      "Number of rows dropped: 16\n"
     ]
    }
   ],
   "source": [
    "numofRowsBefore = len(shuffled_cor_df)\n",
    "print('Number of rows before removing outliers:', numofRowsBefore)\n",
    "\n",
    "(lower, upper) = conf_interval\n",
    "shuffled_cor_df.drop(shuffled_cor_df[shuffled_cor_df['city_development_index'] < lower].index, inplace=True)\n",
    "shuffled_cor_df.drop(shuffled_cor_df[shuffled_cor_df['city_development_index'] > upper].index, inplace=True)\n",
    "\n",
    "numofRowsAfter = len(shuffled_cor_df)\n",
    "print('Number of rows after removing outliers:', numofRowsAfter)\n",
    "print('Number of rows dropped:', numofRowsBefore-numofRowsAfter)"
   ]
  },
  {
   "cell_type": "code",
   "execution_count": 35,
   "metadata": {},
   "outputs": [
    {
     "data": {
      "text/plain": [
       "count    18678.000000\n",
       "mean        65.485491\n",
       "std         60.115880\n",
       "min          1.000000\n",
       "25%         23.000000\n",
       "50%         47.000000\n",
       "75%         88.000000\n",
       "max        336.000000\n",
       "Name: training_hours, dtype: float64"
      ]
     },
     "execution_count": 35,
     "metadata": {},
     "output_type": "execute_result"
    }
   ],
   "source": [
    "shuffled_cor_df['training_hours'].describe()"
   ]
  },
  {
   "cell_type": "code",
   "execution_count": 36,
   "metadata": {},
   "outputs": [
    {
     "name": "stdout",
     "output_type": "stream",
     "text": [
      "Confidence Interval: (-114.8573210124017, 245.82830291624578)\n"
     ]
    }
   ],
   "source": [
    "# confidence interval: (µ - 3σ, µ + 3σ)\n",
    "conf_interval = np.mean(shuffled_cor_df['training_hours'])-3*np.std(shuffled_cor_df['training_hours']),np.mean(shuffled_cor_df['training_hours'])+3*np.std(shuffled_cor_df['training_hours'])\n",
    "print('Confidence Interval:', conf_interval)"
   ]
  },
  {
   "cell_type": "code",
   "execution_count": 37,
   "metadata": {},
   "outputs": [
    {
     "name": "stdout",
     "output_type": "stream",
     "text": [
      "Number of rows before removing outliers: 21287\n",
      "Number of rows after removing outliers: 21287\n",
      "Number of rows dropped: 0\n"
     ]
    }
   ],
   "source": [
    "numofRowsBefore = len(shuffled)\n",
    "print('Number of rows before removing outliers:', numofRowsBefore)\n",
    "\n",
    "(lower, upper) = conf_interval\n",
    "shuffled_cor_df.drop(shuffled_cor_df[shuffled_cor_df['training_hours'] < lower].index, inplace=True)\n",
    "shuffled_cor_df.drop(shuffled_cor_df[shuffled_cor_df['training_hours'] > upper].index, inplace=True)\n",
    "\n",
    "numofRowsAfter = len(shuffled)\n",
    "print('Number of rows after removing outliers:', numofRowsAfter)\n",
    "print('Number of rows dropped:', numofRowsBefore-numofRowsAfter)"
   ]
  },
  {
   "cell_type": "markdown",
   "metadata": {},
   "source": [
    "**No outliers in continuous columns, hence, no record is dropped**"
   ]
  },
  {
   "cell_type": "markdown",
   "metadata": {},
   "source": [
    "### **4.2 Cleaning up categorical variables**"
   ]
  },
  {
   "cell_type": "markdown",
   "metadata": {},
   "source": [
    "- are the categorical variables consistent in their values?\n",
    "- are there unreasonable value (text?)"
   ]
  },
  {
   "cell_type": "code",
   "execution_count": 38,
   "metadata": {},
   "outputs": [
    {
     "name": "stdout",
     "output_type": "stream",
     "text": [
      "3    12830\n",
      "0     4015\n",
      "2     1208\n",
      "1      184\n",
      "Name: gender, dtype: int64\n",
      "\n",
      "1    13213\n",
      "0     5024\n",
      "Name: relevent_experience, dtype: int64\n",
      "\n",
      "20    3330\n",
      "5     1360\n",
      "4     1317\n",
      "3     1259\n",
      "6     1167\n",
      "2     1063\n",
      "7      987\n",
      "10     950\n",
      "9      943\n",
      "8      767\n",
      "15     665\n",
      "11     648\n",
      "14     565\n",
      "1      505\n",
      "16     487\n",
      "12     474\n",
      "0      474\n",
      "13     384\n",
      "17     335\n",
      "19     288\n",
      "18     269\n",
      "Name: experience, dtype: int64\n",
      "\n",
      "0    5588\n",
      "3    2942\n",
      "4    2472\n",
      "8    1933\n",
      "2    1393\n",
      "6    1278\n",
      "1    1244\n",
      "5     842\n",
      "7     545\n",
      "Name: company_size, dtype: int64\n",
      "\n",
      "6    9433\n",
      "0    5750\n",
      "5     964\n",
      "4     917\n",
      "3     570\n",
      "2     490\n",
      "1     113\n",
      "Name: company_type, dtype: int64\n",
      "\n",
      "1    7815\n",
      "5    3218\n",
      "2    2818\n",
      "0    2383\n",
      "4    1004\n",
      "3     999\n",
      "Name: last_new_job, dtype: int64\n",
      "\n"
     ]
    }
   ],
   "source": [
    "for feature in shuffled.columns:\n",
    "  if np.dtype(shuffled_cor_df[feature]) != 'object':\n",
    "    continue\n",
    "  print(shuffled_cor_df[feature].value_counts(), end='\\n\\n')"
   ]
  },
  {
   "cell_type": "markdown",
   "metadata": {},
   "source": [
    "- all the categorical variables are consistent in their values\n",
    "\n",
    "Therefore, no data cleaning is needed for categorical variables. However, one hot encoding is needed for categorical variables to encode them into numeric forms to allow analytical models to operate on these categorical variables, since not all values are ordinal variables"
   ]
  },
  {
   "cell_type": "markdown",
   "metadata": {},
   "source": []
  },
  {
   "cell_type": "markdown",
   "metadata": {},
   "source": [
    "### 4.3 Multicollinearity Exploration"
   ]
  },
  {
   "cell_type": "code",
   "execution_count": 39,
   "metadata": {},
   "outputs": [],
   "source": [
    "cor_matrix = shuffled_cor_df.copy()\n",
    "cor_matrix = cor_matrix.astype(float)"
   ]
  },
  {
   "cell_type": "code",
   "execution_count": 40,
   "metadata": {},
   "outputs": [
    {
     "data": {
      "text/plain": [
       "<AxesSubplot:>"
      ]
     },
     "execution_count": 40,
     "metadata": {},
     "output_type": "execute_result"
    },
    {
     "data": {
      "image/png": "[encoded data removed]",
      "text/plain": [
       "<Figure size 864x720 with 2 Axes>"
      ]
     },
     "metadata": {
      "needs_background": "light"
     },
     "output_type": "display_data"
    }
   ],
   "source": [
    "plt.figure(figsize = (12,10))\n",
    "sb.heatmap(cor_matrix.corr(), annot = True, cmap = 'viridis')"
   ]
  },
  {
   "cell_type": "markdown",
   "metadata": {},
   "source": [
    "- There is no multicollinearity concern among the attributes "
   ]
  },
  {
   "cell_type": "code",
   "execution_count": null,
   "metadata": {},
   "outputs": [],
   "source": []
  },
  {
   "cell_type": "markdown",
   "metadata": {},
   "source": [
    "## 5. One-hot encoding & Text-Mapping\n",
    "- one-hot: Prepare data for modelling\n",
    "- text-mapping: provide higher readability"
   ]
  },
  {
   "cell_type": "markdown",
   "metadata": {},
   "source": [
    "The `shuffled_cor_df` dataset contains 10 categorical predictor variables which do not have ordinal meaning:\n",
    "- gender\n",
    "- city\n",
    "- major_discipline\n",
    "- company_type"
   ]
  },
  {
   "cell_type": "code",
   "execution_count": 41,
   "metadata": {
    "scrolled": true
   },
   "outputs": [
    {
     "data": {
      "text/html": [
       "<div>\n",
       "<style scoped>\n",
       "    .dataframe tbody tr th:only-of-type {\n",
       "        vertical-align: middle;\n",
       "    }\n",
       "\n",
       "    .dataframe tbody tr th {\n",
       "        vertical-align: top;\n",
       "    }\n",
       "\n",
       "    .dataframe thead th {\n",
       "        text-align: right;\n",
       "    }\n",
       "</style>\n",
       "<table border=\"1\" class=\"dataframe\">\n",
       "  <thead>\n",
       "    <tr style=\"text-align: right;\">\n",
       "      <th></th>\n",
       "      <th>city_development_index</th>\n",
       "      <th>gender</th>\n",
       "      <th>relevent_experience</th>\n",
       "      <th>enrolled_university</th>\n",
       "      <th>education_level</th>\n",
       "      <th>major_discipline</th>\n",
       "      <th>experience</th>\n",
       "      <th>company_size</th>\n",
       "      <th>company_type</th>\n",
       "      <th>last_new_job</th>\n",
       "      <th>training_hours</th>\n",
       "      <th>target</th>\n",
       "    </tr>\n",
       "  </thead>\n",
       "  <tbody>\n",
       "    <tr>\n",
       "      <th>0</th>\n",
       "      <td>0.924</td>\n",
       "      <td>3</td>\n",
       "      <td>1</td>\n",
       "      <td>2.0</td>\n",
       "      <td>0.0</td>\n",
       "      <td>5.0</td>\n",
       "      <td>11</td>\n",
       "      <td>0</td>\n",
       "      <td>0</td>\n",
       "      <td>1</td>\n",
       "      <td>8</td>\n",
       "      <td>0.0</td>\n",
       "    </tr>\n",
       "    <tr>\n",
       "      <th>1</th>\n",
       "      <td>0.804</td>\n",
       "      <td>3</td>\n",
       "      <td>1</td>\n",
       "      <td>0.0</td>\n",
       "      <td>3.0</td>\n",
       "      <td>5.0</td>\n",
       "      <td>17</td>\n",
       "      <td>3</td>\n",
       "      <td>2</td>\n",
       "      <td>1</td>\n",
       "      <td>57</td>\n",
       "      <td>0.0</td>\n",
       "    </tr>\n",
       "    <tr>\n",
       "      <th>2</th>\n",
       "      <td>0.920</td>\n",
       "      <td>3</td>\n",
       "      <td>1</td>\n",
       "      <td>0.0</td>\n",
       "      <td>3.0</td>\n",
       "      <td>5.0</td>\n",
       "      <td>11</td>\n",
       "      <td>3</td>\n",
       "      <td>6</td>\n",
       "      <td>1</td>\n",
       "      <td>32</td>\n",
       "      <td>0.0</td>\n",
       "    </tr>\n",
       "    <tr>\n",
       "      <th>4</th>\n",
       "      <td>0.920</td>\n",
       "      <td>3</td>\n",
       "      <td>1</td>\n",
       "      <td>2.0</td>\n",
       "      <td>3.0</td>\n",
       "      <td>5.0</td>\n",
       "      <td>9</td>\n",
       "      <td>0</td>\n",
       "      <td>0</td>\n",
       "      <td>1</td>\n",
       "      <td>168</td>\n",
       "      <td>0.0</td>\n",
       "    </tr>\n",
       "    <tr>\n",
       "      <th>5</th>\n",
       "      <td>0.893</td>\n",
       "      <td>3</td>\n",
       "      <td>0</td>\n",
       "      <td>0.0</td>\n",
       "      <td>2.0</td>\n",
       "      <td>5.0</td>\n",
       "      <td>20</td>\n",
       "      <td>6</td>\n",
       "      <td>6</td>\n",
       "      <td>2</td>\n",
       "      <td>47</td>\n",
       "      <td>0.0</td>\n",
       "    </tr>\n",
       "  </tbody>\n",
       "</table>\n",
       "</div>"
      ],
      "text/plain": [
       "   city_development_index gender relevent_experience  enrolled_university  \\\n",
       "0                   0.924      3                   1                  2.0   \n",
       "1                   0.804      3                   1                  0.0   \n",
       "2                   0.920      3                   1                  0.0   \n",
       "4                   0.920      3                   1                  2.0   \n",
       "5                   0.893      3                   0                  0.0   \n",
       "\n",
       "   education_level  major_discipline experience company_size company_type  \\\n",
       "0              0.0               5.0         11            0            0   \n",
       "1              3.0               5.0         17            3            2   \n",
       "2              3.0               5.0         11            3            6   \n",
       "4              3.0               5.0          9            0            0   \n",
       "5              2.0               5.0         20            6            6   \n",
       "\n",
       "  last_new_job  training_hours  target  \n",
       "0            1               8     0.0  \n",
       "1            1              57     0.0  \n",
       "2            1              32     0.0  \n",
       "4            1             168     0.0  \n",
       "5            2              47     0.0  "
      ]
     },
     "execution_count": 41,
     "metadata": {},
     "output_type": "execute_result"
    }
   ],
   "source": [
    "shuffled_cor_df.head()"
   ]
  },
  {
   "cell_type": "markdown",
   "metadata": {},
   "source": [
    "### 5.1 Text-mapping\n"
   ]
  },
  {
   "cell_type": "code",
   "execution_count": 42,
   "metadata": {},
   "outputs": [],
   "source": [
    "shuffled_cor_text_df = shuffled_cor_df.copy()"
   ]
  },
  {
   "cell_type": "code",
   "execution_count": 43,
   "metadata": {
    "scrolled": true
   },
   "outputs": [
    {
     "name": "stdout",
     "output_type": "stream",
     "text": [
      "target : [0. 1.]\n",
      "relevent_experience : ['Has relevent experience' 'No relevent experience']\n",
      "enrolled_university : ['Full time course' 'No Enrollment' 'Part time course']\n",
      "gender : ['Male' 'Not provided' 'Female' 'Other']\n",
      "education_level : ['Primary School' 'Graduate' 'Masters' 'Phd' 'High School']\n",
      "company_type : ['Unknown' 'NGO' 'Pvt Ltd' 'Public Sector' 'Funded Startup'\n",
      " 'Early Stage Startup' 'Other']\n",
      "major_discipline : ['STEM' 'Business Degree' 'Arts' 'No Major' 'Humanities' 'Other']\n"
     ]
    }
   ],
   "source": [
    "mapping = {\n",
    "    'target': {\n",
    "       \"Yes\": 1,\n",
    "        \"No\": 0\n",
    "    },\n",
    "    'relevent_experience': {\n",
    "        1: \"Has relevent experience\",\n",
    "        0: \"No relevent experience\"\n",
    "    },\n",
    "    'enrolled_university': {\n",
    "        2: \"Full time course\",\n",
    "        1: \"Part time course\",\n",
    "        0: \"No Enrollment\"\n",
    "    },\n",
    "    'gender': {\n",
    "        3: \"Male\",\n",
    "        2: \"Female\",\n",
    "        1: \"Other\",\n",
    "        \"0\": \"Not provided\"\n",
    "    },\n",
    "    'education_level': {\n",
    "        4: \"Phd\",\n",
    "        3: \"Graduate\",\n",
    "        2: \"Masters\",\n",
    "        1: \"High School\",\n",
    "        0: \"Primary School\",\n",
    "    },\n",
    "    'company_type': {\n",
    "        6: \"Pvt Ltd\", \n",
    "        5: \"Funded Startup\", \n",
    "        4: \"Public Sector\", \n",
    "        3: \"Early Stage Startup\", \n",
    "        2: \"NGO\",\n",
    "        1: \"Other\",\n",
    "        \"0\": \"Unknown\"\n",
    "    },\n",
    "    'major_discipline': {\n",
    "        5: \"STEM\",\n",
    "        4: \"Humanities\", \n",
    "        3: \"Business Degree\",\n",
    "        2: \"Arts\",\n",
    "        1: \"Other\",\n",
    "        0: \"No Major\"\n",
    "    }\n",
    "}\n",
    "\n",
    "\n",
    "\n",
    "for mapping_type in mapping:\n",
    "    for val in mapping[mapping_type]:\n",
    "        condition = shuffled_cor_text_df[mapping_type] == val\n",
    "        shuffled_cor_text_df.loc[condition, mapping_type] = mapping[mapping_type][val]\n",
    "\n",
    "    print(mapping_type, ':', shuffled_cor_text_df[mapping_type].unique())\n"
   ]
  },
  {
   "cell_type": "code",
   "execution_count": 44,
   "metadata": {},
   "outputs": [
    {
     "data": {
      "text/html": [
       "<div>\n",
       "<style scoped>\n",
       "    .dataframe tbody tr th:only-of-type {\n",
       "        vertical-align: middle;\n",
       "    }\n",
       "\n",
       "    .dataframe tbody tr th {\n",
       "        vertical-align: top;\n",
       "    }\n",
       "\n",
       "    .dataframe thead th {\n",
       "        text-align: right;\n",
       "    }\n",
       "</style>\n",
       "<table border=\"1\" class=\"dataframe\">\n",
       "  <thead>\n",
       "    <tr style=\"text-align: right;\">\n",
       "      <th></th>\n",
       "      <th>city_development_index</th>\n",
       "      <th>gender</th>\n",
       "      <th>relevent_experience</th>\n",
       "      <th>enrolled_university</th>\n",
       "      <th>education_level</th>\n",
       "      <th>major_discipline</th>\n",
       "      <th>experience</th>\n",
       "      <th>company_size</th>\n",
       "      <th>company_type</th>\n",
       "      <th>last_new_job</th>\n",
       "      <th>training_hours</th>\n",
       "      <th>target</th>\n",
       "    </tr>\n",
       "  </thead>\n",
       "  <tbody>\n",
       "    <tr>\n",
       "      <th>0</th>\n",
       "      <td>0.924</td>\n",
       "      <td>Male</td>\n",
       "      <td>Has relevent experience</td>\n",
       "      <td>Full time course</td>\n",
       "      <td>Primary School</td>\n",
       "      <td>STEM</td>\n",
       "      <td>11</td>\n",
       "      <td>0</td>\n",
       "      <td>Unknown</td>\n",
       "      <td>1</td>\n",
       "      <td>8</td>\n",
       "      <td>0.0</td>\n",
       "    </tr>\n",
       "    <tr>\n",
       "      <th>1</th>\n",
       "      <td>0.804</td>\n",
       "      <td>Male</td>\n",
       "      <td>Has relevent experience</td>\n",
       "      <td>No Enrollment</td>\n",
       "      <td>Graduate</td>\n",
       "      <td>STEM</td>\n",
       "      <td>17</td>\n",
       "      <td>3</td>\n",
       "      <td>NGO</td>\n",
       "      <td>1</td>\n",
       "      <td>57</td>\n",
       "      <td>0.0</td>\n",
       "    </tr>\n",
       "    <tr>\n",
       "      <th>2</th>\n",
       "      <td>0.920</td>\n",
       "      <td>Male</td>\n",
       "      <td>Has relevent experience</td>\n",
       "      <td>No Enrollment</td>\n",
       "      <td>Graduate</td>\n",
       "      <td>STEM</td>\n",
       "      <td>11</td>\n",
       "      <td>3</td>\n",
       "      <td>Pvt Ltd</td>\n",
       "      <td>1</td>\n",
       "      <td>32</td>\n",
       "      <td>0.0</td>\n",
       "    </tr>\n",
       "    <tr>\n",
       "      <th>4</th>\n",
       "      <td>0.920</td>\n",
       "      <td>Male</td>\n",
       "      <td>Has relevent experience</td>\n",
       "      <td>Full time course</td>\n",
       "      <td>Graduate</td>\n",
       "      <td>STEM</td>\n",
       "      <td>9</td>\n",
       "      <td>0</td>\n",
       "      <td>Unknown</td>\n",
       "      <td>1</td>\n",
       "      <td>168</td>\n",
       "      <td>0.0</td>\n",
       "    </tr>\n",
       "    <tr>\n",
       "      <th>5</th>\n",
       "      <td>0.893</td>\n",
       "      <td>Male</td>\n",
       "      <td>No relevent experience</td>\n",
       "      <td>No Enrollment</td>\n",
       "      <td>Masters</td>\n",
       "      <td>STEM</td>\n",
       "      <td>20</td>\n",
       "      <td>6</td>\n",
       "      <td>Pvt Ltd</td>\n",
       "      <td>2</td>\n",
       "      <td>47</td>\n",
       "      <td>0.0</td>\n",
       "    </tr>\n",
       "  </tbody>\n",
       "</table>\n",
       "</div>"
      ],
      "text/plain": [
       "   city_development_index gender      relevent_experience enrolled_university  \\\n",
       "0                   0.924   Male  Has relevent experience    Full time course   \n",
       "1                   0.804   Male  Has relevent experience       No Enrollment   \n",
       "2                   0.920   Male  Has relevent experience       No Enrollment   \n",
       "4                   0.920   Male  Has relevent experience    Full time course   \n",
       "5                   0.893   Male   No relevent experience       No Enrollment   \n",
       "\n",
       "  education_level major_discipline experience company_size company_type  \\\n",
       "0  Primary School             STEM         11            0      Unknown   \n",
       "1        Graduate             STEM         17            3          NGO   \n",
       "2        Graduate             STEM         11            3      Pvt Ltd   \n",
       "4        Graduate             STEM          9            0      Unknown   \n",
       "5         Masters             STEM         20            6      Pvt Ltd   \n",
       "\n",
       "  last_new_job  training_hours  target  \n",
       "0            1               8     0.0  \n",
       "1            1              57     0.0  \n",
       "2            1              32     0.0  \n",
       "4            1             168     0.0  \n",
       "5            2              47     0.0  "
      ]
     },
     "execution_count": 44,
     "metadata": {},
     "output_type": "execute_result"
    }
   ],
   "source": [
    "shuffled_cor_text_df.head()"
   ]
  },
  {
   "cell_type": "markdown",
   "metadata": {},
   "source": [
    "**Export encoded `shuffled_cor_text_df` dataframe as csv**"
   ]
  },
  {
   "cell_type": "code",
   "execution_count": 45,
   "metadata": {},
   "outputs": [],
   "source": [
    "shuffled_cor_text_df.to_csv('archive/shuffled_text.csv', index=False)"
   ]
  },
  {
   "cell_type": "code",
   "execution_count": null,
   "metadata": {},
   "outputs": [],
   "source": []
  },
  {
   "cell_type": "markdown",
   "metadata": {},
   "source": [
    "### 5.2 One-hot encoding\n"
   ]
  },
  {
   "cell_type": "code",
   "execution_count": 46,
   "metadata": {},
   "outputs": [
    {
     "name": "stdout",
     "output_type": "stream",
     "text": [
      "<class 'pandas.core.frame.DataFrame'>\n",
      "RangeIndex: 18237 entries, 0 to 18236\n",
      "Data columns (total 10 columns):\n",
      " #   Column                            Non-Null Count  Dtype  \n",
      "---  ------                            --------------  -----  \n",
      " 0   gender_Female                     18237 non-null  float64\n",
      " 1   gender_Male                       18237 non-null  float64\n",
      " 2   gender_Not provided               18237 non-null  float64\n",
      " 3   gender_Other                      18237 non-null  float64\n",
      " 4   major_discipline_Arts             18237 non-null  float64\n",
      " 5   major_discipline_Business Degree  18237 non-null  float64\n",
      " 6   major_discipline_Humanities       18237 non-null  float64\n",
      " 7   major_discipline_No Major         18237 non-null  float64\n",
      " 8   major_discipline_Other            18237 non-null  float64\n",
      " 9   major_discipline_STEM             18237 non-null  float64\n",
      "dtypes: float64(10)\n",
      "memory usage: 1.4 MB\n"
     ]
    }
   ],
   "source": [
    "# Import the OneHotEncoder from sklearn\n",
    "\n",
    "from sklearn.preprocessing import OneHotEncoder\n",
    "\n",
    "ohe = OneHotEncoder()\n",
    "\n",
    "# OneHotEncoding of categorical predictors\n",
    "\n",
    "cat_variables = ['gender', 'major_discipline']\n",
    "\n",
    "shuffled_cat = shuffled_cor_text_df[cat_variables]\n",
    "\n",
    "ohe.fit(shuffled_cat)\n",
    "shuffled_cat_ohe = pd.DataFrame(\n",
    "    ohe.transform(shuffled_cat).toarray(),\n",
    "    columns=ohe.get_feature_names_out(shuffled_cat.columns))\n",
    "\n",
    "#Check the encoded variables\n",
    "shuffled_cat_ohe.info()"
   ]
  },
  {
   "cell_type": "code",
   "execution_count": 47,
   "metadata": {},
   "outputs": [
    {
     "data": {
      "text/html": [
       "<div>\n",
       "<style scoped>\n",
       "    .dataframe tbody tr th:only-of-type {\n",
       "        vertical-align: middle;\n",
       "    }\n",
       "\n",
       "    .dataframe tbody tr th {\n",
       "        vertical-align: top;\n",
       "    }\n",
       "\n",
       "    .dataframe thead th {\n",
       "        text-align: right;\n",
       "    }\n",
       "</style>\n",
       "<table border=\"1\" class=\"dataframe\">\n",
       "  <thead>\n",
       "    <tr style=\"text-align: right;\">\n",
       "      <th></th>\n",
       "      <th>gender</th>\n",
       "      <th>major_discipline</th>\n",
       "    </tr>\n",
       "  </thead>\n",
       "  <tbody>\n",
       "    <tr>\n",
       "      <th>0</th>\n",
       "      <td>Male</td>\n",
       "      <td>STEM</td>\n",
       "    </tr>\n",
       "    <tr>\n",
       "      <th>1</th>\n",
       "      <td>Male</td>\n",
       "      <td>STEM</td>\n",
       "    </tr>\n",
       "    <tr>\n",
       "      <th>2</th>\n",
       "      <td>Male</td>\n",
       "      <td>STEM</td>\n",
       "    </tr>\n",
       "    <tr>\n",
       "      <th>4</th>\n",
       "      <td>Male</td>\n",
       "      <td>STEM</td>\n",
       "    </tr>\n",
       "    <tr>\n",
       "      <th>5</th>\n",
       "      <td>Male</td>\n",
       "      <td>STEM</td>\n",
       "    </tr>\n",
       "    <tr>\n",
       "      <th>...</th>\n",
       "      <td>...</td>\n",
       "      <td>...</td>\n",
       "    </tr>\n",
       "    <tr>\n",
       "      <th>18689</th>\n",
       "      <td>Male</td>\n",
       "      <td>STEM</td>\n",
       "    </tr>\n",
       "    <tr>\n",
       "      <th>18690</th>\n",
       "      <td>Male</td>\n",
       "      <td>Business Degree</td>\n",
       "    </tr>\n",
       "    <tr>\n",
       "      <th>18691</th>\n",
       "      <td>Male</td>\n",
       "      <td>Other</td>\n",
       "    </tr>\n",
       "    <tr>\n",
       "      <th>18692</th>\n",
       "      <td>Not provided</td>\n",
       "      <td>Humanities</td>\n",
       "    </tr>\n",
       "    <tr>\n",
       "      <th>18693</th>\n",
       "      <td>Male</td>\n",
       "      <td>STEM</td>\n",
       "    </tr>\n",
       "  </tbody>\n",
       "</table>\n",
       "<p>18237 rows × 2 columns</p>\n",
       "</div>"
      ],
      "text/plain": [
       "             gender major_discipline\n",
       "0              Male             STEM\n",
       "1              Male             STEM\n",
       "2              Male             STEM\n",
       "4              Male             STEM\n",
       "5              Male             STEM\n",
       "...             ...              ...\n",
       "18689          Male             STEM\n",
       "18690          Male  Business Degree\n",
       "18691          Male            Other\n",
       "18692  Not provided       Humanities\n",
       "18693          Male             STEM\n",
       "\n",
       "[18237 rows x 2 columns]"
      ]
     },
     "execution_count": 47,
     "metadata": {},
     "output_type": "execute_result"
    }
   ],
   "source": [
    "shuffled_cat"
   ]
  },
  {
   "cell_type": "code",
   "execution_count": 48,
   "metadata": {},
   "outputs": [
    {
     "data": {
      "text/html": [
       "<div>\n",
       "<style scoped>\n",
       "    .dataframe tbody tr th:only-of-type {\n",
       "        vertical-align: middle;\n",
       "    }\n",
       "\n",
       "    .dataframe tbody tr th {\n",
       "        vertical-align: top;\n",
       "    }\n",
       "\n",
       "    .dataframe thead th {\n",
       "        text-align: right;\n",
       "    }\n",
       "</style>\n",
       "<table border=\"1\" class=\"dataframe\">\n",
       "  <thead>\n",
       "    <tr style=\"text-align: right;\">\n",
       "      <th></th>\n",
       "      <th>gender_Female</th>\n",
       "      <th>gender_Male</th>\n",
       "      <th>gender_Not provided</th>\n",
       "      <th>gender_Other</th>\n",
       "      <th>major_discipline_Arts</th>\n",
       "      <th>major_discipline_Business Degree</th>\n",
       "      <th>major_discipline_Humanities</th>\n",
       "      <th>major_discipline_No Major</th>\n",
       "      <th>major_discipline_Other</th>\n",
       "      <th>major_discipline_STEM</th>\n",
       "    </tr>\n",
       "  </thead>\n",
       "  <tbody>\n",
       "    <tr>\n",
       "      <th>0</th>\n",
       "      <td>0.0</td>\n",
       "      <td>1.0</td>\n",
       "      <td>0.0</td>\n",
       "      <td>0.0</td>\n",
       "      <td>0.0</td>\n",
       "      <td>0.0</td>\n",
       "      <td>0.0</td>\n",
       "      <td>0.0</td>\n",
       "      <td>0.0</td>\n",
       "      <td>1.0</td>\n",
       "    </tr>\n",
       "    <tr>\n",
       "      <th>1</th>\n",
       "      <td>0.0</td>\n",
       "      <td>1.0</td>\n",
       "      <td>0.0</td>\n",
       "      <td>0.0</td>\n",
       "      <td>0.0</td>\n",
       "      <td>0.0</td>\n",
       "      <td>0.0</td>\n",
       "      <td>0.0</td>\n",
       "      <td>0.0</td>\n",
       "      <td>1.0</td>\n",
       "    </tr>\n",
       "    <tr>\n",
       "      <th>2</th>\n",
       "      <td>0.0</td>\n",
       "      <td>1.0</td>\n",
       "      <td>0.0</td>\n",
       "      <td>0.0</td>\n",
       "      <td>0.0</td>\n",
       "      <td>0.0</td>\n",
       "      <td>0.0</td>\n",
       "      <td>0.0</td>\n",
       "      <td>0.0</td>\n",
       "      <td>1.0</td>\n",
       "    </tr>\n",
       "    <tr>\n",
       "      <th>3</th>\n",
       "      <td>0.0</td>\n",
       "      <td>1.0</td>\n",
       "      <td>0.0</td>\n",
       "      <td>0.0</td>\n",
       "      <td>0.0</td>\n",
       "      <td>0.0</td>\n",
       "      <td>0.0</td>\n",
       "      <td>0.0</td>\n",
       "      <td>0.0</td>\n",
       "      <td>1.0</td>\n",
       "    </tr>\n",
       "    <tr>\n",
       "      <th>4</th>\n",
       "      <td>0.0</td>\n",
       "      <td>1.0</td>\n",
       "      <td>0.0</td>\n",
       "      <td>0.0</td>\n",
       "      <td>0.0</td>\n",
       "      <td>0.0</td>\n",
       "      <td>0.0</td>\n",
       "      <td>0.0</td>\n",
       "      <td>0.0</td>\n",
       "      <td>1.0</td>\n",
       "    </tr>\n",
       "    <tr>\n",
       "      <th>...</th>\n",
       "      <td>...</td>\n",
       "      <td>...</td>\n",
       "      <td>...</td>\n",
       "      <td>...</td>\n",
       "      <td>...</td>\n",
       "      <td>...</td>\n",
       "      <td>...</td>\n",
       "      <td>...</td>\n",
       "      <td>...</td>\n",
       "      <td>...</td>\n",
       "    </tr>\n",
       "    <tr>\n",
       "      <th>18232</th>\n",
       "      <td>0.0</td>\n",
       "      <td>1.0</td>\n",
       "      <td>0.0</td>\n",
       "      <td>0.0</td>\n",
       "      <td>0.0</td>\n",
       "      <td>0.0</td>\n",
       "      <td>0.0</td>\n",
       "      <td>0.0</td>\n",
       "      <td>0.0</td>\n",
       "      <td>1.0</td>\n",
       "    </tr>\n",
       "    <tr>\n",
       "      <th>18233</th>\n",
       "      <td>0.0</td>\n",
       "      <td>1.0</td>\n",
       "      <td>0.0</td>\n",
       "      <td>0.0</td>\n",
       "      <td>0.0</td>\n",
       "      <td>1.0</td>\n",
       "      <td>0.0</td>\n",
       "      <td>0.0</td>\n",
       "      <td>0.0</td>\n",
       "      <td>0.0</td>\n",
       "    </tr>\n",
       "    <tr>\n",
       "      <th>18234</th>\n",
       "      <td>0.0</td>\n",
       "      <td>1.0</td>\n",
       "      <td>0.0</td>\n",
       "      <td>0.0</td>\n",
       "      <td>0.0</td>\n",
       "      <td>0.0</td>\n",
       "      <td>0.0</td>\n",
       "      <td>0.0</td>\n",
       "      <td>1.0</td>\n",
       "      <td>0.0</td>\n",
       "    </tr>\n",
       "    <tr>\n",
       "      <th>18235</th>\n",
       "      <td>0.0</td>\n",
       "      <td>0.0</td>\n",
       "      <td>1.0</td>\n",
       "      <td>0.0</td>\n",
       "      <td>0.0</td>\n",
       "      <td>0.0</td>\n",
       "      <td>1.0</td>\n",
       "      <td>0.0</td>\n",
       "      <td>0.0</td>\n",
       "      <td>0.0</td>\n",
       "    </tr>\n",
       "    <tr>\n",
       "      <th>18236</th>\n",
       "      <td>0.0</td>\n",
       "      <td>1.0</td>\n",
       "      <td>0.0</td>\n",
       "      <td>0.0</td>\n",
       "      <td>0.0</td>\n",
       "      <td>0.0</td>\n",
       "      <td>0.0</td>\n",
       "      <td>0.0</td>\n",
       "      <td>0.0</td>\n",
       "      <td>1.0</td>\n",
       "    </tr>\n",
       "  </tbody>\n",
       "</table>\n",
       "<p>18237 rows × 10 columns</p>\n",
       "</div>"
      ],
      "text/plain": [
       "       gender_Female  gender_Male  gender_Not provided  gender_Other  \\\n",
       "0                0.0          1.0                  0.0           0.0   \n",
       "1                0.0          1.0                  0.0           0.0   \n",
       "2                0.0          1.0                  0.0           0.0   \n",
       "3                0.0          1.0                  0.0           0.0   \n",
       "4                0.0          1.0                  0.0           0.0   \n",
       "...              ...          ...                  ...           ...   \n",
       "18232            0.0          1.0                  0.0           0.0   \n",
       "18233            0.0          1.0                  0.0           0.0   \n",
       "18234            0.0          1.0                  0.0           0.0   \n",
       "18235            0.0          0.0                  1.0           0.0   \n",
       "18236            0.0          1.0                  0.0           0.0   \n",
       "\n",
       "       major_discipline_Arts  major_discipline_Business Degree  \\\n",
       "0                        0.0                               0.0   \n",
       "1                        0.0                               0.0   \n",
       "2                        0.0                               0.0   \n",
       "3                        0.0                               0.0   \n",
       "4                        0.0                               0.0   \n",
       "...                      ...                               ...   \n",
       "18232                    0.0                               0.0   \n",
       "18233                    0.0                               1.0   \n",
       "18234                    0.0                               0.0   \n",
       "18235                    0.0                               0.0   \n",
       "18236                    0.0                               0.0   \n",
       "\n",
       "       major_discipline_Humanities  major_discipline_No Major  \\\n",
       "0                              0.0                        0.0   \n",
       "1                              0.0                        0.0   \n",
       "2                              0.0                        0.0   \n",
       "3                              0.0                        0.0   \n",
       "4                              0.0                        0.0   \n",
       "...                            ...                        ...   \n",
       "18232                          0.0                        0.0   \n",
       "18233                          0.0                        0.0   \n",
       "18234                          0.0                        0.0   \n",
       "18235                          1.0                        0.0   \n",
       "18236                          0.0                        0.0   \n",
       "\n",
       "       major_discipline_Other  major_discipline_STEM  \n",
       "0                         0.0                    1.0  \n",
       "1                         0.0                    1.0  \n",
       "2                         0.0                    1.0  \n",
       "3                         0.0                    1.0  \n",
       "4                         0.0                    1.0  \n",
       "...                       ...                    ...  \n",
       "18232                     0.0                    1.0  \n",
       "18233                     0.0                    0.0  \n",
       "18234                     1.0                    0.0  \n",
       "18235                     0.0                    0.0  \n",
       "18236                     0.0                    1.0  \n",
       "\n",
       "[18237 rows x 10 columns]"
      ]
     },
     "execution_count": 48,
     "metadata": {},
     "output_type": "execute_result"
    }
   ],
   "source": [
    "shuffled_cat_ohe"
   ]
  },
  {
   "cell_type": "markdown",
   "metadata": {},
   "source": [
    "**Combine encoded dataframe with continuous variables**"
   ]
  },
  {
   "cell_type": "code",
   "execution_count": 49,
   "metadata": {},
   "outputs": [
    {
     "data": {
      "text/plain": [
       "['city_development_index',\n",
       " 'relevent_experience',\n",
       " 'enrolled_university',\n",
       " 'education_level',\n",
       " 'experience',\n",
       " 'company_size',\n",
       " 'company_type',\n",
       " 'last_new_job',\n",
       " 'training_hours',\n",
       " 'target']"
      ]
     },
     "execution_count": 49,
     "metadata": {},
     "output_type": "execute_result"
    }
   ],
   "source": [
    "num_variable = []\n",
    "for i in shuffled_cor_df:\n",
    "    if i not in cat_variables:\n",
    "        num_variable.append(i)\n",
    "num_variable"
   ]
  },
  {
   "cell_type": "code",
   "execution_count": 50,
   "metadata": {},
   "outputs": [
    {
     "name": "stdout",
     "output_type": "stream",
     "text": [
      "<class 'pandas.core.frame.DataFrame'>\n",
      "RangeIndex: 18237 entries, 0 to 18236\n",
      "Data columns (total 20 columns):\n",
      " #   Column                            Non-Null Count  Dtype  \n",
      "---  ------                            --------------  -----  \n",
      " 0   city_development_index            18237 non-null  float64\n",
      " 1   relevent_experience               18237 non-null  object \n",
      " 2   enrolled_university               18237 non-null  float64\n",
      " 3   education_level                   18237 non-null  float64\n",
      " 4   experience                        18237 non-null  object \n",
      " 5   company_size                      18237 non-null  object \n",
      " 6   company_type                      18237 non-null  object \n",
      " 7   last_new_job                      18237 non-null  object \n",
      " 8   training_hours                    18237 non-null  int64  \n",
      " 9   target                            18237 non-null  float64\n",
      " 10  gender_Female                     18237 non-null  float64\n",
      " 11  gender_Male                       18237 non-null  float64\n",
      " 12  gender_Not provided               18237 non-null  float64\n",
      " 13  gender_Other                      18237 non-null  float64\n",
      " 14  major_discipline_Arts             18237 non-null  float64\n",
      " 15  major_discipline_Business Degree  18237 non-null  float64\n",
      " 16  major_discipline_Humanities       18237 non-null  float64\n",
      " 17  major_discipline_No Major         18237 non-null  float64\n",
      " 18  major_discipline_Other            18237 non-null  float64\n",
      " 19  major_discipline_STEM             18237 non-null  float64\n",
      "dtypes: float64(14), int64(1), object(5)\n",
      "memory usage: 2.8+ MB\n"
     ]
    }
   ],
   "source": [
    "# Combining Numeric features with the OHE Categorical features\n",
    "shuffled_num = shuffled_cor_df[num_variable]\n",
    "shuffled_cat_ohe\n",
    "shuffled_cat_ohe_df = pd.concat(\n",
    "    [shuffled_num.reset_index(drop=True), shuffled_cat_ohe.reset_index(drop=True)],\n",
    "    sort=False,\n",
    "    axis=1)\n",
    "\n",
    "# Check the final dataframe\n",
    "shuffled_cat_ohe_df.info()"
   ]
  },
  {
   "cell_type": "markdown",
   "metadata": {},
   "source": [
    "**Export encoded `shuffled_cat_ohe_df` dataframe as csv**"
   ]
  },
  {
   "cell_type": "code",
   "execution_count": 51,
   "metadata": {},
   "outputs": [],
   "source": [
    "shuffled_cat_ohe_df.to_csv('archive/shuffled_encoded.csv', index=False)"
   ]
  },
  {
   "cell_type": "markdown",
   "metadata": {},
   "source": []
  },
  {
   "cell_type": "markdown",
   "metadata": {},
   "source": [
    "---\n",
    "\n",
    "#### Dataset created from this notebook:\n",
    "\n",
    "    .\n",
    "    ├── originalDataset.csv       # original dataset\n",
    "    |   ├── shuffled_correlation.csv    # for EDA and visualization (encoded)\n",
    "    |   └── shuffled_text.csv           # for EDA and visualization (text)\n",
    "    |   └── shuffled_encoded.csv        # for analytical models (OneHotEncoding done)\n",
    "    └──|\n",
    "\n",
    " "
   ]
  },
  {
   "cell_type": "code",
   "execution_count": null,
   "metadata": {},
   "outputs": [],
   "source": []
  },
  {
   "cell_type": "code",
   "execution_count": null,
   "metadata": {},
   "outputs": [],
   "source": []
  },
  {
   "cell_type": "code",
   "execution_count": null,
   "metadata": {},
   "outputs": [],
   "source": []
  },
  {
   "cell_type": "code",
   "execution_count": null,
   "metadata": {},
   "outputs": [],
   "source": []
  },
  {
   "cell_type": "code",
   "execution_count": null,
   "metadata": {},
   "outputs": [],
   "source": []
  }
 ],
 "metadata": {
  "kernelspec": {
   "display_name": "Python 3 (ipykernel)",
   "language": "python",
   "name": "python3"
  },
  "language_info": {
   "codemirror_mode": {
    "name": "ipython",
    "version": 3
   },
   "file_extension": ".py",
   "mimetype": "text/x-python",
   "name": "python",
   "nbconvert_exporter": "python",
   "pygments_lexer": "ipython3",
   "version": "3.8.12"
  },
  "vscode": {
   "interpreter": {
    "hash": "81794d4967e6c3204c66dcd87b604927b115b27c00565d3d43f05ba2f3a2cb0d"
   }
  }
 },
 "nbformat": 4,
 "nbformat_minor": 2
}
